{
  "nbformat": 4,
  "nbformat_minor": 0,
  "metadata": {
    "colab": {
      "provenance": [],
      "authorship_tag": "ABX9TyNNw701qXbacNF3Zv9OEIuF",
      "include_colab_link": true
    },
    "kernelspec": {
      "name": "python3",
      "display_name": "Python 3"
    },
    "language_info": {
      "name": "python"
    }
  },
  "cells": [
    {
      "cell_type": "markdown",
      "metadata": {
        "id": "view-in-github",
        "colab_type": "text"
      },
      "source": [
        "<a href=\"https://colab.research.google.com/github/Nickguild1993/Working_with_PDFs/blob/main/PyMuPdf_for_ESRI_pdf_extraction.ipynb\" target=\"_parent\"><img src=\"https://colab.research.google.com/assets/colab-badge.svg\" alt=\"Open In Colab\"/></a>"
      ]
    },
    {
      "cell_type": "markdown",
      "source": [
        "Walkthrough for using different libraries for PDF extraction/manipulation"
      ],
      "metadata": {
        "id": "kweidrH9RckD"
      }
    },
    {
      "cell_type": "code",
      "source": [
        "# This function removes the annonyingly long output that occurs when !pip installing a package that's already loaded\n",
        "# Maybe I'm the only one bothered by this, haha.\n",
        "\n",
        "import importlib\n",
        "import subprocess\n",
        "\n",
        "def install_package(package_name):\n",
        "  try:\n",
        "    importlib.import_module(package_name)\n",
        "    print(f\"{package_name} is already installed.\")\n",
        "  except ImportError:\n",
        "    subprocess.check_call([\"pip\", \"install\", package_name])\n",
        "    print(f\"{package_name} installed successfully.\")"
      ],
      "metadata": {
        "id": "xr2bWsYhrWIE"
      },
      "execution_count": 1,
      "outputs": []
    },
    {
      "cell_type": "code",
      "execution_count": 19,
      "metadata": {
        "colab": {
          "base_uri": "https://localhost:8080/"
        },
        "id": "FpEpFZ3LRWc4",
        "outputId": "512b27f6-eae8-41c8-d1d3-76741e7a6f72"
      },
      "outputs": [
        {
          "output_type": "stream",
          "name": "stdout",
          "text": [
            "Drive already mounted at /content/drive; to attempt to forcibly remount, call drive.mount(\"/content/drive\", force_remount=True).\n"
          ]
        }
      ],
      "source": [
        "# import the normies\n",
        "import pandas as pd\n",
        "import numpy as np\n",
        "from google.colab import drive\n",
        "from PIL import Image\n",
        "drive.mount('/content/drive')"
      ]
    },
    {
      "cell_type": "code",
      "source": [
        "# get PDF path\n",
        "\n",
        "pdf_path = '/content/drive/MyDrive/Colab Notebooks/ESRI_related_notebooks_n_pdfs/2022_USA_ESRI_Tapestry_LifeMode_Group_Summary_Tables.pdf'"
      ],
      "metadata": {
        "id": "YEo28ValZZQT"
      },
      "execution_count": 4,
      "outputs": []
    },
    {
      "cell_type": "markdown",
      "source": [
        "#### Using PyPDF (Most basic option)"
      ],
      "metadata": {
        "id": "5KzLaVPQgGd3"
      }
    },
    {
      "cell_type": "code",
      "source": [
        "install_package('pypdf')\n",
        "from pypdf import PdfReader"
      ],
      "metadata": {
        "colab": {
          "base_uri": "https://localhost:8080/"
        },
        "id": "YqyuJuh4rZXl",
        "outputId": "cf9c7524-ecf3-42b7-8086-7fe99108ea35"
      },
      "execution_count": 5,
      "outputs": [
        {
          "output_type": "stream",
          "name": "stdout",
          "text": [
            "pypdf is already installed.\n"
          ]
        }
      ]
    },
    {
      "cell_type": "code",
      "source": [
        "# if you don't want to use the function, you can !pip install ____ normally\n",
        "\n",
        "# !pip install pypdf\n",
        "# from pypdf import PdfReader"
      ],
      "metadata": {
        "colab": {
          "base_uri": "https://localhost:8080/"
        },
        "collapsed": true,
        "id": "C3SJk4I5dD4v",
        "outputId": "cb12b4a6-e146-4164-dac3-c6f6470cd35d"
      },
      "execution_count": null,
      "outputs": [
        {
          "output_type": "stream",
          "name": "stdout",
          "text": [
            "Collecting pypdf\n",
            "  Downloading pypdf-5.1.0-py3-none-any.whl.metadata (7.2 kB)\n",
            "Requirement already satisfied: typing_extensions>=4.0 in /usr/local/lib/python3.10/dist-packages (from pypdf) (4.12.2)\n",
            "Downloading pypdf-5.1.0-py3-none-any.whl (297 kB)\n",
            "\u001b[?25l   \u001b[90m━━━━━━━━━━━━━━━━━━━━━━━━━━━━━━━━━━━━━━━━\u001b[0m \u001b[32m0.0/298.0 kB\u001b[0m \u001b[31m?\u001b[0m eta \u001b[36m-:--:--\u001b[0m\r\u001b[2K   \u001b[91m━━━━━━━━━━━━━━━━\u001b[0m\u001b[90m╺\u001b[0m\u001b[90m━━━━━━━━━━━━━━━━━━━━━━━\u001b[0m \u001b[32m122.9/298.0 kB\u001b[0m \u001b[31m4.3 MB/s\u001b[0m eta \u001b[36m0:00:01\u001b[0m\r\u001b[2K   \u001b[90m━━━━━━━━━━━━━━━━━━━━━━━━━━━━━━━━━━━━━━━━\u001b[0m \u001b[32m298.0/298.0 kB\u001b[0m \u001b[31m5.3 MB/s\u001b[0m eta \u001b[36m0:00:00\u001b[0m\n",
            "\u001b[?25hInstalling collected packages: pypdf\n",
            "Successfully installed pypdf-5.1.0\n"
          ]
        }
      ]
    },
    {
      "cell_type": "code",
      "source": [
        "# use PdfReader to get the number of pages in the pdf\n",
        "reader = PdfReader(pdf_path)\n",
        "print(f'There are {len(reader.pages)} pages in this pdf.')\n",
        "\n",
        "print(\"-----------------------\")\n",
        "\n",
        "# get access to the first page\n",
        "\n",
        "page = reader.pages[0]\n",
        "print(page.extract_text())"
      ],
      "metadata": {
        "colab": {
          "base_uri": "https://localhost:8080/"
        },
        "id": "osd6r_KTdPLC",
        "outputId": "0b37a6e4-8913-4e25-f011-4119f896a2c9"
      },
      "execution_count": 6,
      "outputs": [
        {
          "output_type": "stream",
          "name": "stdout",
          "text": [
            "There are 8 pages in this pdf.\n",
            "-----------------------\n",
            "2022 Summary Table\n",
            "Demographic Profile by LifeMode Group\n",
            "2020-22\n",
            "Ann. Pop. Pop. Average Diversity Median Never Widowed/\n",
            "Households Population Chg (%) Density1\n",
            "Household Type HH Size Index2 Age <18 18-44 45-64 65+ Married Married Divorced\n",
            "United States 128,657,669     335,707,897      0.57 95.0           2.55 71.6 38.9 21.7 36.0 24.9 17.4 33.7 50.2 16.1\n",
            "01. Affluent Estates 12,965,442       37,366,955        0.88 531.3         2.86 55.5 43.1 24.0 28.4 29.5 18.1 23.6 65.4 11.0\n",
            "1A: Top Tier 2,095,163         6,037,976          -0.05 1,007.1      Married Couples 2.85 49.3 48.2 23.4 22.3 31.4 22.9 22.0 68.1 9.9\n",
            "1B: Professional Pride 2,116,777         6,427,610          0.86 991.1         Married Couples 3.03 55.4 40.9 25.4 29.9 31.8 12.9 23.6 68.1 8.4\n",
            "1C: Boomburbs 2,465,725         7,819,423          2.58 1,198.8      Married Couples 3.16 71.8 34.3 32.0 36.9 23.3 7.8 25.8 64.3 9.9\n",
            "1D: Savvy Suburbanites 3,813,449         10,770,551        0.50 360.2         Married Couples 2.80 47.9 45.8 21.2 27.7 31.0 20.1 24.0 64.5 11.5\n",
            "1E: Exurbanites 2,474,328         6,311,395          0.40 294.5         Married Couples 2.51 47.1 52.0 18.0 23.2 30.5 28.3 22.3 63.0 14.8\n",
            "02. Upscale Avenues 7,156,348         19,543,297        0.32 1,190.5      2.70 74.2 41.1 20.6 34.5 27.0 17.9 30.9 55.6 13.5\n",
            "2A: Urban Chic 1,647,700         4,077,801          0.42 562.5         Married Couples 2.43 57.8 43.9 19.8 31.6 28.4 20.2 29.1 57.0 13.9\n",
            "2B: Pleasantville 2,730,615         7,911,394          -0.04 1,502.1      Married Couples 2.87 71.7 43.3 20.3 31.8 28.2 19.7 30.4 55.8 13.8\n",
            "2C: Pacific Heights 893,814            2,817,256          -0.03 3,191.3      Married Couples 3.12 75.7 43.4 18.9 33.1 26.7 21.3 31.2 56.1 12.7\n",
            "2D: Enterprising Professionals 1,884,219         4,736,846          1.05 1,570.4      Married Couples 2.49 78.2 36.0 22.8 42.5 23.7 11.0 33.1 53.8 13.1\n",
            "03. Uptown Individuals 5,048,100         9,729,863          1.24 7,897.3      1.87 69.8 35.7 11.8 54.6 21.0 12.7 50.3 38.1 11.5\n",
            "3A: Laptops and Lattes 1,393,362         2,749,493          0.87 10,824.8    Singles 1.92 59.2 38.2 12.5 48.7 23.2 15.7 44.3 44.7 11.0\n",
            "3B: Metro Renters 2,271,888         4,031,085          1.89 5,523.2      Singles 1.70 68.1 33.6 9.0 62.9 17.8 10.3 55.3 33.5 11.2\n",
            "3C: Trendsetters 1,382,850         2,949,285          0.70 11,882.4    Singles 2.08 78.7 37.3 14.9 48.6 23.3 13.1 48.9 38.6 12.6\n",
            "04. Family Landscapes 10,029,784       28,274,615        1.11 320.4         2.80 64.2 37.4 24.4 36.1 25.9 13.6 28.4 57.3 14.2\n",
            "4A: Workday Drive 3,928,142         11,420,075        1.24 552.9         Married Couples 2.89 61.3 37.4 25.2 35.6 27.0 12.3 26.8 61.1 12.1\n",
            "4B: Home Improvement 2,175,359         6,138,394          0.32 422.3         Married Couples 2.81 75.9 38.4 22.0 36.6 26.2 15.2 31.7 53.2 15.1\n",
            "4C: Middleburg 3,926,283         10,716,146        1.45 202.0         Married Couples 2.70 58.6 37.0 25.0 36.4 24.6 14.0 28.2 55.8 16.0\n",
            "05. GenXurban 14,390,288       35,275,199        0.20 401.7         2.41 52.8 44.3 19.1 31.7 26.4 22.7 28.9 52.8 18.2\n",
            "5A: Comfortable Empty Nesters 3,109,219         7,853,962          0.19 286.0         Married Couples 2.50 45.2 49.0 18.2 27.0 28.5 26.3 23.8 59.9 16.3\n",
            "5B: In Style 2,879,095         6,856,233          0.47 387.0         Married Couples w/No Kids 2.33 49.9 42.8 18.9 33.7 26.2 21.1 29.6 54.1 16.3\n",
            "5C: Parks and Rec 2,528,921         6,351,280          0.27 1,258.4      Married Couples 2.48 62.3 41.7 19.9 34.4 26.5 19.2 32.9 49.0 18.2\n",
            "5D: Rustbelt Traditions 2,760,960         6,782,450          0.06 658.6         Married Couples 2.43 59.4 39.8 21.4 35.4 25.2 18.0 33.0 47.4 19.6\n",
            "5E: Midlife Constants 3,112,093         7,431,274          0.03 272.3         Married Couples w/No Kids 2.31 47.1 47.8 17.6 29.4 25.6 27.5 26.9 52.1 21.0\n",
            "06. Cozy Country Living 15,123,491       38,109,665        0.27 22.0           2.49 35.2 45.8 19.7 29.4 29.1 21.8 24.4 58.9 16.8\n",
            "6A: Green Acres 4,185,053         11,190,638        0.82 74.4           Married Couples 2.66 36.4 44.8 20.6 29.7 30.3 19.4 23.8 62.6 13.6\n",
            "6B: Salt of the Earth 3,583,798         9,152,966          -0.07 57.6           Married Couples 2.53 27.5 44.9 20.0 30.1 29.0 20.9 24.0 59.9 16.1\n",
            "6C: The Great Outdoors 1,981,372         4,864,236          0.60 17.6           Married Couples 2.41 44.5 48.3 17.8 28.3 30.2 23.8 25.1 56.9 18.0\n",
            "6D: Prairie Living 1,267,725         3,233,600          -0.25 4.7            Married Couples 2.50 30.5 44.9 21.3 28.8 28.0 21.9 22.5 62.5 15.1\n",
            "6E: Rural Resort Dwellers 1,273,653         2,825,421          0.41 7.5            Married Couples w/No Kids 2.19 29.7 55.4 14.6 22.1 32.2 31.0 19.9 61.0 19.2\n",
            "6F: Heartland Communities 2,831,890         6,842,804          -0.23 84.9           Married Couples 2.36 40.3 42.9 20.6 31.9 25.7 21.9 28.0 50.4 21.5\n",
            "07. Sprouting Explorers 9,553,549         30,803,004        1.10 143.5         3.20 87.7 32.5 28.4 40.0 21.3 10.3 36.7 49.6 13.7\n",
            "7A: Up and Coming Families 3,583,932         11,018,369        2.75 1,155.7      Married Couples 3.06 81.3 32.1 29.9 41.9 20.6 7.6 32.0 55.2 12.8\n",
            "7B: Urban Villages 1,343,142         4,874,990          -0.18 324.2         Married Couples 3.59 87.4 34.6 24.8 39.0 23.3 12.9 39.0 48.3 12.7\n",
            "7C: Urban Edge Families 1,946,148         6,064,637          0.61 48.8           Married Couples 3.10 88.4 33.2 26.3 39.8 22.5 11.4 38.8 46.1 15.1\n",
            "7D: Forging Opportunity 1,347,741         4,590,494          0.25 481.2         Married Couples 3.38 83.6 29.6 31.6 39.6 19.5 9.3 40.0 46.9 13.1\n",
            "7E: Farm to Table 306,301            1,154,582          -0.06 84.7           Married Couples 3.70 77.6 28.0 33.4 40.8 17.5 8.3 42.9 46.5 10.6\n",
            "7F: Southwestern Families 1,026,285         3,099,932          0.10 72.5           Married Couples 2.98 80.5 35.2 26.1 35.6 22.1 16.3 38.3 44.2 17.5\n",
            "08. Middle Ground 14,006,165       33,942,845        0.54 521.1         2.38 75.5 36.9 21.2 39.9 23.3 15.6 38.6 43.6 17.9\n",
            "8A: City Lights 1,864,779         4,898,910          0.39 2,934.9      Married Couples 2.58 82.0 39.9 19.9 37.1 26.4 16.6 36.2 48.4 15.4\n",
            "8B: Emerald City 1,839,736         3,867,303          0.79 401.8         Singles 2.05 57.6 38.4 15.7 43.9 24.6 15.8 41.7 42.3 16.0\n",
            "8C: Bright Young Professionals 2,973,517         7,165,609          1.09 809.8         Married Couples 2.39 74.9 33.9 23.1 44.0 21.1 11.8 37.9 45.3 16.8\n",
            "8D: Downtown Melting Pot 830,340            2,425,281          0.20 26,254.1    Married Couples 2.88 80.3 38.3 20.9 38.1 24.3 16.7 34.3 52.9 12.8\n",
            "8E: Front Porches 2,041,467         5,219,183          0.30 2,137.7      Married Couples 2.52 79.0 35.8 23.6 38.9 23.3 14.2 40.0 41.4 18.6\n",
            "8F: Old and Newcomers 2,942,559         6,426,641          0.55 868.4         Singles 2.11 61.5 40.2 18.1 37.3 23.1 21.5 36.1 42.2 21.7\n",
            "8G: Hometown Heritage 1,513,767         3,939,918          -0.02 112.4         Singles 2.55 79.9 33.1 27.2 38.4 22.2 12.2 44.9 34.4 20.7\n",
            "Marital Status (%)\n",
            "Population by Age (%)\n",
            "TAPESTRY\n",
            "SEGMENTATION                                              \n",
            "esri.com/tapestry\n",
            "Copyright © 2022 Esri. All rights reserved. www.esri.com/tapestry Demo: Page 1 of 8\n"
          ]
        }
      ]
    },
    {
      "cell_type": "code",
      "source": [
        "# use For Loop to extract the text from every page\n",
        "\n",
        "for text in range(len(reader.pages)):\n",
        "  page = reader.pages[text]\n",
        "  print(page.extract_text())"
      ],
      "metadata": {
        "colab": {
          "base_uri": "https://localhost:8080/"
        },
        "collapsed": true,
        "id": "dRZVSwBpeKeq",
        "outputId": "d153f5fb-0db0-44da-c21d-8ad7a2874fb9"
      },
      "execution_count": 7,
      "outputs": [
        {
          "output_type": "stream",
          "name": "stdout",
          "text": [
            "2022 Summary Table\n",
            "Demographic Profile by LifeMode Group\n",
            "2020-22\n",
            "Ann. Pop. Pop. Average Diversity Median Never Widowed/\n",
            "Households Population Chg (%) Density1\n",
            "Household Type HH Size Index2 Age <18 18-44 45-64 65+ Married Married Divorced\n",
            "United States 128,657,669     335,707,897      0.57 95.0           2.55 71.6 38.9 21.7 36.0 24.9 17.4 33.7 50.2 16.1\n",
            "01. Affluent Estates 12,965,442       37,366,955        0.88 531.3         2.86 55.5 43.1 24.0 28.4 29.5 18.1 23.6 65.4 11.0\n",
            "1A: Top Tier 2,095,163         6,037,976          -0.05 1,007.1      Married Couples 2.85 49.3 48.2 23.4 22.3 31.4 22.9 22.0 68.1 9.9\n",
            "1B: Professional Pride 2,116,777         6,427,610          0.86 991.1         Married Couples 3.03 55.4 40.9 25.4 29.9 31.8 12.9 23.6 68.1 8.4\n",
            "1C: Boomburbs 2,465,725         7,819,423          2.58 1,198.8      Married Couples 3.16 71.8 34.3 32.0 36.9 23.3 7.8 25.8 64.3 9.9\n",
            "1D: Savvy Suburbanites 3,813,449         10,770,551        0.50 360.2         Married Couples 2.80 47.9 45.8 21.2 27.7 31.0 20.1 24.0 64.5 11.5\n",
            "1E: Exurbanites 2,474,328         6,311,395          0.40 294.5         Married Couples 2.51 47.1 52.0 18.0 23.2 30.5 28.3 22.3 63.0 14.8\n",
            "02. Upscale Avenues 7,156,348         19,543,297        0.32 1,190.5      2.70 74.2 41.1 20.6 34.5 27.0 17.9 30.9 55.6 13.5\n",
            "2A: Urban Chic 1,647,700         4,077,801          0.42 562.5         Married Couples 2.43 57.8 43.9 19.8 31.6 28.4 20.2 29.1 57.0 13.9\n",
            "2B: Pleasantville 2,730,615         7,911,394          -0.04 1,502.1      Married Couples 2.87 71.7 43.3 20.3 31.8 28.2 19.7 30.4 55.8 13.8\n",
            "2C: Pacific Heights 893,814            2,817,256          -0.03 3,191.3      Married Couples 3.12 75.7 43.4 18.9 33.1 26.7 21.3 31.2 56.1 12.7\n",
            "2D: Enterprising Professionals 1,884,219         4,736,846          1.05 1,570.4      Married Couples 2.49 78.2 36.0 22.8 42.5 23.7 11.0 33.1 53.8 13.1\n",
            "03. Uptown Individuals 5,048,100         9,729,863          1.24 7,897.3      1.87 69.8 35.7 11.8 54.6 21.0 12.7 50.3 38.1 11.5\n",
            "3A: Laptops and Lattes 1,393,362         2,749,493          0.87 10,824.8    Singles 1.92 59.2 38.2 12.5 48.7 23.2 15.7 44.3 44.7 11.0\n",
            "3B: Metro Renters 2,271,888         4,031,085          1.89 5,523.2      Singles 1.70 68.1 33.6 9.0 62.9 17.8 10.3 55.3 33.5 11.2\n",
            "3C: Trendsetters 1,382,850         2,949,285          0.70 11,882.4    Singles 2.08 78.7 37.3 14.9 48.6 23.3 13.1 48.9 38.6 12.6\n",
            "04. Family Landscapes 10,029,784       28,274,615        1.11 320.4         2.80 64.2 37.4 24.4 36.1 25.9 13.6 28.4 57.3 14.2\n",
            "4A: Workday Drive 3,928,142         11,420,075        1.24 552.9         Married Couples 2.89 61.3 37.4 25.2 35.6 27.0 12.3 26.8 61.1 12.1\n",
            "4B: Home Improvement 2,175,359         6,138,394          0.32 422.3         Married Couples 2.81 75.9 38.4 22.0 36.6 26.2 15.2 31.7 53.2 15.1\n",
            "4C: Middleburg 3,926,283         10,716,146        1.45 202.0         Married Couples 2.70 58.6 37.0 25.0 36.4 24.6 14.0 28.2 55.8 16.0\n",
            "05. GenXurban 14,390,288       35,275,199        0.20 401.7         2.41 52.8 44.3 19.1 31.7 26.4 22.7 28.9 52.8 18.2\n",
            "5A: Comfortable Empty Nesters 3,109,219         7,853,962          0.19 286.0         Married Couples 2.50 45.2 49.0 18.2 27.0 28.5 26.3 23.8 59.9 16.3\n",
            "5B: In Style 2,879,095         6,856,233          0.47 387.0         Married Couples w/No Kids 2.33 49.9 42.8 18.9 33.7 26.2 21.1 29.6 54.1 16.3\n",
            "5C: Parks and Rec 2,528,921         6,351,280          0.27 1,258.4      Married Couples 2.48 62.3 41.7 19.9 34.4 26.5 19.2 32.9 49.0 18.2\n",
            "5D: Rustbelt Traditions 2,760,960         6,782,450          0.06 658.6         Married Couples 2.43 59.4 39.8 21.4 35.4 25.2 18.0 33.0 47.4 19.6\n",
            "5E: Midlife Constants 3,112,093         7,431,274          0.03 272.3         Married Couples w/No Kids 2.31 47.1 47.8 17.6 29.4 25.6 27.5 26.9 52.1 21.0\n",
            "06. Cozy Country Living 15,123,491       38,109,665        0.27 22.0           2.49 35.2 45.8 19.7 29.4 29.1 21.8 24.4 58.9 16.8\n",
            "6A: Green Acres 4,185,053         11,190,638        0.82 74.4           Married Couples 2.66 36.4 44.8 20.6 29.7 30.3 19.4 23.8 62.6 13.6\n",
            "6B: Salt of the Earth 3,583,798         9,152,966          -0.07 57.6           Married Couples 2.53 27.5 44.9 20.0 30.1 29.0 20.9 24.0 59.9 16.1\n",
            "6C: The Great Outdoors 1,981,372         4,864,236          0.60 17.6           Married Couples 2.41 44.5 48.3 17.8 28.3 30.2 23.8 25.1 56.9 18.0\n",
            "6D: Prairie Living 1,267,725         3,233,600          -0.25 4.7            Married Couples 2.50 30.5 44.9 21.3 28.8 28.0 21.9 22.5 62.5 15.1\n",
            "6E: Rural Resort Dwellers 1,273,653         2,825,421          0.41 7.5            Married Couples w/No Kids 2.19 29.7 55.4 14.6 22.1 32.2 31.0 19.9 61.0 19.2\n",
            "6F: Heartland Communities 2,831,890         6,842,804          -0.23 84.9           Married Couples 2.36 40.3 42.9 20.6 31.9 25.7 21.9 28.0 50.4 21.5\n",
            "07. Sprouting Explorers 9,553,549         30,803,004        1.10 143.5         3.20 87.7 32.5 28.4 40.0 21.3 10.3 36.7 49.6 13.7\n",
            "7A: Up and Coming Families 3,583,932         11,018,369        2.75 1,155.7      Married Couples 3.06 81.3 32.1 29.9 41.9 20.6 7.6 32.0 55.2 12.8\n",
            "7B: Urban Villages 1,343,142         4,874,990          -0.18 324.2         Married Couples 3.59 87.4 34.6 24.8 39.0 23.3 12.9 39.0 48.3 12.7\n",
            "7C: Urban Edge Families 1,946,148         6,064,637          0.61 48.8           Married Couples 3.10 88.4 33.2 26.3 39.8 22.5 11.4 38.8 46.1 15.1\n",
            "7D: Forging Opportunity 1,347,741         4,590,494          0.25 481.2         Married Couples 3.38 83.6 29.6 31.6 39.6 19.5 9.3 40.0 46.9 13.1\n",
            "7E: Farm to Table 306,301            1,154,582          -0.06 84.7           Married Couples 3.70 77.6 28.0 33.4 40.8 17.5 8.3 42.9 46.5 10.6\n",
            "7F: Southwestern Families 1,026,285         3,099,932          0.10 72.5           Married Couples 2.98 80.5 35.2 26.1 35.6 22.1 16.3 38.3 44.2 17.5\n",
            "08. Middle Ground 14,006,165       33,942,845        0.54 521.1         2.38 75.5 36.9 21.2 39.9 23.3 15.6 38.6 43.6 17.9\n",
            "8A: City Lights 1,864,779         4,898,910          0.39 2,934.9      Married Couples 2.58 82.0 39.9 19.9 37.1 26.4 16.6 36.2 48.4 15.4\n",
            "8B: Emerald City 1,839,736         3,867,303          0.79 401.8         Singles 2.05 57.6 38.4 15.7 43.9 24.6 15.8 41.7 42.3 16.0\n",
            "8C: Bright Young Professionals 2,973,517         7,165,609          1.09 809.8         Married Couples 2.39 74.9 33.9 23.1 44.0 21.1 11.8 37.9 45.3 16.8\n",
            "8D: Downtown Melting Pot 830,340            2,425,281          0.20 26,254.1    Married Couples 2.88 80.3 38.3 20.9 38.1 24.3 16.7 34.3 52.9 12.8\n",
            "8E: Front Porches 2,041,467         5,219,183          0.30 2,137.7      Married Couples 2.52 79.0 35.8 23.6 38.9 23.3 14.2 40.0 41.4 18.6\n",
            "8F: Old and Newcomers 2,942,559         6,426,641          0.55 868.4         Singles 2.11 61.5 40.2 18.1 37.3 23.1 21.5 36.1 42.2 21.7\n",
            "8G: Hometown Heritage 1,513,767         3,939,918          -0.02 112.4         Singles 2.55 79.9 33.1 27.2 38.4 22.2 12.2 44.9 34.4 20.7\n",
            "Marital Status (%)\n",
            "Population by Age (%)\n",
            "TAPESTRY\n",
            "SEGMENTATION                                              \n",
            "esri.com/tapestry\n",
            "Copyright © 2022 Esri. All rights reserved. www.esri.com/tapestry Demo: Page 1 of 8\n",
            "2022 Summary Table\n",
            "Demographic Profile by LifeMode Group\n",
            "2020-22\n",
            "Ann. Pop. Pop. Average Diversity Median Never Widowed/\n",
            "Households Population Chg (%) Density1\n",
            "Household Type HH Size Index2 Age <18 18-44 45-64 65+ Married Married Divorced\n",
            "United States 128,657,669     335,707,897      0.57 95.0           2.55 71.6 38.9 21.7 36.0 24.9 17.4 33.7 50.2 16.1\n",
            "Marital Status (%)\n",
            "Population by Age (%)\n",
            "TAPESTRY\n",
            "SEGMENTATION                                              \n",
            "esri.com/tapestry\n",
            "09. Senior Styles 7,416,448         15,406,587        1.11 96.6           1.99 57.8 58.9 12.0 23.4 24.5 40.2 26.3 48.6 25.1\n",
            "9A: Silver & Gold 1,023,955         2,096,602          1.18 115.2         Married Couples w/No Kids 2.03 33.4 64.6 8.7 14.0 28.2 49.1 15.2 65.7 19.1\n",
            "9B: Golden Years 1,699,402         3,737,612          0.80 1,093.3      Singles 2.11 54.9 53.4 14.3 26.5 26.1 33.1 26.7 51.3 22.0\n",
            "9C: The Elders 937,356            1,661,908          1.09 486.6         Married Couples w/No Kids 1.72 38.7 73.2 3.0 6.4 16.1 74.5 12.0 57.0 31.0\n",
            "9D: Senior Escapes 1,149,233         2,583,912          0.79 20.5           Married Couples w/No Kids 2.20 55.6 56.2 14.4 22.9 27.9 34.9 23.6 51.6 24.8\n",
            "9E: Retirement Communities 1,529,877         3,183,881          1.08 448.9         Singles 1.95 60.7 55.2 12.9 27.4 22.0 37.6 30.2 41.1 28.7\n",
            "9F: Social Security Set 1,076,625         2,142,672          2.08 1,481.6      Singles 1.80 79.4 46.4 13.7 34.8 24.1 27.3 46.5 27.0 26.6\n",
            "10. Rustic Outposts 10,158,048       26,466,343        0.24 28.3           2.55 56.2 41.3 21.4 33.1 26.8 18.7 28.2 52.9 18.9\n",
            "10A: Southern Satellites 3,976,846         10,512,260        0.59 51.6           Married Couples 2.61 49.1 41.0 21.7 33.4 27.4 17.6 26.3 55.9 17.7\n",
            "10B: Rooted Rural 2,375,526         5,886,852          -0.18 19.8           Married Couples 2.42 34.4 46.1 18.8 29.9 28.3 23.0 23.6 57.0 19.4\n",
            "10C: Economic BedRock 750,512            1,920,919          -0.51 10.7           Married Couples 2.49 50.1 42.1 21.3 32.2 26.6 19.9 26.2 54.0 19.8\n",
            "10D: Down the Road 1,483,277         4,078,587          0.88 34.1           Married Couples 2.71 79.1 35.8 25.1 36.7 23.7 14.5 34.9 46.0 19.2\n",
            "10E: Rural Bypasses 1,571,887         4,067,725          -0.34 30.4           Married Couples 2.44 62.8 41.2 20.8 33.8 26.4 18.9 34.5 45.4 20.2\n",
            "11. Midtown Singles 8,083,294         19,039,042        0.71 2,494.1      2.30 81.4 31.8 24.4 44.9 19.8 10.9 49.8 33.2 17.0\n",
            "11A: City Strivers 1,016,171         2,788,982          0.26 14,770.7    Singles 2.70 71.0 36.1 23.9 38.2 24.1 13.8 50.9 34.8 14.3\n",
            "11B: Young and Restless 2,282,070         4,696,287          1.32 3,496.1      Singles 2.03 81.1 30.6 20.0 54.9 16.7 8.4 49.4 34.7 16.0\n",
            "11C: Metro Fusion 1,874,088         4,817,941          0.71 2,835.8      Singles 2.54 86.6 29.8 28.1 44.6 18.6 8.7 46.8 36.8 16.4\n",
            "11D: Set to Impress 1,783,398         3,830,286          0.80 2,596.8      Singles 2.07 71.7 34.9 20.0 43.5 22.1 14.5 47.1 32.6 20.4\n",
            "11E: City Commons 1,127,567         2,905,546          0.08 992.5         Single Parents 2.49 58.8 29.4 31.9 37.5 19.6 11.1 58.8 23.8 17.4\n",
            "12. Hometown 7,646,023         18,921,143        -0.04 168.3         2.42 70.9 38.8 22.8 34.6 24.3 18.3 40.9 37.0 22.2\n",
            "12A: Family Foundations 1,326,115         3,521,212          0.06 1,404.7      Singles 2.62 53.8 40.3 22.3 33.0 25.2 19.5 45.3 34.7 20.0\n",
            "12B: Traditional Living 2,424,030         5,993,732          -0.20 160.2         Married Couples 2.44 65.0 36.3 23.9 37.6 23.9 14.6 37.7 41.4 20.8\n",
            "12C: Small Town Sincerity 2,299,653         5,400,573          0.08 82.9           Singles 2.25 58.0 41.5 20.6 33.2 24.1 22.1 33.5 41.1 25.4\n",
            "12D: Modest Income Homes 1,596,225         4,005,626          -0.01 545.1         Singles 2.44 46.8 37.9 24.6 33.4 24.5 17.5 51.8 26.5 21.7\n",
            "13. Next Wave 5,058,290         15,593,482        0.09 1,943.2      3.04 86.8 30.5 28.7 42.6 19.6 9.1 47.7 39.9 12.3\n",
            "13A: Diverse Convergence 1,599,232         4,681,995          0.27 8,847.6      Married Couples w/ Kids 2.89 88.3 33.5 24.9 42.7 21.9 10.6 44.0 43.4 12.6\n",
            "13B: Family Extensions 941,430            3,535,461          -0.27 6,645.1      Married Couples 3.72 75.9 28.9 30.9 42.6 18.7 7.8 46.8 43.2 10.1\n",
            "13C: NeWest Residents 1,030,730         3,111,874          0.22 557.6         Married Couples w/ Kids 2.97 85.7 27.7 31.9 45.9 16.0 6.1 48.5 40.0 11.5\n",
            "13D: Fresh Ambitions 846,205            2,540,215          -0.03 2,047.1      Single Parents 2.95 88.4 29.4 30.6 40.8 19.5 9.0 51.3 34.2 14.5\n",
            "13E: High Rise Renters 640,693            1,723,937          0.24 12,150.7    Single Parents 2.62 86.8 33.4 26.2 39.2 21.6 13.0 53.7 32.0 14.4\n",
            "14. Scholars and Patriots 2,017,941         6,594,339          0.42 445.1         2.18 66.4 22.9 10.3 76.7 7.7 5.4 74.2 19.7 6.2\n",
            "14A: Military Proximity 188,485            909,752             -0.35 74.1           Married Couples 3.11 73.0 22.7 26.9 69.2 3.3 0.6 46.8 49.2 4.1\n",
            "14B: College Towns 1,201,232         2,960,568          0.79 1,468.4      Singles 2.08 64.2 24.7 11.0 65.7 13.3 9.9 65.7 24.2 10.2\n",
            "14C: Dorms to Diplomas 628,224            2,724,019          0.29 5,201.3      Nonfam HHs w/ 2+ Persons 2.10 66.0 21.7 3.8 91.1 3.1 2.0 89.8 7.5 2.7\n",
            "* Segment 15, Unclassified, is not displayed in the Summary Table.\n",
            "1 Population density is population per square mile.\n",
            "2 The Diversity Index summarizes racial and ethnic diversity. The index shows the likelihood that two persons, chosen at random from the same area, belong to different \n",
            "   race or ethnic groups. The index ranges from 0 (no diversity) to 100 (complete diversity). For example, the diversity score for the U.S. is 71.6 which means there is a 71.6 percent\n",
            "   probability that two people randomly chosen from the U.S. population would belong to different race or ethnic groups.\n",
            "Copyright © 2022 Esri. All rights reserved. www.esri.com/tapestry Demo: Page 2 of 8\n",
            "2022 Summary Table\n",
            "Education Profile by LifeMode Group\n",
            "Public \n",
            "School\n",
            "Private \n",
            "School\n",
            "Public \n",
            "School\n",
            "Private \n",
            "School\n",
            "United States 1.5 1.3 10.3 5.4 5.7 1.4 74.5 41.5 8.0 41.8 8.7 4.1 5.9 23.1 4.0 18.3 9.4 21.7 13.4\n",
            "01. Affluent Estates 2.0 1.3 11.9 6.7 4.5 1.4 72.1 39.5 11.0 38.3 11.2 1.1 1.7 12.0 1.4 13.9 7.9 34.8 27.1\n",
            "1A: Top Tier 2.3 1.4 12.0 7.0 4.0 1.3 72.0 35.2 15.9 33.1 15.9 0.7 1.0 7.0 0.7 8.9 4.7 37.3 39.7\n",
            "1B: Professional Pride 2.1 1.4 13.0 7.7 4.5 1.5 69.9 40.6 9.9 39.3 10.2 0.9 1.3 10.0 1.1 12.3 7.4 38.3 28.6\n",
            "1C: Boomburbs 2.4 1.7 15.3 7.6 5.0 1.6 66.4 42.4 7.9 41.5 8.3 1.4 1.9 11.8 1.6 15.7 9.2 35.9 22.5\n",
            "1D: Savvy Suburbanites 1.8 1.2 10.7 6.2 4.6 1.4 74.1 40.0 10.5 38.9 10.6 1.2 2.0 15.4 1.8 15.7 9.3 32.2 22.5\n",
            "1E: Exurbanites 1.6 1.0 9.2 5.2 4.4 1.3 77.3 37.3 12.9 36.5 13.3 1.1 1.9 12.9 1.6 15.0 7.9 32.8 26.8\n",
            "02. Upscale Avenues 1.8 1.2 9.6 5.1 5.5 1.8 74.9 38.8 11.0 38.1 12.1 2.6 3.0 16.4 1.9 15.1 8.5 30.6 21.9\n",
            "2A: Urban Chic 2.2 1.2 9.6 5.0 4.9 2.0 75.1 34.0 15.5 33.4 17.1 1.3 1.6 8.9 1.1 11.3 6.0 36.1 33.8\n",
            "2B: Pleasantville 1.7 1.1 9.6 5.4 5.5 1.5 75.2 40.0 9.8 39.1 11.2 2.8 3.6 21.3 2.5 17.4 9.7 26.2 16.5\n",
            "2C: Pacific Heights 1.6 1.1 9.0 4.9 6.3 1.5 75.5 39.9 10.5 38.5 11.1 4.7 4.2 18.8 2.0 15.3 9.3 29.7 16.0\n",
            "2D: Enterprising Professionals 2.0 1.5 10.1 4.8 5.3 2.3 74.0 40.3 9.5 40.3 10.0 2.1 2.5 12.8 1.6 14.4 8.0 34.2 24.5\n",
            "03. Uptown Individuals 1.4 0.7 4.6 2.1 5.6 4.8 80.8 29.6 18.4 30.7 21.3 2.0 2.1 7.8 1.3 10.1 4.8 39.5 32.4\n",
            "3A: Laptops and Lattes 1.8 0.9 5.4 2.2 4.5 3.8 81.4 23.3 23.5 25.2 27.9 1.1 1.2 5.1 0.7 7.2 3.3 40.8 40.6\n",
            "3B: Metro Renters 1.0 0.6 3.1 1.4 6.7 6.5 80.7 29.5 18.3 30.7 21.4 1.3 1.8 6.8 1.4 10.4 5.0 41.0 32.4\n",
            "3C: Trendsetters 1.6 0.9 5.9 2.8 5.2 3.4 80.3 34.9 14.2 35.2 15.7 3.8 3.5 11.9 1.8 12.3 5.8 36.1 24.7\n",
            "04. Family Landscapes 1.7 1.4 11.9 6.3 4.9 1.2 72.5 42.3 7.3 42.4 7.9 2.3 4.2 21.9 3.7 20.6 11.4 23.7 12.2\n",
            "4A: Workday Drive 1.8 1.4 12.3 6.7 5.0 1.4 71.3 42.0 8.0 41.6 8.4 1.7 2.9 18.1 2.6 19.0 11.2 28.7 15.8\n",
            "4B: Home Improvement 1.6 1.3 10.9 6.0 5.4 1.2 73.6 42.5 6.7 43.2 7.7 2.9 4.6 23.1 3.8 21.9 11.5 22.1 10.2\n",
            "4C: Middleburg 1.6 1.4 12.1 6.0 4.6 1.1 73.1 42.7 6.9 42.9 7.5 2.6 5.4 25.2 4.7 21.5 11.7 19.4 9.5\n",
            "05. GenXurban 1.5 1.1 9.4 5.0 4.7 1.2 77.1 40.6 8.8 40.9 9.7 2.1 4.2 23.8 3.8 19.4 10.8 22.4 13.5\n",
            "5A: Comfortable Empty Nesters 1.4 1.1 9.2 5.2 4.2 1.1 77.8 40.5 9.4 39.9 10.2 1.5 3.2 22.1 3.0 19.0 11.2 24.7 15.2\n",
            "5B: In Style 1.7 1.2 9.2 4.8 5.8 1.8 75.6 38.7 10.7 38.6 12.0 1.3 2.5 15.9 2.4 16.9 9.4 30.1 21.6\n",
            "5C: Parks and Rec 1.4 1.2 9.4 5.0 4.6 1.2 77.1 41.2 7.9 42.1 8.8 2.8 5.1 27.2 4.2 19.7 10.6 20.1 10.3\n",
            "5D: Rustbelt Traditions 1.5 1.3 10.2 5.2 4.6 1.1 76.2 41.9 7.3 42.7 8.0 2.7 5.5 27.5 5.1 21.6 11.5 17.7 8.4\n",
            "5E: Midlife Constants 1.3 1.0 8.9 4.7 4.7 1.0 78.3 40.8 8.5 41.2 9.5 2.4 4.9 26.7 4.3 20.0 11.2 19.2 11.3\n",
            "06. Cozy Country Living 1.4 1.1 9.9 5.3 3.4 0.7 78.2 42.5 7.2 42.6 7.7 2.5 5.3 29.5 4.6 19.8 11.4 17.6 9.3\n",
            "6A: Green Acres 1.5 1.2 10.6 5.8 3.8 1.0 76.2 41.8 8.2 41.3 8.6 1.7 3.9 25.1 3.6 19.5 11.5 22.5 12.2\n",
            "6B: Salt of the Earth 1.3 1.1 10.1 5.4 3.3 0.7 78.1 42.3 7.2 42.7 7.9 2.7 5.8 33.8 5.0 19.0 11.6 14.7 7.4\n",
            "6C: The Great Outdoors 1.1 1.0 8.5 4.7 3.6 0.8 80.3 42.0 7.9 41.8 8.3 2.2 5.3 25.5 4.7 21.0 11.0 19.0 11.3\n",
            "6D: Prairie Living 1.5 1.3 11.0 5.5 2.6 0.6 77.4 42.9 6.8 43.1 7.1 3.7 4.9 31.2 4.1 20.4 12.8 16.5 6.5\n",
            "6E: Rural Resort Dwellers 0.9 0.8 7.0 3.9 2.5 0.6 84.4 42.4 7.3 42.5 7.7 2.0 5.2 27.3 4.4 21.0 10.7 18.2 11.1\n",
            "6F: Heartland Communities 1.4 1.3 10.2 5.2 3.3 0.6 77.9 44.2 5.2 44.8 5.8 3.3 7.3 34.0 6.0 19.9 11.1 12.5 6.0\n",
            "07. Sprouting Explorers 1.6 1.6 13.2 6.8 5.7 1.0 70.0 44.5 4.8 45.4 5.4 10.2 9.0 24.5 4.2 19.4 9.3 16.4 7.0\n",
            "7A: Up and Coming Families 1.9 1.7 14.2 6.8 5.9 1.5 68.0 43.0 6.2 44.0 6.8 3.2 4.3 19.9 3.4 21.5 11.7 24.4 11.5\n",
            "7B: Urban Villages 1.4 1.3 10.8 6.3 7.1 1.1 72.1 44.2 4.9 45.3 5.6 12.1 9.7 26.3 3.3 19.0 8.5 15.4 5.8\n",
            "7C: Urban Edge Families 1.5 1.5 12.7 6.6 5.6 1.0 71.1 44.3 5.0 45.1 5.6 7.7 9.1 27.5 4.9 20.7 10.0 14.2 5.8\n",
            "7D: Forging Opportunity 1.6 1.8 14.9 7.5 4.7 0.5 69.0 46.4 3.0 47.3 3.4 18.8 14.8 27.6 5.5 16.3 6.2 8.0 2.7\n",
            "7E: Farm to Table 1.6 1.9 15.4 7.7 4.8 0.4 68.2 47.5 2.2 48.0 2.3 30.6 14.5 23.8 4.0 14.0 5.3 5.8 1.9\n",
            "7F: Southwestern Families 1.5 1.5 11.9 6.3 4.9 0.7 73.2 46.3 3.3 46.5 3.9 17.6 14.0 27.4 5.2 15.8 6.7 9.9 3.5\n",
            "08. Middle Ground 1.6 1.3 9.7 4.7 5.8 1.7 75.3 40.8 8.3 41.7 9.2 4.2 6.0 22.6 4.1 18.9 9.5 22.1 12.7\n",
            "8A: City Lights 1.7 1.2 8.9 4.7 5.9 1.7 75.9 39.7 9.6 39.5 11.2 4.5 4.8 21.2 2.7 16.8 8.6 25.7 15.7\n",
            "8B: Emerald City 1.6 0.9 6.8 3.3 6.5 3.3 77.5 36.9 12.3 37.5 13.3 1.5 2.6 12.4 2.2 15.1 7.7 33.7 24.9\n",
            "8C: Bright Young Professionals 1.6 1.3 10.3 4.9 6.3 1.9 73.7 41.5 7.0 43.6 7.9 2.6 4.2 20.7 3.6 21.4 11.1 24.3 12.1\n",
            "8D: Downtown Melting Pot 1.7 1.4 9.6 4.8 5.8 1.6 75.1 36.1 14.1 35.5 14.3 10.3 7.9 23.7 2.7 11.8 7.8 23.4 12.4\n",
            "8E: Front Porches 1.5 1.4 10.9 5.3 5.0 1.1 74.7 43.4 5.9 43.7 6.9 5.3 7.8 27.7 5.4 21.2 9.9 15.6 7.2\n",
            "8F: Old and Newcomers 1.3 1.1 8.3 4.1 6.6 1.6 77.0 39.9 8.7 41.8 9.6 2.5 5.0 22.7 4.1 21.0 10.4 21.7 12.5\n",
            "8G: Hometown Heritage 1.6 1.6 12.9 5.9 4.0 0.6 73.5 44.7 4.8 45.4 5.1 7.5 13.1 31.6 7.9 19.7 8.3 8.3 3.5 Grad/Prof \n",
            "Degree\n",
            "GED/Alt. \n",
            "Credential\n",
            "9-12th \n",
            "Grade/No \n",
            "Diploma\n",
            "High \n",
            "School \n",
            "Diploma\n",
            "Some \n",
            "College/\n",
            "No Degree\n",
            "Associate \n",
            "Degree\n",
            "Bachelor's \n",
            "Degree\n",
            "Female\n",
            "Less than \n",
            "9th Grade\n",
            "Grade 9-\n",
            "12\n",
            "College\n",
            "Grad/Prof \n",
            "School\n",
            "Nursery/\n",
            "Preschool\n",
            "Kinder-\n",
            "garten\n",
            "Grade 1-8\n",
            "Not \n",
            "Enrolled \n",
            "in School\n",
            "Male\n",
            "TAPESTRY\n",
            "SEGMENTATION                                              \n",
            "esri.com/tapestry\n",
            "School Enrollment (%)1 Educational Attainment (%)\n",
            "By Level of School By Sex and Type of School\n",
            "Copyright © 2022 Esri. All rights reserved. www.esri.com/tapestry Educ: Page 3 of 8\n",
            "2022 Summary Table\n",
            "Education Profile by LifeMode Group\n",
            "Public \n",
            "School\n",
            "Private \n",
            "School\n",
            "Public \n",
            "School\n",
            "Private \n",
            "School\n",
            "United States 1.5 1.3 10.3 5.4 5.7 1.4 74.5 41.5 8.0 41.8 8.7 4.1 5.9 23.1 4.0 18.3 9.4 21.7 13.4Grad/Prof \n",
            "Degree\n",
            "GED/Alt. \n",
            "Credential\n",
            "9-12th \n",
            "Grade/No \n",
            "Diploma\n",
            "High \n",
            "School \n",
            "Diploma\n",
            "Some \n",
            "College/\n",
            "No Degree\n",
            "Associate \n",
            "Degree\n",
            "Bachelor's \n",
            "Degree\n",
            "Female\n",
            "Less than \n",
            "9th Grade\n",
            "Grade 9-\n",
            "12\n",
            "College\n",
            "Grad/Prof \n",
            "School\n",
            "Nursery/\n",
            "Preschool\n",
            "Kinder-\n",
            "garten\n",
            "Grade 1-8\n",
            "Not \n",
            "Enrolled \n",
            "in School\n",
            "Male\n",
            "TAPESTRY\n",
            "SEGMENTATION                                              \n",
            "esri.com/tapestry\n",
            "School Enrollment (%)1 Educational Attainment (%)\n",
            "By Level of School By Sex and Type of School\n",
            "09. Senior Styles 1.0 0.7 5.9 3.2 4.1 1.2 84.0 38.5 10.5 38.9 12.1 3.0 5.4 22.7 3.6 18.7 8.7 22.2 15.8\n",
            "9A: Silver & Gold 0.6 0.5 4.5 2.7 2.5 0.8 88.4 38.4 11.6 38.1 11.9 1.0 2.6 16.9 2.2 18.2 9.0 28.2 22.0\n",
            "9B: Golden Years 1.4 0.9 7.1 3.8 4.8 1.6 80.4 35.8 13.1 35.6 15.5 1.8 2.8 16.5 2.0 15.2 7.8 29.9 24.0\n",
            "9C: The Elders 0.3 0.2 1.9 1.1 1.8 0.5 94.3 36.2 12.0 38.6 13.2 1.9 4.3 26.1 3.1 20.6 9.0 20.5 14.5\n",
            "9D: Senior Escapes 0.9 0.8 7.2 3.8 2.9 0.5 83.9 43.1 6.5 43.2 7.1 3.5 8.5 29.6 6.1 22.6 9.9 12.9 6.9\n",
            "9E: Retirement Communities 1.0 0.8 6.4 3.3 5.1 1.3 82.2 39.0 10.0 39.7 11.3 3.3 5.2 24.8 3.5 18.8 9.3 21.4 13.7\n",
            "9F: Social Security Set 1.0 0.9 5.9 3.1 6.4 1.8 81.0 38.5 9.9 39.8 11.8 7.6 10.7 24.8 5.9 18.3 7.3 15.9 9.6\n",
            "10. Rustic Outposts 1.2 1.3 10.6 5.5 3.4 0.6 77.4 44.1 5.6 44.3 6.0 5.3 10.1 32.4 7.2 19.3 9.6 10.7 5.4\n",
            "10A: Southern Satellites 1.2 1.3 10.9 5.7 3.5 0.6 76.8 43.5 6.1 43.8 6.6 4.6 9.1 31.3 7.2 19.8 10.3 11.8 5.9\n",
            "10B: Rooted Rural 1.1 1.1 9.4 5.1 2.8 0.5 80.0 43.8 6.3 43.6 6.3 4.5 9.0 34.2 7.2 18.8 9.6 10.9 5.8\n",
            "10C: Economic BedRock 1.2 1.2 11.0 5.4 3.0 0.5 77.6 45.3 4.6 45.2 5.0 6.0 10.7 34.9 7.3 18.2 8.5 9.5 4.9\n",
            "10D: Down the Road 1.4 1.5 12.3 6.1 4.0 0.6 74.0 45.0 4.6 45.4 5.1 7.3 11.3 30.1 7.0 20.4 8.9 10.3 4.7\n",
            "10E: Rural Bypasses 1.3 1.2 9.9 5.4 3.3 0.5 78.4 44.5 5.2 44.8 5.4 6.3 12.7 33.5 7.7 18.0 8.7 8.5 4.6\n",
            "11. Midtown Singles 1.7 1.5 10.6 4.8 6.6 1.9 73.0 41.7 6.4 44.2 7.6 5.0 8.0 24.7 4.8 20.5 9.3 18.4 9.3\n",
            "11A: City Strivers 1.8 1.4 10.6 5.5 5.9 1.5 73.3 39.8 7.5 43.0 9.6 5.8 8.0 27.5 5.0 18.3 8.3 17.4 9.6\n",
            "11B: Young and Restless 1.4 1.2 8.0 3.5 8.0 3.2 74.7 40.5 7.2 44.1 8.2 3.0 4.5 18.4 3.4 20.4 10.3 26.5 13.6\n",
            "11C: Metro Fusion 1.8 1.8 12.6 5.6 5.9 1.3 71.2 44.1 4.9 45.1 5.9 7.0 9.0 26.3 4.8 21.4 9.7 15.5 6.3\n",
            "11D: Set to Impress 1.3 1.1 8.3 3.8 7.4 2.0 76.1 40.4 8.5 41.9 9.3 3.9 7.3 23.8 5.6 21.0 9.6 18.6 10.2\n",
            "11E: City Commons 2.4 2.2 14.4 6.4 5.1 0.9 68.6 42.7 4.9 46.4 6.0 5.7 14.2 31.6 6.3 20.9 7.7 9.2 4.5\n",
            "12. Hometown 1.5 1.4 10.8 5.5 4.4 0.8 75.7 43.2 5.6 44.7 6.5 4.5 10.0 31.5 6.4 21.3 9.4 11.3 5.6\n",
            "12A: Family Foundations 1.5 1.2 10.7 5.9 5.2 1.2 74.3 41.5 6.1 44.9 7.5 3.9 8.6 28.9 4.5 23.2 9.3 13.7 7.9\n",
            "12B: Traditional Living 1.5 1.5 11.2 5.5 4.3 0.8 75.2 43.8 5.6 44.3 6.3 4.0 8.7 31.6 7.0 21.3 10.5 11.8 5.1\n",
            "12C: Small Town Sincerity 1.4 1.2 9.9 4.9 4.1 0.7 77.8 43.9 5.8 44.0 6.2 4.8 9.7 31.8 7.1 20.1 9.5 11.3 5.7\n",
            "12D: Modest Income Homes 1.6 1.4 11.4 5.8 4.4 0.7 74.7 42.9 5.0 45.8 6.3 5.3 13.6 33.3 6.0 21.2 7.8 8.6 4.3\n",
            "13. Next Wave 1.7 1.7 13.0 6.4 5.8 1.0 70.4 44.8 4.7 45.2 5.3 16.6 12.5 26.7 3.9 15.7 6.5 12.8 5.2\n",
            "13A: Diverse Convergence 1.6 1.4 10.8 5.4 6.2 1.4 73.1 42.6 6.5 43.6 7.3 11.9 8.7 25.8 3.1 16.2 7.4 18.6 8.2\n",
            "13B: Family Extensions 1.7 1.7 13.6 7.4 6.4 0.7 68.6 46.6 3.0 46.9 3.4 23.2 14.9 27.4 3.0 14.6 5.5 8.8 2.6\n",
            "13C: NeWest Residents 1.8 2.0 14.8 6.7 4.7 0.7 69.3 46.3 4.2 45.0 4.5 21.1 13.7 26.2 3.8 14.7 5.6 10.8 4.1\n",
            "13D: Fresh Ambitions 1.9 1.9 14.3 6.9 5.2 0.8 69.0 44.7 4.2 46.0 5.1 14.1 14.6 29.5 5.3 17.4 6.8 8.9 3.4\n",
            "13E: High Rise Renters 1.9 1.7 12.2 6.2 6.1 1.2 70.7 43.2 5.5 44.5 6.8 13.7 14.0 24.8 6.0 15.9 7.1 13.0 5.5\n",
            "14. Scholars and Patriots 0.8 0.6 4.1 1.8 47.4 5.6 39.7 38.7 9.9 40.2 11.2 2.0 3.5 14.7 2.9 18.9 8.9 27.7 21.5\n",
            "14A: Military Proximity 2.3 1.7 10.8 3.2 9.9 1.9 70.2 45.4 9.2 37.9 7.4 0.9 1.8 16.9 2.5 29.6 15.4 22.3 10.6\n",
            "14B: College Towns 0.9 0.7 4.6 2.4 34.1 6.3 51.0 38.7 10.1 39.6 11.6 2.2 4.0 15.0 3.1 17.2 8.0 28.2 22.3\n",
            "14C: Dorms to Diplomas 0.3 0.1 1.1 0.7 75.0 6.2 16.6 37.9 9.8 40.9 11.4 2.1 3.4 11.8 2.5 16.4 6.9 30.1 26.9\n",
            "* Segment 15, Unclassified,  is not displayed in the Summary Table.\n",
            "1 2016-2020 American Community Survey\n",
            "Copyright © 2022 Esri. All rights reserved. www.esri.com/tapestry Educ: Page 4 of 8\n",
            "2022 Summary Table\n",
            "Economic Profile by LifeMode Group\n",
            "Median HH \n",
            "Income\n",
            "Median Net \n",
            "Worth\n",
            "Labor Force \n",
            "Part. Rate (%)1\n",
            "Unemploy-\n",
            "ment Rate (%)\n",
            "Agriculture/\n",
            "Mining\n",
            "Construction\n",
            "Manufact-\n",
            "uring\n",
            "Wholesale \n",
            "Trade\n",
            "Retail Trade\n",
            "Transport./\n",
            "Utilities\n",
            "Information\n",
            "Finance/Ins/\n",
            "Real Estate\n",
            "Services\n",
            "Public \n",
            "Admin.\n",
            "Mgmnt/Bus/\n",
            "Financial\n",
            "Professional\n",
            "Sales\n",
            "Admin. \n",
            "Support\n",
            "Services\n",
            "Farming/\n",
            "Forestry/\n",
            "Fishing\n",
            "Construct./\n",
            "Extraction\n",
            "Installation/\n",
            "Maint./\n",
            "Repair\n",
            "Production\n",
            "Transport/\n",
            "Mat'l Moving\n",
            "United States $72,400 $155,900 62.4 4.1 1.5 7.1 9.6 2.5 10.8 6.4 1.9 6.8 48.5 4.9 17.6 24.0 9.2 11.1 15.9 0.6 5.2 3.0 5.4 8.1\n",
            "01. Affluent Estates $143,800 $786,400 65.3 2.8 0.7 5.3 8.6 2.9 8.7 4.7 2.4 10.3 51.4 5.0 28.6 33.1 10.2 8.7 8.8 0.1 2.7 1.7 2.1 3.8\n",
            "1A: Top Tier $200,000 $1,552,600 61.1 2.8 0.5 3.8 6.9 3.0 6.7 2.9 3.1 13.6 55.6 3.9 34.7 37.2 10.3 6.6 5.8 0.1 1.6 0.8 1.1 2.0\n",
            "1B: Professional Pride $162,400 $958,800 68.6 2.6 0.7 4.6 10.1 3.2 8.6 4.5 2.5 10.7 50.6 4.6 30.9 33.4 10.5 8.2 8.0 0.1 2.1 1.4 1.9 3.4\n",
            "1C: Boomburbs $136,000 $522,700 70.0 2.8 0.9 4.9 9.0 3.0 9.5 5.7 2.4 10.1 48.9 5.6 27.3 32.1 10.3 9.3 9.7 0.1 2.5 1.9 2.4 4.4\n",
            "1D: Savvy Suburbanites $128,200 $699,800 66.2 2.8 0.7 6.3 9.1 2.9 9.2 5.2 2.1 9.0 50.1 5.3 25.9 31.4 9.8 9.7 9.9 0.2 3.6 2.3 2.6 4.6\n",
            "1E: Exurbanites $120,800 $748,400 59.3 2.7 1.0 5.8 7.4 2.6 8.5 4.3 2.1 9.6 53.6 5.2 27.2 33.3 10.2 8.8 9.4 0.3 3.0 1.7 2.2 3.9\n",
            "02. Upscale Avenues $115,900 $379,200 66.8 3.8 0.4 5.7 7.3 2.5 9.2 5.7 2.9 8.4 52.4 5.4 23.2 31.8 8.9 10.3 12.2 0.1 3.6 2.1 2.7 5.0\n",
            "2A: Urban Chic $137,300 $551,200 67.2 3.1 0.6 4.3 6.2 2.3 7.4 3.4 3.8 9.8 57.7 4.5 29.1 37.9 9.0 7.5 8.7 0.2 2.3 1.0 1.5 2.8\n",
            "2B: Pleasantville $114,300 $513,200 65.4 4.0 0.4 7.3 7.0 2.6 9.9 6.7 2.5 7.6 50.0 5.9 20.3 27.5 9.0 11.9 13.9 0.2 5.0 2.8 3.1 6.3\n",
            "2C: Pacific Heights $116,000 $430,300 60.8 4.8 0.3 5.5 8.4 3.0 10.0 7.3 2.5 7.6 50.3 5.2 19.9 28.7 9.4 11.7 14.7 0.2 3.7 2.4 3.6 5.8\n",
            "2D: Enterprising Professionals $106,600 $167,300 72.8 3.4 0.4 4.4 8.2 2.4 9.1 5.1 3.0 8.7 52.9 5.6 24.5 34.9 8.5 9.5 11.1 0.1 2.6 1.8 2.5 4.5\n",
            "03. Uptown Individuals $105,500 $78,600 73.6 3.5 0.3 2.9 4.9 2.0 7.3 3.6 4.9 10.7 59.2 4.2 29.2 39.0 8.3 7.3 9.5 0.1 1.6 0.9 1.4 2.8\n",
            "3A: Laptops and Lattes $151,600 $189,200 72.9 3.1 0.3 2.1 4.3 1.9 5.7 2.5 5.8 13.9 59.0 4.5 35.3 40.8 8.5 5.8 5.7 0.0 0.9 0.5 0.8 1.6\n",
            "3B: Metro Renters $93,000 $50,500 75.3 3.0 0.4 2.8 5.5 2.0 7.7 3.7 3.7 10.6 59.2 4.3 28.9 40.0 8.4 7.4 9.0 0.1 1.3 0.9 1.3 2.7\n",
            "3C: Trendsetters $95,900 $67,800 71.9 4.7 0.2 4.0 4.7 1.9 8.1 4.4 5.7 7.6 59.5 3.8 23.7 35.6 8.0 8.6 13.9 0.1 2.7 1.2 1.9 4.3\n",
            "04. Family Landscapes $90,200 $253,000 68.3 3.1 1.1 7.2 10.1 2.8 11.1 6.9 1.7 7.4 45.9 5.8 19.0 24.7 9.5 11.9 13.6 0.3 4.9 3.5 5.0 7.5\n",
            "4A: Workday Drive $108,300 $360,800 69.7 2.8 0.8 6.5 9.8 2.9 10.4 6.5 1.9 8.4 46.8 6.0 22.4 27.9 9.7 11.1 11.8 0.2 4.0 2.9 3.9 6.1\n",
            "4B: Home Improvement $85,800 $243,800 69.5 3.8 0.7 7.4 8.6 2.7 11.7 7.5 1.9 7.4 46.7 5.5 17.4 23.0 9.5 13.2 15.0 0.2 5.1 3.5 4.8 8.2\n",
            "4C: Middleburg $76,600 $177,100 66.0 3.1 1.6 8.0 11.3 2.6 11.6 7.0 1.5 6.2 44.4 5.8 16.2 22.2 9.3 12.0 14.9 0.5 5.7 4.1 6.4 8.7\n",
            "05. GenXurban $76,400 $219,000 63.2 3.2 0.9 6.6 10.0 2.5 11.2 6.0 1.6 6.9 48.9 5.4 17.4 25.8 9.2 11.9 14.7 0.3 4.7 3.1 5.3 7.5\n",
            "5A: Comfortable Empty Nesters $89,300 $363,500 61.0 2.8 1.0 6.5 10.1 2.6 10.6 6.0 1.6 7.5 48.5 5.8 19.8 27.6 9.5 11.6 12.5 0.3 4.4 3.2 4.6 6.5\n",
            "5B: In Style $88,900 $241,500 66.5 2.6 1.0 5.4 7.7 2.3 10.1 4.8 1.9 8.0 53.5 5.4 21.8 31.9 9.5 10.2 12.3 0.3 3.4 2.2 3.2 5.2\n",
            "5C: Parks and Rec $76,800 $185,100 66.1 4.1 0.6 7.4 9.7 2.6 11.6 6.8 1.7 6.6 47.5 5.4 15.7 23.0 8.9 12.8 16.3 0.2 5.5 3.5 5.4 8.6\n",
            "5D: Rustbelt Traditions $62,200 $152,400 65.8 3.6 0.8 7.2 11.8 2.5 12.0 6.5 1.6 6.3 46.5 4.8 13.7 21.2 8.9 13.1 17.0 0.3 5.6 3.7 7.2 9.4\n",
            "5E: Midlife Constants $64,700 $191,700 57.5 3.2 1.3 6.6 10.8 2.3 11.7 6.1 1.5 6.2 48.2 5.5 15.6 24.3 9.3 12.2 15.7 0.5 4.9 3.4 6.2 8.0\n",
            "06. Cozy Country Living $73,200 $233,300 61.6 2.9 3.8 8.8 13.4 2.5 10.7 6.7 1.2 5.3 42.3 5.1 16.5 20.7 8.4 11.0 14.6 1.2 6.5 4.2 7.6 9.2\n",
            "6A: Green Acres $94,600 $347,000 65.4 2.6 2.2 8.8 12.2 2.8 10.2 6.6 1.4 6.4 44.0 5.3 19.5 24.1 8.7 11.1 12.6 0.6 6.0 3.9 5.8 7.6\n",
            "6B: Salt of the Earth $71,700 $231,200 62.5 2.8 3.0 8.9 17.4 2.5 10.6 7.3 1.1 4.8 39.9 4.5 14.5 19.2 7.9 11.3 14.2 1.0 6.7 4.8 9.8 10.6\n",
            "6C: The Great Outdoors $73,600 $235,500 58.6 3.4 3.3 10.2 7.7 2.0 11.2 6.0 1.4 5.4 46.6 6.1 16.8 22.0 9.1 10.6 16.6 1.2 7.5 3.8 4.8 7.7\n",
            "6D: Prairie Living $68,700 $214,300 65.1 1.9 13.7 8.6 11.9 3.1 9.5 7.2 1.1 4.5 35.8 4.5 19.9 17.2 7.1 10.2 12.9 3.8 6.8 4.4 7.6 10.3\n",
            "6E: Rural Resort Dwellers $63,800 $238,900 51.7 3.1 4.2 10.2 9.6 1.9 11.3 6.0 1.3 5.6 44.4 5.5 16.7 19.9 9.5 10.2 16.6 1.6 7.5 3.8 6.0 8.1\n",
            "6F: Heartland Communities $53,600 $123,300 59.0 3.6 2.7 7.4 16.4 2.3 11.9 6.7 1.2 4.5 42.2 4.9 11.6 18.0 8.3 11.4 17.7 1.0 6.0 4.2 10.6 11.2\n",
            "07. Sprouting Explorers $70,000 $129,500 65.4 4.9 2.5 9.4 8.8 2.8 11.6 8.0 1.5 5.9 44.9 4.7 13.1 17.7 9.2 12.1 18.4 1.7 7.5 3.5 6.0 10.7\n",
            "7A: Up and Coming Families $89,500 $190,100 70.6 3.4 1.0 6.8 8.1 2.8 11.3 7.8 1.9 7.8 46.4 6.2 18.4 24.4 9.7 12.5 14.4 0.3 4.6 3.2 4.3 8.2\n",
            "7B: Urban Villages $82,900 $192,900 64.2 5.7 1.5 9.1 10.3 3.1 11.6 8.8 1.6 5.0 45.0 3.9 11.6 16.1 9.2 12.7 19.7 1.1 7.5 3.5 7.1 11.6\n",
            "7C: Urban Edge Families $63,100 $107,600 65.9 5.3 1.1 9.8 7.9 2.6 12.4 8.6 1.5 5.6 46.3 4.2 11.5 15.8 9.3 13.1 20.7 0.6 8.0 3.8 6.0 11.3\n",
            "7D: Forging Opportunity $51,700 $66,400 62.4 5.9 3.3 15.2 12.1 2.7 11.7 7.5 0.9 3.7 40.1 2.8 7.1 9.5 8.1 10.3 21.4 2.1 13.6 3.9 9.9 13.9\n",
            "7E: Farm to Table $45,300 $24,700 59.3 6.4 32.3 7.3 7.4 3.3 8.8 5.4 0.7 2.0 29.9 3.0 5.9 7.5 6.4 7.1 16.8 27.8 6.4 3.0 6.0 13.1\n",
            "7F: Southwestern Families $40,000 $34,100 55.1 6.5 2.5 11.6 6.5 2.5 12.3 8.1 1.0 4.4 47.2 3.7 7.9 12.0 9.7 11.7 24.4 1.2 10.5 3.8 6.0 12.7\n",
            "08. Middle Ground $62,100 $70,300 65.4 4.5 0.8 6.5 8.6 2.3 11.5 6.3 1.9 6.7 50.9 4.6 15.8 23.9 9.2 11.7 18.1 0.3 4.9 2.7 5.2 8.1\n",
            "8A: City Lights $88,400 $151,300 65.9 4.8 0.3 6.9 6.6 2.4 10.1 6.9 2.7 7.2 51.9 4.9 18.5 26.3 8.6 11.6 16.8 0.2 5.0 2.5 3.5 7.1\n",
            "8B: Emerald City $80,700 $113,500 72.5 2.9 0.6 4.7 6.3 2.2 9.1 4.3 2.4 8.0 57.9 4.6 22.4 34.5 8.8 9.4 13.1 0.2 2.9 1.6 2.7 4.5\n",
            "8C: Bright Young Professionals $67,400 $72,800 71.0 3.5 0.8 6.2 8.4 2.4 12.2 6.4 1.9 7.3 49.0 5.3 16.7 24.4 9.7 12.6 16.5 0.2 4.5 3.0 4.7 7.7\n",
            "8D: Downtown Melting Pot $67,500 $52,200 56.9 6.9 0.2 6.8 5.1 2.8 9.8 8.6 2.4 7.3 53.5 3.4 14.7 22.9 9.1 11.1 22.2 0.1 5.2 1.9 3.7 9.1\n",
            "8E: Front Porches $56,200 $57,400 64.9 5.4 1.0 7.9 10.1 2.4 12.6 6.8 1.5 5.4 47.8 4.4 11.9 18.3 9.0 12.4 21.1 0.6 6.2 3.3 6.9 10.3\n",
            "8F: Old and Newcomers $55,600 $62,400 62.7 3.5 0.9 5.9 8.6 2.2 12.4 5.6 1.7 6.6 51.1 5.0 15.3 24.5 9.8 12.2 17.9 0.3 4.4 2.7 5.3 7.6\n",
            "8G: Hometown Heritage $36,400 $14,300 57.6 7.3 1.0 8.2 15.0 2.3 12.8 6.5 1.1 3.9 45.9 3.1 7.6 12.1 8.7 11.1 24.8 0.6 7.2 3.2 11.5 13.2\n",
            "Employment by Occupation (%)\n",
            "TAPESTRY\n",
            "SEGMENTATION                                              \n",
            "esri.com/tapestry\n",
            "Employment by Industry (%)\n",
            "Copyright © 2022 Esri. All rights reserved. www.esri.com/tapestry Econ: Page 5 of 8\n",
            "2022 Summary Table\n",
            "Economic Profile by LifeMode Group\n",
            "Median HH \n",
            "Income\n",
            "Median Net \n",
            "Worth\n",
            "Labor Force \n",
            "Part. Rate (%)1\n",
            "Unemploy-\n",
            "ment Rate (%)\n",
            "Agriculture/\n",
            "Mining\n",
            "Construction\n",
            "Manufact-\n",
            "uring\n",
            "Wholesale \n",
            "Trade\n",
            "Retail Trade\n",
            "Transport./\n",
            "Utilities\n",
            "Information\n",
            "Finance/Ins/\n",
            "Real Estate\n",
            "Services\n",
            "Public \n",
            "Admin.\n",
            "Mgmnt/Bus/\n",
            "Financial\n",
            "Professional\n",
            "Sales\n",
            "Admin. \n",
            "Support\n",
            "Services\n",
            "Farming/\n",
            "Forestry/\n",
            "Fishing\n",
            "Construct./\n",
            "Extraction\n",
            "Installation/\n",
            "Maint./\n",
            "Repair\n",
            "Production\n",
            "Transport/\n",
            "Mat'l Moving\n",
            "United States $72,400 $155,900 62.4 4.1 1.5 7.1 9.6 2.5 10.8 6.4 1.9 6.8 48.5 4.9 17.6 24.0 9.2 11.1 15.9 0.6 5.2 3.0 5.4 8.1\n",
            "Employment by Occupation (%)\n",
            "TAPESTRY\n",
            "SEGMENTATION                                              \n",
            "esri.com/tapestry\n",
            "Employment by Industry (%)\n",
            "09. Senior Styles $58,000 $165,000 45.5 4.3 1.0 6.2 7.1 2.3 11.3 5.5 1.8 8.2 51.7 4.7 19.3 25.4 10.4 11.2 16.1 0.4 4.2 2.4 3.8 6.7\n",
            "9A: Silver & Gold $89,600 $551,300 41.3 3.1 1.1 7.0 5.7 2.5 11.1 4.7 1.6 10.9 51.0 4.4 25.6 25.7 12.9 9.9 12.2 0.5 3.9 2.4 2.3 4.7\n",
            "9B: Golden Years $89,000 $267,900 55.3 3.3 0.5 4.8 6.9 2.5 9.6 4.8 2.3 9.7 53.8 5.0 24.6 32.2 10.2 10.0 11.5 0.1 2.9 1.7 2.4 4.5\n",
            "9C: The Elders $55,100 $316,200 25.4 4.3 0.7 6.0 5.3 2.5 13.5 5.9 1.6 9.3 50.9 4.3 18.2 21.7 13.0 13.0 17.0 0.3 3.9 2.4 2.8 7.6\n",
            "9D: Senior Escapes $50,000 $163,900 45.6 5.0 2.6 9.7 6.9 2.1 13.1 6.5 1.3 5.3 47.1 5.4 13.2 17.3 10.0 12.3 20.2 1.3 7.4 4.1 4.8 9.4\n",
            "9E: Retirement Communities $53,100 $91,200 49.5 3.9 0.8 5.6 8.5 2.5 11.8 5.9 1.6 7.7 51.1 4.5 16.8 25.2 9.8 12.3 16.7 0.4 4.1 2.5 4.8 7.4\n",
            "9F: Social Security Set $24,000 $10,900 44.3 7.3 0.6 5.1 7.9 1.8 11.4 5.9 2.1 5.8 55.2 4.2 13.3 21.9 8.9 11.3 23.7 0.3 4.1 2.0 5.5 8.9\n",
            "10. Rustic Outposts $53,600 $129,100 55.9 4.2 3.8 10.0 13.7 2.3 11.6 7.5 1.0 4.2 40.6 5.3 11.8 16.7 8.4 11.0 16.9 1.3 8.2 4.9 9.3 11.5\n",
            "10A: Southern Satellites $60,200 $162,000 58.9 3.7 3.0 10.4 13.9 2.5 11.5 7.8 1.0 4.4 40.3 5.2 12.7 17.3 8.5 11.3 15.7 1.0 8.0 5.2 9.0 11.2\n",
            "10B: Rooted Rural $54,000 $155,300 53.5 3.7 4.8 9.7 15.0 2.1 11.2 7.5 0.9 4.0 39.3 5.5 12.3 17.5 7.9 10.7 15.8 1.8 7.9 5.0 9.8 11.4\n",
            "10C: Economic BedRock $47,200 $116,500 52.2 4.4 9.1 9.2 7.5 2.0 11.7 7.8 1.0 3.9 42.0 5.9 10.9 17.8 8.4 10.6 16.7 1.2 11.3 5.0 6.7 11.4\n",
            "10D: Down the Road $50,700 $83,500 59.9 5.4 2.8 10.9 11.6 2.3 12.8 6.8 1.1 4.3 42.9 4.6 10.5 14.0 9.0 11.3 20.4 1.4 9.2 4.4 8.3 11.6\n",
            "10E: Rural Bypasses $42,200 $68,400 50.1 5.3 3.4 8.2 16.4 2.1 11.5 7.3 0.9 3.5 40.5 6.2 9.9 15.7 8.1 10.6 18.9 1.4 6.9 4.4 11.5 12.6\n",
            "11. Midtown Singles $46,400 $14,400 65.8 6.2 0.6 6.3 7.2 2.0 12.3 7.3 1.8 6.2 51.9 4.3 12.3 20.2 9.4 12.4 22.9 0.3 5.1 2.5 5.2 9.7\n",
            "11A: City Strivers $59,800 $31,900 59.5 9.7 0.1 5.1 3.3 1.4 9.7 10.7 2.1 5.9 55.8 5.9 11.7 20.8 7.6 12.6 27.9 0.0 4.3 2.1 2.7 10.4\n",
            "11B: Young and Restless $53,800 $15,100 74.9 3.9 0.5 5.5 7.2 2.3 12.6 6.4 2.2 8.0 51.2 4.1 15.7 25.0 10.0 12.7 18.0 0.2 4.0 2.4 4.2 7.7\n",
            "11C: Metro Fusion $47,000 $14,300 68.2 5.8 0.8 8.7 7.8 2.3 12.9 7.8 1.5 5.7 48.8 3.8 10.5 15.6 9.4 12.7 23.6 0.5 7.3 3.0 6.1 11.4\n",
            "11D: Set to Impress $44,200 $16,300 64.4 4.9 0.8 6.2 8.6 2.0 12.7 5.4 1.7 5.5 53.1 4.0 12.4 21.3 9.3 11.8 22.4 0.4 5.0 2.6 6.1 8.7\n",
            "11E: City Commons $24,200 $10,600 53.3 11.5 0.5 5.0 8.2 1.5 12.3 8.0 1.2 4.5 54.5 4.2 7.9 14.0 9.8 12.2 30.1 0.3 4.5 2.0 7.0 12.2\n",
            "12. Hometown $42,800 $43,400 56.7 6.5 1.1 6.4 12.3 2.0 12.2 7.4 1.3 4.8 47.6 4.9 9.9 16.4 8.8 12.4 22.5 0.5 5.4 3.2 8.8 12.0\n",
            "12A: Family Foundations $52,300 $95,000 58.2 7.9 0.3 5.1 7.7 1.8 10.7 10.6 1.6 5.7 49.9 6.5 11.2 18.1 8.2 14.3 22.6 0.2 4.3 2.5 5.8 12.8\n",
            "12B: Traditional Living $49,500 $66,300 63.1 4.9 1.1 7.1 15.5 2.2 12.8 6.5 1.3 4.7 44.8 4.0 9.9 15.9 8.8 12.3 20.5 0.5 6.0 3.7 10.5 11.8\n",
            "12C: Small Town Sincerity $40,400 $30,000 53.4 5.0 1.8 7.1 13.1 2.0 13.2 6.0 1.2 4.4 46.2 4.9 10.4 17.2 9.3 11.5 21.1 0.8 6.0 3.6 9.2 10.9\n",
            "12D: Modest Income Homes $31,000 $14,100 50.5 10.5 0.6 5.3 9.7 1.7 11.4 8.3 1.2 4.3 52.6 5.0 7.9 13.9 8.6 12.1 28.7 0.3 4.5 2.3 8.0 13.5\n",
            "13. Next Wave $47,400 $14,400 62.8 7.5 1.2 11.0 9.3 2.7 11.2 8.0 1.4 4.4 48.3 2.5 8.3 12.5 8.4 10.4 26.4 1.0 9.8 2.7 7.7 12.8\n",
            "13A: Diverse Convergence $63,300 $33,300 66.1 6.2 0.5 9.3 7.7 2.5 10.8 8.4 2.0 5.1 50.9 2.8 11.3 16.9 8.5 10.7 24.8 0.4 7.9 2.6 5.7 11.2\n",
            "13B: Family Extensions $53,400 $23,300 63.2 7.3 1.9 10.9 13.6 3.7 11.3 9.0 1.1 3.3 42.9 2.2 6.3 9.0 8.5 10.8 23.3 1.6 9.9 3.2 11.1 16.1\n",
            "13C: NeWest Residents $42,400 $12,800 68.3 5.8 1.7 17.8 9.3 2.4 10.6 5.8 1.1 4.0 45.5 1.7 6.7 8.9 7.9 8.7 27.6 1.3 16.0 2.8 8.3 11.7\n",
            "13D: Fresh Ambitions $34,400 $12,100 56.8 9.6 1.6 8.9 10.0 2.5 12.5 7.9 1.1 3.9 48.6 3.0 7.0 11.5 8.8 10.9 27.4 1.5 8.0 2.7 8.3 14.0\n",
            "13E: High Rise Renters $29,300 $10,400 52.2 12.8 0.2 5.4 3.8 1.7 11.8 8.9 1.7 5.7 57.5 3.2 8.2 15.0 8.9 11.4 35.2 0.2 4.6 1.9 3.7 10.9\n",
            "14. Scholars and Patriots $38,400 $11,600 47.9 5.3 0.8 3.1 4.8 1.2 12.5 2.8 1.7 4.3 64.7 4.1 11.8 30.5 10.5 12.2 22.0 0.4 2.4 1.7 3.0 5.4\n",
            "14A: Military Proximity $62,100 $13,300 21.8 5.9 0.6 3.0 3.1 1.0 11.9 3.5 1.0 3.2 40.7 32.0 14.3 24.6 9.3 12.5 19.2 0.4 3.0 6.7 2.8 7.2\n",
            "14B: College Towns $43,200 $13,200 59.7 4.3 0.9 3.8 6.0 1.5 12.3 3.3 1.7 4.9 62.5 3.2 13.3 30.9 10.0 11.3 20.2 0.4 2.9 1.6 3.6 5.7\n",
            "14C: Dorms to Diplomas $23,000 $9,200 42.8 6.8 0.6 2.0 3.5 0.9 12.8 2.0 1.7 3.5 71.1 1.9 9.3 30.8 11.4 13.5 25.0 0.4 1.6 1.1 2.2 4.7\n",
            "* Segment 15, Unclassified,  is not displayed in the Summary Table.\n",
            "1 This rate measures the participation of the civilian labor force only.\n",
            "Copyright © 2022 Esri. All rights reserved. www.esri.com/tapestry Econ: Page 6 of 8\n",
            "2022 Summary Table\n",
            "Housing Profile by LifeMode Group\n",
            "Housing Type\n",
            "Median \n",
            "Home \n",
            "Value\n",
            "Home \n",
            "Owner-\n",
            "ship (%)\n",
            "Vacancy \n",
            "(%)\n",
            "1, \n",
            "Detach-\n",
            "ed\n",
            "1, \n",
            "Attach-\n",
            "ed 2 3 or 4 5 to 9 10 to 19 20+\n",
            "Mobile \n",
            "Home Other\n",
            "2014 or \n",
            "later\n",
            "2010 to \n",
            "2013\n",
            "2000 to \n",
            "2009\n",
            "1990 to \n",
            "1999\n",
            "1980 to \n",
            "1989\n",
            "1979 or \n",
            "Earlier\n",
            "United States $283,300 64.6 10.0 61.7 5.9 3.5 4.3 4.6 4.3 9.4 6.0 0.1 3.5 2.7 13.6 13.9 13.4 52.9\n",
            "01. Affluent Estates $483,600 88.7 5.3 87.2 5.4 0.7 0.9 1.1 1.1 2.8 0.8 0.0 5.6 4.1 20.2 18.3 14.6 37.2\n",
            "1A: Top Tier Single Family $836,500 90.9 6.0 89.2 3.9 0.8 0.7 0.8 0.7 3.5 0.3 0.0 3.0 1.9 9.5 11.8 13.4 60.4\n",
            "1B: Professional Pride Single Family $488,900 91.1 3.4 89.9 4.9 0.4 0.6 0.8 0.9 1.9 0.5 0.0 5.9 4.1 22.6 36.4 15.2 15.8\n",
            "1C: Boomburbs Single Family $425,100 83.6 4.3 82.1 7.9 0.3 0.9 1.7 2.5 3.9 0.7 0.0 13.8 11.1 51.8 15.4 3.5 4.5\n",
            "1D: Savvy Suburbanites Single Family $418,100 91.1 4.2 90.4 4.4 0.8 0.7 0.7 0.6 1.2 1.0 0.1 3.7 2.5 12.2 17.1 20.4 44.1\n",
            "1E: Exurbanites Single Family $489,700 86.4 8.7 82.9 6.2 1.0 1.4 1.5 1.2 4.2 1.4 0.0 3.3 2.2 12.1 13.8 16.3 52.4\n",
            "02. Upscale Avenues $555,300 71.5 6.0 62.6 11.7 3.2 3.2 4.4 4.9 9.1 0.8 0.0 2.9 2.1 9.7 11.7 13.1 60.5\n",
            "2A: Urban Chic Single Family $743,100 69.5 9.6 60.6 8.9 3.8 4.3 4.9 4.8 12.2 0.6 0.0 3.1 2.1 9.5 10.0 10.8 64.5\n",
            "2B: Pleasantville Single Family $467,300 84.4 4.4 83.6 5.7 3.2 1.6 1.3 1.2 2.5 1.0 0.0 1.3 1.0 5.2 6.1 9.2 77.3\n",
            "2C: Pacific Heights Single Family $806,400 73.3 4.6 66.8 14.2 5.1 3.0 2.3 1.8 6.0 0.7 0.0 1.2 1.0 4.9 6.5 13.4 73.1\n",
            "2D: Enterprising Professionals Multi-Units; Single Family $442,200 53.6 5.8 30.7 22.4 1.7 4.8 9.7 12.3 17.4 0.9 0.1 5.9 4.4 19.2 24.4 21.1 25.0\n",
            "03. Uptown Individuals $698,300 28.8 11.1 10.2 6.3 4.7 8.2 9.9 10.7 49.6 0.2 0.0 6.6 4.0 13.3 8.7 8.7 58.7\n",
            "3A: Laptops and Lattes High Density Apartments $922,600 40.3 11.9 11.9 7.6 5.3 8.0 9.0 8.9 49.1 0.1 0.0 5.2 3.1 10.9 6.7 7.7 66.5\n",
            "3B: Metro Renters Multi-Unit Rentals $473,100 22.5 11.9 7.4 5.2 2.5 5.4 8.3 11.4 59.5 0.2 0.0 9.4 5.6 18.7 12.0 9.8 44.5\n",
            "3C: Trendsetters High Density Apartments $743,900 27.6 9.0 12.9 6.6 7.6 12.6 13.5 11.6 35.0 0.3 0.0 3.6 2.4 7.5 5.5 8.1 72.9\n",
            "04. Family Landscapes $281,100 80.5 4.8 81.2 5.6 1.2 1.7 1.9 1.8 2.2 4.3 0.1 5.5 4.2 23.3 23.7 17.1 26.2\n",
            "4A: Workday Drive Single Family $327,500 85.4 3.9 85.6 6.0 0.7 1.0 1.3 1.4 2.1 1.8 0.0 6.6 4.9 27.7 30.6 13.6 16.7\n",
            "4B: Home Improvement Single Family $269,300 80.1 4.1 83.4 7.0 0.9 1.6 1.7 1.7 1.9 1.7 0.0 2.1 1.5 8.2 16.7 30.8 40.7\n",
            "4C: Middleburg Single Family $239,300 75.7 6.1 75.6 4.5 1.9 2.4 2.6 2.3 2.4 8.2 0.1 6.5 5.0 27.6 20.9 12.7 27.4\n",
            "05. GenXurban $238,900 75.7 7.2 75.8 5.8 2.9 3.2 3.3 2.7 3.9 2.3 0.0 2.1 1.7 8.9 10.6 12.1 64.6\n",
            "5A: Comfortable Empty Nesters Single Family $262,100 87.7 6.1 87.9 4.1 1.1 1.1 1.2 0.8 1.5 2.3 0.0 2.4 1.7 10.1 12.4 13.9 59.5\n",
            "5B: In Style Single Family $319,300 70.5 8.4 65.5 7.9 2.9 4.4 5.5 5.1 7.0 1.6 0.0 3.7 3.0 13.0 14.4 15.4 50.5\n",
            "5C: Parks and Rec Single Family $255,900 71.5 5.8 67.7 9.3 4.8 4.5 4.0 3.3 4.3 2.0 0.0 1.6 1.2 6.3 7.9 10.8 72.1\n",
            "5D: Rustbelt Traditions Single Family $165,100 72.1 6.6 80.1 4.0 3.6 3.1 2.8 2.1 2.3 1.9 0.0 1.1 0.9 5.0 6.5 7.9 78.6\n",
            "5E: Midlife Constants Single Family $199,700 74.9 8.6 75.7 4.6 2.6 3.2 3.3 2.3 4.6 3.6 0.0 1.8 1.6 9.6 11.3 11.8 64.0\n",
            "06. Cozy Country Living $238,700 82.5 16.0 82.0 2.0 1.6 1.5 1.3 0.9 1.2 9.4 0.1 2.9 2.5 14.3 15.3 12.9 52.1\n",
            "6A: Green Acres Single Family $300,900 87.9 6.8 87.1 2.6 1.1 0.8 0.8 0.6 0.8 6.0 0.1 4.6 3.4 18.9 19.5 14.3 39.3\n",
            "6B: Salt of the Earth Single Family $203,900 85.2 9.1 84.3 1.5 1.3 1.0 0.8 0.5 0.5 10.2 0.1 2.5 2.2 13.2 15.6 11.8 54.8\n",
            "6C: The Great Outdoors Single Family $322,900 81.2 19.4 77.1 2.2 1.5 1.6 1.4 0.9 1.2 13.8 0.3 3.5 2.8 17.2 16.9 16.5 43.0\n",
            "6D: Prairie Living Single Family $191,400 81.3 15.2 85.1 1.1 0.9 1.2 0.9 0.6 0.7 9.4 0.1 2.4 2.4 10.4 10.5 9.3 64.9\n",
            "6E: Rural Resort Dwellers Single Family/Seasonal $272,600 84.6 47.6 78.7 1.8 1.1 1.3 1.3 1.1 1.9 12.5 0.2 2.7 2.5 17.7 17.1 16.3 43.7\n",
            "6F: Heartland Communities Single Family $126,400 71.6 11.3 77.1 2.5 3.3 3.3 2.7 1.7 2.2 7.2 0.1 1.3 1.3 6.8 9.1 9.0 72.4\n",
            "07. Sprouting Explorers $258,500 67.2 5.5 74.9 5.4 1.9 2.8 3.0 2.9 4.3 4.7 0.1 5.5 4.3 24.2 13.3 11.8 40.9\n",
            "7A: Up and Coming Families Single Family $277,600 74.4 4.9 79.9 5.7 0.7 1.7 2.3 3.1 4.0 2.5 0.1 11.5 9.1 50.3 16.6 5.7 6.7\n",
            "7B: Urban Villages Single Family $451,300 71.0 3.3 80.1 5.4 2.2 2.2 2.1 1.8 3.5 2.8 0.1 1.1 0.9 6.3 8.0 11.0 72.8\n",
            "7C: Urban Edge Families Single Family $234,400 64.7 4.9 72.6 7.6 2.1 3.1 3.7 3.3 4.1 3.4 0.1 2.8 1.9 14.0 15.3 22.3 43.8\n",
            "7D: Forging Opportunity Single Family $149,500 61.5 7.1 73.3 2.9 2.7 3.2 2.7 2.3 2.8 9.9 0.1 2.9 2.3 12.1 10.8 11.0 61.0\n",
            "7E: Farm to Table Single Family $214,200 46.3 6.7 61.0 3.5 4.0 6.2 5.3 3.1 4.1 12.5 0.3 2.3 2.6 12.4 14.8 12.7 55.2\n",
            "7F: Southwestern Families Single Family $124,200 55.3 9.1 64.4 4.6 3.5 4.6 4.1 3.5 8.7 6.5 0.2 2.2 2.0 8.0 9.6 12.5 65.7\n",
            "08. Middle Ground $281,900 48.1 8.8 44.0 8.9 7.1 8.1 8.5 7.9 13.2 2.2 0.1 2.7 2.1 9.3 11.0 13.0 61.9\n",
            "8A: City Lights Multi-Units; Single Family $509,800 55.1 5.8 42.0 9.9 11.4 8.6 6.4 6.0 14.9 0.9 0.1 1.7 1.3 5.0 5.9 9.9 76.3\n",
            "8B: Emerald City Single Family; Multi-Units $364,200 52.7 11.4 46.4 9.1 6.4 7.4 7.2 7.0 15.8 0.7 0.1 3.9 2.2 8.1 8.3 10.3 67.2\n",
            "8C: Bright Young Professionals Single Family; Multi-Units $261,900 46.4 7.4 40.3 10.4 2.5 6.7 11.5 13.1 13.0 2.6 0.1 5.0 3.8 18.4 21.2 20.5 31.0\n",
            "8D: Downtown Melting Pot High Density Apartments $769,900 34.4 6.0 12.8 10.6 17.3 13.7 7.8 6.4 30.9 0.4 0.0 1.2 1.3 4.8 4.5 6.1 82.1\n",
            "8E: Front Porches Single Family; Multi-Units $235,500 49.4 7.2 48.5 9.9 8.3 9.3 7.9 5.9 7.6 2.6 0.1 1.9 1.4 6.8 8.3 10.8 70.8\n",
            "8F: Old and Newcomers Single Family; Multi-Units $226,200 48.8 9.9 43.7 7.5 4.1 7.5 10.1 9.0 14.9 3.2 0.1 2.3 2.1 9.6 12.8 16.2 57.0\n",
            "8G: Hometown Heritage Single Family $84,000 41.9 13.5 59.6 5.6 10.4 7.5 5.7 3.4 4.5 3.3 0.1 1.2 1.0 4.5 5.3 6.7 81.3\n",
            "Units in Structure (%)1 Year Structure Built (%)1\n",
            "TAPESTRY\n",
            "SEGMENTATION                                              \n",
            "esri.com/tapestry\n",
            "Copyright © 2022 Esri. All rights reserved. www.esri.com/tapestry Hsg: Page 7 of 8\n",
            "2022 Summary Table\n",
            "Housing Profile by LifeMode Group\n",
            "Housing Type\n",
            "Median \n",
            "Home \n",
            "Value\n",
            "Home \n",
            "Owner-\n",
            "ship (%)\n",
            "Vacancy \n",
            "(%)\n",
            "1, \n",
            "Detach-\n",
            "ed\n",
            "1, \n",
            "Attach-\n",
            "ed 2 3 or 4 5 to 9 10 to 19 20+\n",
            "Mobile \n",
            "Home Other\n",
            "2014 or \n",
            "later\n",
            "2010 to \n",
            "2013\n",
            "2000 to \n",
            "2009\n",
            "1990 to \n",
            "1999\n",
            "1980 to \n",
            "1989\n",
            "1979 or \n",
            "Earlier\n",
            "United States $283,300 64.6 10.0 61.7 5.9 3.5 4.3 4.6 4.3 9.4 6.0 0.1 3.5 2.7 13.6 13.9 13.4 52.9\n",
            "Units in Structure (%)1 Year Structure Built (%)1\n",
            "TAPESTRY\n",
            "SEGMENTATION                                              \n",
            "esri.com/tapestry\n",
            "09. Senior Styles $311,100 62.0 19.7 41.7 8.0 2.5 4.3 5.0 4.8 23.4 10.0 0.2 3.2 2.2 14.2 15.2 18.3 46.9\n",
            "9A: Silver & Gold Single Family/Seasonal $440,400 87.3 38.6 65.7 7.2 1.7 3.0 3.4 3.3 11.7 4.0 0.1 4.6 3.0 23.8 19.5 19.5 29.6\n",
            "9B: Golden Years Single Family; Multi-Units $418,800 65.6 12.5 40.9 12.7 2.9 4.5 5.5 5.3 26.8 1.5 0.1 3.0 2.3 11.0 13.2 17.0 53.5\n",
            "9C: The Elders SF; High-Rises; Mob. Hm/Seas. $262,100 82.9 21.8 40.4 10.8 1.3 3.6 3.6 4.1 18.3 17.5 0.3 2.7 1.8 16.7 20.3 24.4 34.1\n",
            "9D: Senior Escapes SF; Mobile Homes/Seasonal $178,300 78.0 21.7 50.9 2.4 1.2 1.8 1.7 1.7 2.6 36.9 0.8 2.9 2.2 16.6 17.8 20.7 39.9\n",
            "9E: Retirement Communities Multi-Units; Single Family $243,200 48.3 11.4 31.8 8.9 2.9 5.8 7.5 7.1 32.7 3.2 0.1 2.5 1.9 9.4 13.0 17.8 55.5\n",
            "9F: Social Security Set Multi-Unit Rentals $203,300 16.1 12.6 13.4 4.6 5.0 7.6 8.2 7.5 52.1 1.5 0.1 3.3 2.0 7.0 7.2 10.5 70.1\n",
            "10. Rustic Outposts $158,200 77.3 13.3 64.9 1.0 1.1 1.1 1.0 0.6 0.8 29.1 0.3 3.5 3.0 15.6 19.5 15.8 42.6\n",
            "10A: Southern Satellites Single Family; Mobile Homes $187,900 80.5 10.3 67.0 0.8 0.9 0.7 0.6 0.4 0.5 28.7 0.3 4.3 3.4 18.4 21.6 15.6 36.7\n",
            "10B: Rooted Rural Single Family; Mobile Homes $157,100 82.0 17.7 72.5 0.8 0.8 0.7 0.5 0.3 0.4 23.8 0.3 2.8 2.7 14.8 18.0 14.9 46.9\n",
            "10C: Economic BedRock Single Family; Mobile Homes $117,200 77.3 15.8 68.4 0.8 1.1 1.2 1.3 0.7 1.0 25.2 0.3 2.6 2.9 11.9 14.2 14.9 53.4\n",
            "10D: Down the Road Mobile Homes; Single Family $133,800 66.9 10.3 44.3 2.1 1.6 2.1 2.3 1.9 2.6 42.9 0.4 4.8 3.3 16.0 21.0 17.9 36.9\n",
            "10E: Rural Bypasses Single Family; Mobile Homes $104,100 72.0 14.9 63.3 0.8 1.9 1.8 1.6 0.6 0.8 29.1 0.2 2.3 2.3 12.2 18.8 16.1 48.4\n",
            "11. Midtown Singles $219,300 25.5 10.2 23.0 8.1 7.7 11.7 14.0 14.1 19.6 1.7 0.1 2.7 2.4 9.3 12.4 15.5 57.8\n",
            "11A: City Strivers High Density Apartments $465,100 35.3 7.9 15.6 12.5 19.5 17.4 8.2 6.4 20.2 0.2 0.0 1.3 1.6 5.4 4.8 4.3 82.6\n",
            "11B: Young and Restless Multi-Unit Rentals $241,000 16.2 9.5 11.7 6.0 2.3 9.1 18.0 23.3 28.4 1.1 0.1 4.0 3.5 13.3 20.2 24.1 35.0\n",
            "11C: Metro Fusion Multi-Unit Rentals; Single Family $200,200 26.5 8.3 24.6 8.1 4.3 11.0 15.4 16.3 17.2 3.0 0.1 2.5 2.1 10.4 14.2 20.3 50.4\n",
            "11D: Set to Impress Multi-Unit Rentals; Single Family $190,600 31.0 11.8 31.7 6.3 9.0 12.8 11.7 9.6 16.7 2.1 0.1 2.2 1.7 6.1 8.6 11.5 69.9\n",
            "11E: City Commons Multi-Unit Rentals; Single Family $99,900 25.1 14.1 33.6 10.7 10.9 11.4 12.7 7.5 11.4 1.8 0.0 2.4 2.5 8.6 7.3 8.0 71.1\n",
            "12. Hometown $111,700 55.6 12.3 67.5 5.9 6.1 5.0 4.2 2.7 5.0 3.6 0.1 1.2 1.2 5.0 6.1 7.5 79.0\n",
            "12A: Family Foundations Single Family $164,700 64.9 8.9 73.1 8.7 3.5 3.0 2.8 2.3 4.8 1.7 0.0 1.0 1.1 4.9 4.9 6.9 81.2\n",
            "12B: Traditional Living Single Family $99,000 59.8 10.2 75.5 3.4 6.3 4.3 3.3 2.2 2.6 2.4 0.1 1.1 1.0 3.7 4.8 5.7 83.7\n",
            "12C: Small Town Sincerity Single Family $118,100 52.5 12.7 61.1 3.6 5.6 6.4 5.9 3.4 7.1 6.7 0.1 1.3 1.4 6.5 9.0 10.8 71.0\n",
            "12D: Modest Income Homes Single Family $82,900 46.1 17.1 61.4 10.2 8.3 5.5 4.1 2.5 5.5 2.5 0.0 1.2 1.4 5.0 5.0 5.9 81.6\n",
            "13. Next Wave $348,800 25.8 6.6 23.9 8.3 9.8 12.5 10.6 9.6 23.2 2.1 0.1 1.8 1.5 6.0 7.0 10.1 73.6\n",
            "13A: Diverse Convergence High Density Apts; Single Family $474,500 30.3 6.4 22.7 7.5 13.6 14.7 11.2 9.0 20.2 1.0 0.1 2.1 1.6 5.8 6.5 9.1 74.9\n",
            "13B: Family Extensions Single Family; Multi-Unit Rentals $387,500 38.1 4.2 45.8 8.7 10.1 11.4 7.8 5.2 8.3 2.8 0.1 1.1 1.1 5.3 6.8 9.3 76.4\n",
            "13C: NeWest Residents Multi-Unit Rentals $196,800 18.5 8.3 18.3 4.8 5.5 11.6 15.1 17.5 22.3 4.7 0.1 2.3 1.9 7.9 10.3 16.9 60.8\n",
            "13D: Fresh Ambitions Multi-Unit Rentals; Single Family $182,900 28.7 8.4 25.4 17.7 12.7 16.3 9.6 5.8 10.9 1.6 0.1 1.3 1.3 5.8 6.1 8.1 77.4\n",
            "13E: High Rise Renters High-Rise Rentals $458,800 4.4 5.5 1.7 3.0 2.9 5.0 7.2 9.8 70.1 0.2 0.1 1.8 1.9 4.5 4.6 5.3 81.9\n",
            "14. Scholars and Patriots $252,700 19.9 13.5 24.7 9.8 6.5 9.7 11.6 13.0 23.1 1.5 0.1 5.0 5.3 13.5 14.5 12.3 49.4\n",
            "14A: Military Proximity Townhomes; Multi-Unit Rentals $229,900 4.1 12.4 24.5 49.4 9.1 8.8 3.8 1.3 2.5 0.6 0.0 4.8 11.1 24.2 17.9 10.4 31.6\n",
            "14B: College Towns Multi-Unit Rentals; Single Family $252,800 27.9 12.8 30.5 6.0 6.7 10.0 11.5 12.3 20.9 2.0 0.1 4.4 4.0 11.6 13.0 12.0 55.1\n",
            "14C: Dorms to Diplomas Multi-Unit Rentals $256,600 9.2 15.1 13.4 3.7 5.1 9.4 14.5 18.2 34.7 0.9 0.0 6.3 5.8 13.4 16.4 13.8 44.2\n",
            "* Segment 15, Unclassified, is not displayed in the Summary Table.\n",
            "1 2016-2020 American Community Survey\n",
            "Copyright © 2022 Esri. All rights reserved. www.esri.com/tapestry Hsg: Page 8 of 8\n"
          ]
        }
      ]
    },
    {
      "cell_type": "code",
      "source": [
        "# get the ***FIRST IMAGE*** ON THE *FIRST PAGE*** in the pdf\n",
        "\n",
        "# You can change the page(s) you want to contain within the variable by altering the index\n",
        "\n",
        "# Those changes will be reflected in image output\n",
        "page = reader.pages[0]\n",
        "\n",
        "for image in page.images:\n",
        "  with open(image.name, 'wb') as f: # mode - wb (writing binary)\n",
        "\n",
        "    f.write(image.data)"
      ],
      "metadata": {
        "id": "lsOFxTpnez8q"
      },
      "execution_count": 8,
      "outputs": []
    },
    {
      "cell_type": "markdown",
      "source": [
        "#### Using pdfplumber for table extraction"
      ],
      "metadata": {
        "id": "Ov96AlA0gS-u"
      }
    },
    {
      "cell_type": "code",
      "source": [
        "install_package('pdfplumber')\n",
        "import pdfplumber"
      ],
      "metadata": {
        "colab": {
          "base_uri": "https://localhost:8080/"
        },
        "id": "s04TdRBnsUVQ",
        "outputId": "e80ea81a-516e-4849-ce34-8d5ffb478caa"
      },
      "execution_count": 9,
      "outputs": [
        {
          "output_type": "stream",
          "name": "stdout",
          "text": [
            "pdfplumber is already installed.\n"
          ]
        }
      ]
    },
    {
      "cell_type": "code",
      "source": [
        "# !pip install pdfplumber\n",
        "# import pdfplumber"
      ],
      "metadata": {
        "colab": {
          "base_uri": "https://localhost:8080/"
        },
        "id": "zt0bC1djgWo_",
        "outputId": "b89db269-d5d4-4b47-8d42-04701c03fecf",
        "collapsed": true
      },
      "execution_count": null,
      "outputs": [
        {
          "output_type": "stream",
          "name": "stdout",
          "text": [
            "Collecting pdfplumber\n",
            "  Downloading pdfplumber-0.11.4-py3-none-any.whl.metadata (41 kB)\n",
            "\u001b[2K     \u001b[90m━━━━━━━━━━━━━━━━━━━━━━━━━━━━━━━━━━━━━━━━\u001b[0m \u001b[32m42.0/42.0 kB\u001b[0m \u001b[31m1.6 MB/s\u001b[0m eta \u001b[36m0:00:00\u001b[0m\n",
            "\u001b[?25hCollecting pdfminer.six==20231228 (from pdfplumber)\n",
            "  Downloading pdfminer.six-20231228-py3-none-any.whl.metadata (4.2 kB)\n",
            "Requirement already satisfied: Pillow>=9.1 in /usr/local/lib/python3.10/dist-packages (from pdfplumber) (11.0.0)\n",
            "Requirement already satisfied: pypdfium2>=4.18.0 in /usr/local/lib/python3.10/dist-packages (from pdfplumber) (4.30.0)\n",
            "Requirement already satisfied: charset-normalizer>=2.0.0 in /usr/local/lib/python3.10/dist-packages (from pdfminer.six==20231228->pdfplumber) (3.4.0)\n",
            "Requirement already satisfied: cryptography>=36.0.0 in /usr/local/lib/python3.10/dist-packages (from pdfminer.six==20231228->pdfplumber) (43.0.3)\n",
            "Requirement already satisfied: cffi>=1.12 in /usr/local/lib/python3.10/dist-packages (from cryptography>=36.0.0->pdfminer.six==20231228->pdfplumber) (1.17.1)\n",
            "Requirement already satisfied: pycparser in /usr/local/lib/python3.10/dist-packages (from cffi>=1.12->cryptography>=36.0.0->pdfminer.six==20231228->pdfplumber) (2.22)\n",
            "Downloading pdfplumber-0.11.4-py3-none-any.whl (59 kB)\n",
            "\u001b[2K   \u001b[90m━━━━━━━━━━━━━━━━━━━━━━━━━━━━━━━━━━━━━━━━\u001b[0m \u001b[32m59.2/59.2 kB\u001b[0m \u001b[31m3.5 MB/s\u001b[0m eta \u001b[36m0:00:00\u001b[0m\n",
            "\u001b[?25hDownloading pdfminer.six-20231228-py3-none-any.whl (5.6 MB)\n",
            "\u001b[2K   \u001b[90m━━━━━━━━━━━━━━━━━━━━━━━━━━━━━━━━━━━━━━━━\u001b[0m \u001b[32m5.6/5.6 MB\u001b[0m \u001b[31m42.5 MB/s\u001b[0m eta \u001b[36m0:00:00\u001b[0m\n",
            "\u001b[?25hInstalling collected packages: pdfminer.six, pdfplumber\n",
            "Successfully installed pdfminer.six-20231228 pdfplumber-0.11.4\n"
          ]
        }
      ]
    },
    {
      "cell_type": "code",
      "source": [
        "#  opening the pdf_path (variable for pdf string location) as a file (f is just an alias)\n",
        "# Using this to go through the pages and find the tables\n",
        "with pdfplumber.open(pdf_path) as f:\n",
        "  for table in f.pages:\n",
        "    print(table.extract_tables())\n",
        "    # You can also use extract_text() in place of _tables"
      ],
      "metadata": {
        "colab": {
          "base_uri": "https://localhost:8080/"
        },
        "id": "9uPyfDWMggVg",
        "outputId": "319d8ea9-d14b-4c07-a346-a5f831c9c4a4"
      },
      "execution_count": 10,
      "outputs": [
        {
          "output_type": "stream",
          "name": "stdout",
          "text": [
            "[[['United States', '128,657,669', '335,707,897', '0.57', '9 5.0', '', '2.55', '71.6', '38.9', '21.7 36.0 24.9 17.4', '33.7 50.2 16.1'], ['01. Affluent Estates', '12,965,442', '37,366,955', '0.88', '5 31.3', '', '2.86', '55.5', '43.1', '24.0 28.4 29.5 18.1', '23.6 65.4 11.0'], [None, '2,095,163\\n2,116,777\\n2,465,725\\n3,813,449\\n2,474,328', '6,037,976\\n6,427,610\\n7,819,423\\n10,770,551\\n6,311,395', '-0.05\\n0.86\\n2.58\\n0.50\\n0.40', '1 ,007.1\\n9 91.1\\n1 ,198.8\\n3 60.2\\n2 94.5', 'Married Couples\\nMarried Couples\\nMarried Couples\\nMarried Couples\\nMarried Couples', '2.85\\n3.03\\n3.16\\n2.80\\n2.51', '49.3\\n55.4\\n71.8\\n47.9\\n47.1', '48.2\\n40.9\\n34.3\\n45.8\\n52.0', '23.4 22.3 31.4 22.9\\n25.4 29.9 31.8 12.9\\n32.0 36.9 23.3 7.8\\n21.2 27.7 31.0 20.1\\n18.0 23.2 30.5 28.3', None], ['02. Upscale Avenues', '7,156,348', '19,543,297', '0.32', '1 ,190.5', '', '2.70', '74.2', '41.1', '20.6 34.5 27.0 17.9', '30.9 55.6 13.5'], [None, '1,647,700\\n2,730,615\\n893,814\\n1,884,219', '4,077,801\\n7,911,394\\n2,817,256\\n4,736,846', '0.42\\n-0.04\\n-0.03\\n1.05', '5 62.5\\n1 ,502.1\\n3 ,191.3\\n1 ,570.4', 'Married Couples\\nMarried Couples\\nMarried Couples\\nMarried Couples', '2.43\\n2.87\\n3.12\\n2.49', '57.8\\n71.7\\n75.7\\n78.2', '43.9\\n43.3\\n43.4\\n36.0', '19.8 31.6 28.4 20.2\\n20.3 31.8 28.2 19.7\\n18.9 33.1 26.7 21.3\\n22.8 42.5 23.7 11.0', None], ['03. Uptown Individuals', '5,048,100', '9,729,863', '1.24', '7 ,897.3', '', '1.87', '69.8', '35.7', '11.8 54.6 21.0 12.7', '50.3 38.1 11.5'], [None, '1,393,362\\n2,271,888\\n1,382,850', '2,749,493\\n4,031,085\\n2,949,285', '0.87\\n1.89\\n0.70', '1 0,824.8\\n5 ,523.2\\n1 1,882.4', 'Singles\\nSingles\\nSingles', '1.92\\n1.70\\n2.08', '59.2\\n68.1\\n78.7', '38.2\\n33.6\\n37.3', '12.5 48.7 23.2 15.7\\n9.0 62.9 17.8 10.3\\n14.9 48.6 23.3 13.1', None], ['04. Family Landscapes', '10,029,784', '28,274,615', '1.11', '3 20.4', '', '2.80', '64.2', '37.4', '24.4 36.1 25.9 13.6', '28.4 57.3 14.2'], [None, '3,928,142\\n2,175,359\\n3,926,283', '11,420,075\\n6,138,394\\n10,716,146', '1.24\\n0.32\\n1.45', '5 52.9\\n4 22.3\\n2 02.0', 'Married Couples\\nMarried Couples\\nMarried Couples', '2.89\\n2.81\\n2.70', '61.3\\n75.9\\n58.6', '37.4\\n38.4\\n37.0', '25.2 35.6 27.0 12.3\\n22.0 36.6 26.2 15.2\\n25.0 36.4 24.6 14.0', None], ['05. GenXurban', '14,390,288', '35,275,199', '0.20', '4 01.7', '', '2.41', '52.8', '44.3', '19.1 31.7 26.4 22.7', '28.9 52.8 18.2'], [None, '3,109,219\\n2,879,095\\n2,528,921\\n2,760,960\\n3,112,093', '7,853,962\\n6,856,233\\n6,351,280\\n6,782,450\\n7,431,274', '0.19\\n0.47\\n0.27\\n0.06\\n0.03', '2 86.0\\n3 87.0\\n1 ,258.4\\n6 58.6\\n2 72.3', 'Married Couples\\nMarried Couples w/No Kids\\nMarried Couples\\nMarried Couples\\nMarried Couples w/No Kids', '2.50\\n2.33\\n2.48\\n2.43\\n2.31', '45.2\\n49.9\\n62.3\\n59.4\\n47.1', '49.0\\n42.8\\n41.7\\n39.8\\n47.8', '18.2 27.0 28.5 26.3\\n18.9 33.7 26.2 21.1\\n19.9 34.4 26.5 19.2\\n21.4 35.4 25.2 18.0\\n17.6 29.4 25.6 27.5', None], ['06. Cozy Country Living', '15,123,491', '38,109,665', '0.27', '2 2.0', '', '2.49', '35.2', '45.8', '19.7 29.4 29.1 21.8', '24.4 58.9 16.8'], [None, '4,185,053\\n3,583,798\\n1,981,372\\n1,267,725\\n1,273,653\\n2,831,890', '11,190,638\\n9,152,966\\n4,864,236\\n3,233,600\\n2,825,421\\n6,842,804', '0.82\\n-0.07\\n0.60\\n-0.25\\n0.41\\n-0.23', '7 4.4\\n5 7.6\\n1 7.6\\n4 .7\\n7 .5\\n8 4.9', 'Married Couples\\nMarried Couples\\nMarried Couples\\nMarried Couples\\nMarried Couples w/No Kids\\nMarried Couples', '2.66\\n2.53\\n2.41\\n2.50\\n2.19\\n2.36', '36.4\\n27.5\\n44.5\\n30.5\\n29.7\\n40.3', '44.8\\n44.9\\n48.3\\n44.9\\n55.4\\n42.9', '20.6 29.7 30.3 19.4\\n20.0 30.1 29.0 20.9\\n17.8 28.3 30.2 23.8\\n21.3 28.8 28.0 21.9\\n14.6 22.1 32.2 31.0\\n20.6 31.9 25.7 21.9', None], ['07. Sprouting Explorers', '9,553,549', '30,803,004', '1.10', '1 43.5', '', '3.20', '87.7', '32.5', '28.4 40.0 21.3 10.3', '36.7 49.6 13.7'], [None, '3,583,932\\n1,343,142\\n1,946,148\\n1,347,741\\n306,301\\n1,026,285', '11,018,369\\n4,874,990\\n6,064,637\\n4,590,494\\n1,154,582\\n3,099,932', '2.75\\n-0.18\\n0.61\\n0.25\\n-0.06\\n0.10', '1 ,155.7\\n3 24.2\\n4 8.8\\n4 81.2\\n8 4.7\\n7 2.5', 'Married Couples\\nMarried Couples\\nMarried Couples\\nMarried Couples\\nMarried Couples\\nMarried Couples', '3.06\\n3.59\\n3.10\\n3.38\\n3.70\\n2.98', '81.3\\n87.4\\n88.4\\n83.6\\n77.6\\n80.5', '32.1\\n34.6\\n33.2\\n29.6\\n28.0\\n35.2', '29.9 41.9 20.6 7.6\\n24.8 39.0 23.3 12.9\\n26.3 39.8 22.5 11.4\\n31.6 39.6 19.5 9.3\\n33.4 40.8 17.5 8.3\\n26.1 35.6 22.1 16.3', None], ['08. Middle Ground', '14,006,165', '33,942,845', '0.54', '5 21.1', '', '2.38', '75.5', '36.9', '21.2 39.9 23.3 15.6', '38.6 43.6 17.9']]]\n",
            "[[['United States', '128,657,669', '335,707,897', '0.57', '9 5.0', '', '2.55', '71.6', '38.9', '21.7 36.0 24.9 17.4', '33.7 50.2 16.1'], ['09. Senior Styles', '7,416,448', '15,406,587', '1.11', '9 6.6', '', '1.99', '57.8', '58.9', '12.0 23.4 24.5 40.2', '26.3 48.6 25.1'], [None, '1,023,955\\n1,699,402\\n937,356\\n1,149,233\\n1,529,877\\n1,076,625', '2,096,602\\n3,737,612\\n1,661,908\\n2,583,912\\n3,183,881\\n2,142,672', '1.18\\n0.80\\n1.09\\n0.79\\n1.08\\n2.08', '1 15.2\\n1 ,093.3\\n4 86.6\\n2 0.5\\n4 48.9\\n1 ,481.6', 'Married Couples w/No Kids\\nSingles\\nMarried Couples w/No Kids\\nMarried Couples w/No Kids\\nSingles\\nSingles', '2.03\\n2.11\\n1.72\\n2.20\\n1.95\\n1.80', '33.4\\n54.9\\n38.7\\n55.6\\n60.7\\n79.4', '64.6\\n53.4\\n73.2\\n56.2\\n55.2\\n46.4', '8.7 14.0 28.2 49.1\\n14.3 26.5 26.1 33.1\\n3.0 6.4 16.1 74.5\\n14.4 22.9 27.9 34.9\\n12.9 27.4 22.0 37.6\\n13.7 34.8 24.1 27.3', None], ['10. Rustic Outposts', '10,158,048', '26,466,343', '0.24', '2 8.3', '', '2.55', '56.2', '41.3', '21.4 33.1 26.8 18.7', '28.2 52.9 18.9'], [None, '3,976,846\\n2,375,526\\n750,512\\n1,483,277\\n1,571,887', '10,512,260\\n5,886,852\\n1,920,919\\n4,078,587\\n4,067,725', '0.59\\n-0.18\\n-0.51\\n0.88\\n-0.34', '5 1.6\\n1 9.8\\n1 0.7\\n3 4.1\\n3 0.4', 'Married Couples\\nMarried Couples\\nMarried Couples\\nMarried Couples\\nMarried Couples', '2.61\\n2.42\\n2.49\\n2.71\\n2.44', '49.1\\n34.4\\n50.1\\n79.1\\n62.8', '41.0\\n46.1\\n42.1\\n35.8\\n41.2', '21.7 33.4 27.4 17.6\\n18.8 29.9 28.3 23.0\\n21.3 32.2 26.6 19.9\\n25.1 36.7 23.7 14.5\\n20.8 33.8 26.4 18.9', None], ['11. Midtown Singles', '8,083,294', '19,039,042', '0.71', '2 ,494.1', '', '2.30', '81.4', '31.8', '24.4 44.9 19.8 10.9', '49.8 33.2 17.0'], [None, '1,016,171\\n2,282,070\\n1,874,088\\n1,783,398\\n1,127,567', '2,788,982\\n4,696,287\\n4,817,941\\n3,830,286\\n2,905,546', '0.26\\n1.32\\n0.71\\n0.80\\n0.08', '1 4,770.7\\n3 ,496.1\\n2 ,835.8\\n2 ,596.8\\n9 92.5', 'Singles\\nSingles\\nSingles\\nSingles\\nSingle Parents', '2.70\\n2.03\\n2.54\\n2.07\\n2.49', '71.0\\n81.1\\n86.6\\n71.7\\n58.8', '36.1\\n30.6\\n29.8\\n34.9\\n29.4', '23.9 38.2 24.1 13.8\\n20.0 54.9 16.7 8.4\\n28.1 44.6 18.6 8.7\\n20.0 43.5 22.1 14.5\\n31.9 37.5 19.6 11.1', None], ['12. Hometown', '7,646,023', '18,921,143', '-0.04', '1 68.3', '', '2.42', '70.9', '38.8', '22.8 34.6 24.3 18.3', '40.9 37.0 22.2'], [None, '1,326,115\\n2,424,030\\n2,299,653\\n1,596,225', '3,521,212\\n5,993,732\\n5,400,573\\n4,005,626', '0.06\\n-0.20\\n0.08\\n-0.01', '1 ,404.7\\n1 60.2\\n8 2.9\\n5 45.1', 'Singles\\nMarried Couples\\nSingles\\nSingles', '2.62\\n2.44\\n2.25\\n2.44', '53.8\\n65.0\\n58.0\\n46.8', '40.3\\n36.3\\n41.5\\n37.9', '22.3 33.0 25.2 19.5\\n23.9 37.6 23.9 14.6\\n20.6 33.2 24.1 22.1\\n24.6 33.4 24.5 17.5', None], ['13. Next Wave', '5,058,290', '15,593,482', '0.09', '1 ,943.2', '', '3.04', '86.8', '30.5', '28.7 42.6 19.6 9.1', '47.7 39.9 12.3'], [None, '1,599,232\\n941,430\\n1,030,730\\n846,205\\n640,693', '4,681,995\\n3,535,461\\n3,111,874\\n2,540,215\\n1,723,937', '0.27\\n-0.27\\n0.22\\n-0.03\\n0.24', '8 ,847.6\\n6 ,645.1\\n5 57.6\\n2 ,047.1\\n1 2,150.7', 'Married Couples w/ Kids\\nMarried Couples\\nMarried Couples w/ Kids\\nSingle Parents\\nSingle Parents', '2.89\\n3.72\\n2.97\\n2.95\\n2.62', '88.3\\n75.9\\n85.7\\n88.4\\n86.8', '33.5\\n28.9\\n27.7\\n29.4\\n33.4', '24.9 42.7 21.9 10.6\\n30.9 42.6 18.7 7.8\\n31.9 45.9 16.0 6.1\\n30.6 40.8 19.5 9.0\\n26.2 39.2 21.6 13.0', None], ['14. Scholars and Patriots', '2,017,941', '6,594,339', '0.42', '4 45.1', '', '2.18', '66.4', '22.9', '10.3 76.7 7.7 5.4', '74.2 19.7 6.2'], [None, '188,485\\n1,201,232\\n628,224', '909,752\\n2,960,568\\n2,724,019', '-0.35\\n0.79\\n0.29', '7 4.1\\n1 ,468.4\\n5 ,201.3', 'Married Couples\\nSingles\\nNonfam HHs w/ 2+ Persons', '3.11\\n2.08\\n2.10', '73.0\\n64.2\\n66.0', '22.7\\n24.7\\n21.7', '26.9 69.2 3.3 0.6\\n11.0 65.7 13.3 9.9\\n3.8 91.1 3.1 2.0', None]]]\n",
            "[[['United States', '1.5 1.3 10.3 5.4 5.7 1.4 74.5', '41.5 8.0 41.8 8.7', '4.1 5.9 23.1 4.0 18.3 9.4 21.7 13.4'], ['01. Affluent Estates', '2.0 1.3 11.9 6.7 4.5 1.4 72.1', '39.5 11.0 38.3 11.2', '1.1 1.7 12.0 1.4 13.9 7.9 34.8 27.1'], [None, '2.3 1.4 12.0 7.0 4.0 1.3 72.0\\n2.1 1.4 13.0 7.7 4.5 1.5 69.9\\n2.4 1.7 15.3 7.6 5.0 1.6 66.4\\n1.8 1.2 10.7 6.2 4.6 1.4 74.1\\n1.6 1.0 9.2 5.2 4.4 1.3 77.3', '35.2 15.9 33.1 15.9\\n40.6 9.9 39.3 10.2\\n42.4 7.9 41.5 8.3\\n40.0 10.5 38.9 10.6\\n37.3 12.9 36.5 13.3', None], ['02. Upscale Avenues', '1.8 1.2 9.6 5.1 5.5 1.8 74.9', '38.8 11.0 38.1 12.1', '2.6 3.0 16.4 1.9 15.1 8.5 30.6 21.9'], [None, '2.2 1.2 9.6 5.0 4.9 2.0 75.1\\n1.7 1.1 9.6 5.4 5.5 1.5 75.2\\n1.6 1.1 9.0 4.9 6.3 1.5 75.5\\n2.0 1.5 10.1 4.8 5.3 2.3 74.0', '34.0 15.5 33.4 17.1\\n40.0 9.8 39.1 11.2\\n39.9 10.5 38.5 11.1\\n40.3 9.5 40.3 10.0', None], ['03. Uptown Individuals', '1.4 0.7 4.6 2.1 5.6 4.8 80.8', '29.6 18.4 30.7 21.3', '2.0 2.1 7.8 1.3 10.1 4.8 39.5 32.4'], [None, '1.8 0.9 5.4 2.2 4.5 3.8 81.4\\n1.0 0.6 3.1 1.4 6.7 6.5 80.7\\n1.6 0.9 5.9 2.8 5.2 3.4 80.3', '23.3 23.5 25.2 27.9\\n29.5 18.3 30.7 21.4\\n34.9 14.2 35.2 15.7', None], ['04. Family Landscapes', '1.7 1.4 11.9 6.3 4.9 1.2 72.5', '42.3 7.3 42.4 7.9', '2.3 4.2 21.9 3.7 20.6 11.4 23.7 12.2'], [None, '1.8 1.4 12.3 6.7 5.0 1.4 71.3\\n1.6 1.3 10.9 6.0 5.4 1.2 73.6\\n1.6 1.4 12.1 6.0 4.6 1.1 73.1', '42.0 8.0 41.6 8.4\\n42.5 6.7 43.2 7.7\\n42.7 6.9 42.9 7.5', None], ['05. GenXurban', '1.5 1.1 9.4 5.0 4.7 1.2 77.1', '40.6 8.8 40.9 9.7', '2.1 4.2 23.8 3.8 19.4 10.8 22.4 13.5'], [None, '1.4 1.1 9.2 5.2 4.2 1.1 77.8\\n1.7 1.2 9.2 4.8 5.8 1.8 75.6\\n1.4 1.2 9.4 5.0 4.6 1.2 77.1\\n1.5 1.3 10.2 5.2 4.6 1.1 76.2\\n1.3 1.0 8.9 4.7 4.7 1.0 78.3', '40.5 9.4 39.9 10.2\\n38.7 10.7 38.6 12.0\\n41.2 7.9 42.1 8.8\\n41.9 7.3 42.7 8.0\\n40.8 8.5 41.2 9.5', None], ['06. Cozy Country Living', '1.4 1.1 9.9 5.3 3.4 0.7 78.2', '42.5 7.2 42.6 7.7', '2.5 5.3 29.5 4.6 19.8 11.4 17.6 9.3'], [None, '1.5 1.2 10.6 5.8 3.8 1.0 76.2\\n1.3 1.1 10.1 5.4 3.3 0.7 78.1\\n1.1 1.0 8.5 4.7 3.6 0.8 80.3\\n1.5 1.3 11.0 5.5 2.6 0.6 77.4\\n0.9 0.8 7.0 3.9 2.5 0.6 84.4\\n1.4 1.3 10.2 5.2 3.3 0.6 77.9', '41.8 8.2 41.3 8.6\\n42.3 7.2 42.7 7.9\\n42.0 7.9 41.8 8.3\\n42.9 6.8 43.1 7.1\\n42.4 7.3 42.5 7.7\\n44.2 5.2 44.8 5.8', None], ['07. Sprouting Explorers', '1.6 1.6 13.2 6.8 5.7 1.0 70.0', '44.5 4.8 45.4 5.4', '10.2 9.0 24.5 4.2 19.4 9.3 16.4 7.0'], [None, '1.9 1.7 14.2 6.8 5.9 1.5 68.0\\n1.4 1.3 10.8 6.3 7.1 1.1 72.1\\n1.5 1.5 12.7 6.6 5.6 1.0 71.1\\n1.6 1.8 14.9 7.5 4.7 0.5 69.0\\n1.6 1.9 15.4 7.7 4.8 0.4 68.2\\n1.5 1.5 11.9 6.3 4.9 0.7 73.2', '43.0 6.2 44.0 6.8\\n44.2 4.9 45.3 5.6\\n44.3 5.0 45.1 5.6\\n46.4 3.0 47.3 3.4\\n47.5 2.2 48.0 2.3\\n46.3 3.3 46.5 3.9', None], ['08. Middle Ground', '1.6 1.3 9.7 4.7 5.8 1.7 75.3', '40.8 8.3 41.7 9.2', '4.2 6.0 22.6 4.1 18.9 9.5 22.1 12.7']]]\n",
            "[[['United States', '1.5 1.3 10.3 5.4 5.7 1.4 74.5', '41.5 8.0 41.8 8.7', '4.1 5.9 23.1 4.0 18.3 9.4 21.7 13.4'], ['09. Senior Styles', '1.0 0.7 5.9 3.2 4.1 1.2 84.0', '38.5 10.5 38.9 12.1', '3.0 5.4 22.7 3.6 18.7 8.7 22.2 15.8'], [None, '0.6 0.5 4.5 2.7 2.5 0.8 88.4\\n1.4 0.9 7.1 3.8 4.8 1.6 80.4\\n0.3 0.2 1.9 1.1 1.8 0.5 94.3\\n0.9 0.8 7.2 3.8 2.9 0.5 83.9\\n1.0 0.8 6.4 3.3 5.1 1.3 82.2\\n1.0 0.9 5.9 3.1 6.4 1.8 81.0', '38.4 11.6 38.1 11.9\\n35.8 13.1 35.6 15.5\\n36.2 12.0 38.6 13.2\\n43.1 6.5 43.2 7.1\\n39.0 10.0 39.7 11.3\\n38.5 9.9 39.8 11.8', None], ['10. Rustic Outposts', '1.2 1.3 10.6 5.5 3.4 0.6 77.4', '44.1 5.6 44.3 6.0', '5.3 10.1 32.4 7.2 19.3 9.6 10.7 5.4'], [None, '1.2 1.3 10.9 5.7 3.5 0.6 76.8\\n1.1 1.1 9.4 5.1 2.8 0.5 80.0\\n1.2 1.2 11.0 5.4 3.0 0.5 77.6\\n1.4 1.5 12.3 6.1 4.0 0.6 74.0\\n1.3 1.2 9.9 5.4 3.3 0.5 78.4', '43.5 6.1 43.8 6.6\\n43.8 6.3 43.6 6.3\\n45.3 4.6 45.2 5.0\\n45.0 4.6 45.4 5.1\\n44.5 5.2 44.8 5.4', None], ['11. Midtown Singles', '1.7 1.5 10.6 4.8 6.6 1.9 73.0', '41.7 6.4 44.2 7.6', '5.0 8.0 24.7 4.8 20.5 9.3 18.4 9.3'], [None, '1.8 1.4 10.6 5.5 5.9 1.5 73.3\\n1.4 1.2 8.0 3.5 8.0 3.2 74.7\\n1.8 1.8 12.6 5.6 5.9 1.3 71.2\\n1.3 1.1 8.3 3.8 7.4 2.0 76.1\\n2.4 2.2 14.4 6.4 5.1 0.9 68.6', '39.8 7.5 43.0 9.6\\n40.5 7.2 44.1 8.2\\n44.1 4.9 45.1 5.9\\n40.4 8.5 41.9 9.3\\n42.7 4.9 46.4 6.0', None], ['12. Hometown', '1.5 1.4 10.8 5.5 4.4 0.8 75.7', '43.2 5.6 44.7 6.5', '4.5 10.0 31.5 6.4 21.3 9.4 11.3 5.6'], [None, '1.5 1.2 10.7 5.9 5.2 1.2 74.3\\n1.5 1.5 11.2 5.5 4.3 0.8 75.2\\n1.4 1.2 9.9 4.9 4.1 0.7 77.8\\n1.6 1.4 11.4 5.8 4.4 0.7 74.7', '41.5 6.1 44.9 7.5\\n43.8 5.6 44.3 6.3\\n43.9 5.8 44.0 6.2\\n42.9 5.0 45.8 6.3', None], ['13. Next Wave', '1.7 1.7 13.0 6.4 5.8 1.0 70.4', '44.8 4.7 45.2 5.3', '16.6 12.5 26.7 3.9 15.7 6.5 12.8 5.2'], [None, '1.6 1.4 10.8 5.4 6.2 1.4 73.1\\n1.7 1.7 13.6 7.4 6.4 0.7 68.6\\n1.8 2.0 14.8 6.7 4.7 0.7 69.3\\n1.9 1.9 14.3 6.9 5.2 0.8 69.0\\n1.9 1.7 12.2 6.2 6.1 1.2 70.7', '42.6 6.5 43.6 7.3\\n46.6 3.0 46.9 3.4\\n46.3 4.2 45.0 4.5\\n44.7 4.2 46.0 5.1\\n43.2 5.5 44.5 6.8', None], ['14. Scholars and Patriots', '0.8 0.6 4.1 1.8 47.4 5.6 39.7', '38.7 9.9 40.2 11.2', '2.0 3.5 14.7 2.9 18.9 8.9 27.7 21.5'], [None, '2.3 1.7 10.8 3.2 9.9 1.9 70.2\\n0.9 0.7 4.6 2.4 34.1 6.3 51.0\\n0.3 0.1 1.1 0.7 75.0 6.2 16.6', '45.4 9.2 37.9 7.4\\n38.7 10.1 39.6 11.6\\n37.9 9.8 40.9 11.4', None]]]\n",
            "[[['United States', '$72,400', '$155,900', '62.4', '4.1', '1.5 7.1 9.6 2.5 10.8 6.4 1.9 6.8 48.5 4.9', '17.6 24.0 9.2 11.1 15.9 0.6 5.2 3.0 5.4 8.1'], ['01. Affluent Estates', '$143,800', '$786,400', '65.3', '2.8', '0.7 5.3 8.6 2.9 8.7 4.7 2.4 10.3 51.4 5.0', '28.6 33.1 10.2 8.7 8.8 0.1 2.7 1.7 2.1 3.8'], [None, '$200,000\\n$162,400\\n$136,000\\n$128,200\\n$120,800', '$1,552,600\\n$958,800\\n$522,700\\n$699,800\\n$748,400', '61.1\\n68.6\\n70.0\\n66.2\\n59.3', '2.8\\n2.6\\n2.8\\n2.8\\n2.7', '0.5 3.8 6.9 3.0 6.7 2.9 3.1 13.6 55.6 3.9\\n0.7 4.6 10.1 3.2 8.6 4.5 2.5 10.7 50.6 4.6\\n0.9 4.9 9.0 3.0 9.5 5.7 2.4 10.1 48.9 5.6\\n0.7 6.3 9.1 2.9 9.2 5.2 2.1 9.0 50.1 5.3\\n1.0 5.8 7.4 2.6 8.5 4.3 2.1 9.6 53.6 5.2', None], ['02. Upscale Avenues', '$115,900', '$379,200', '66.8', '3.8', '0.4 5.7 7.3 2.5 9.2 5.7 2.9 8.4 52.4 5.4', '23.2 31.8 8.9 10.3 12.2 0.1 3.6 2.1 2.7 5.0'], [None, '$137,300\\n$114,300\\n$116,000\\n$106,600', '$551,200\\n$513,200\\n$430,300\\n$167,300', '67.2\\n65.4\\n60.8\\n72.8', '3.1\\n4.0\\n4.8\\n3.4', '0.6 4.3 6.2 2.3 7.4 3.4 3.8 9.8 57.7 4.5\\n0.4 7.3 7.0 2.6 9.9 6.7 2.5 7.6 50.0 5.9\\n0.3 5.5 8.4 3.0 10.0 7.3 2.5 7.6 50.3 5.2\\n0.4 4.4 8.2 2.4 9.1 5.1 3.0 8.7 52.9 5.6', None], ['03. Uptown Individuals', '$105,500', '$78,600', '73.6', '3.5', '0.3 2.9 4.9 2.0 7.3 3.6 4.9 10.7 59.2 4.2', '29.2 39.0 8.3 7.3 9.5 0.1 1.6 0.9 1.4 2.8'], [None, '$151,600\\n$93,000\\n$95,900', '$189,200\\n$50,500\\n$67,800', '72.9\\n75.3\\n71.9', '3.1\\n3.0\\n4.7', '0.3 2.1 4.3 1.9 5.7 2.5 5.8 13.9 59.0 4.5\\n0.4 2.8 5.5 2.0 7.7 3.7 3.7 10.6 59.2 4.3\\n0.2 4.0 4.7 1.9 8.1 4.4 5.7 7.6 59.5 3.8', None], ['04. Family Landscapes', '$90,200', '$253,000', '68.3', '3.1', '1.1 7.2 10.1 2.8 11.1 6.9 1.7 7.4 45.9 5.8', '19.0 24.7 9.5 11.9 13.6 0.3 4.9 3.5 5.0 7.5'], [None, '$108,300\\n$85,800\\n$76,600', '$360,800\\n$243,800\\n$177,100', '69.7\\n69.5\\n66.0', '2.8\\n3.8\\n3.1', '0.8 6.5 9.8 2.9 10.4 6.5 1.9 8.4 46.8 6.0\\n0.7 7.4 8.6 2.7 11.7 7.5 1.9 7.4 46.7 5.5\\n1.6 8.0 11.3 2.6 11.6 7.0 1.5 6.2 44.4 5.8', None], ['05. GenXurban', '$76,400', '$219,000', '63.2', '3.2', '0.9 6.6 10.0 2.5 11.2 6.0 1.6 6.9 48.9 5.4', '17.4 25.8 9.2 11.9 14.7 0.3 4.7 3.1 5.3 7.5'], [None, '$89,300\\n$88,900\\n$76,800\\n$62,200\\n$64,700', '$363,500\\n$241,500\\n$185,100\\n$152,400\\n$191,700', '61.0\\n66.5\\n66.1\\n65.8\\n57.5', '2.8\\n2.6\\n4.1\\n3.6\\n3.2', '1.0 6.5 10.1 2.6 10.6 6.0 1.6 7.5 48.5 5.8\\n1.0 5.4 7.7 2.3 10.1 4.8 1.9 8.0 53.5 5.4\\n0.6 7.4 9.7 2.6 11.6 6.8 1.7 6.6 47.5 5.4\\n0.8 7.2 11.8 2.5 12.0 6.5 1.6 6.3 46.5 4.8\\n1.3 6.6 10.8 2.3 11.7 6.1 1.5 6.2 48.2 5.5', None], ['06. Cozy Country Living', '$73,200', '$233,300', '61.6', '2.9', '3.8 8.8 13.4 2.5 10.7 6.7 1.2 5.3 42.3 5.1', '16.5 20.7 8.4 11.0 14.6 1.2 6.5 4.2 7.6 9.2'], [None, '$94,600\\n$71,700\\n$73,600\\n$68,700\\n$63,800\\n$53,600', '$347,000\\n$231,200\\n$235,500\\n$214,300\\n$238,900\\n$123,300', '65.4\\n62.5\\n58.6\\n65.1\\n51.7\\n59.0', '2.6\\n2.8\\n3.4\\n1.9\\n3.1\\n3.6', '2.2 8.8 12.2 2.8 10.2 6.6 1.4 6.4 44.0 5.3\\n3.0 8.9 17.4 2.5 10.6 7.3 1.1 4.8 39.9 4.5\\n3.3 10.2 7.7 2.0 11.2 6.0 1.4 5.4 46.6 6.1\\n13.7 8.6 11.9 3.1 9.5 7.2 1.1 4.5 35.8 4.5\\n4.2 10.2 9.6 1.9 11.3 6.0 1.3 5.6 44.4 5.5\\n2.7 7.4 16.4 2.3 11.9 6.7 1.2 4.5 42.2 4.9', None], ['07. Sprouting Explorers', '$70,000', '$129,500', '65.4', '4.9', '2.5 9.4 8.8 2.8 11.6 8.0 1.5 5.9 44.9 4.7', '13.1 17.7 9.2 12.1 18.4 1.7 7.5 3.5 6.0 10.7'], [None, '$89,500\\n$82,900\\n$63,100\\n$51,700\\n$45,300\\n$40,000', '$190,100\\n$192,900\\n$107,600\\n$66,400\\n$24,700\\n$34,100', '70.6\\n64.2\\n65.9\\n62.4\\n59.3\\n55.1', '3.4\\n5.7\\n5.3\\n5.9\\n6.4\\n6.5', '1.0 6.8 8.1 2.8 11.3 7.8 1.9 7.8 46.4 6.2\\n1.5 9.1 10.3 3.1 11.6 8.8 1.6 5.0 45.0 3.9\\n1.1 9.8 7.9 2.6 12.4 8.6 1.5 5.6 46.3 4.2\\n3.3 15.2 12.1 2.7 11.7 7.5 0.9 3.7 40.1 2.8\\n32.3 7.3 7.4 3.3 8.8 5.4 0.7 2.0 29.9 3.0\\n2.5 11.6 6.5 2.5 12.3 8.1 1.0 4.4 47.2 3.7', None], ['08. Middle Ground', '$62,100', '$70,300', '65.4', '4.5', '0.8 6.5 8.6 2.3 11.5 6.3 1.9 6.7 50.9 4.6', '15.8 23.9 9.2 11.7 18.1 0.3 4.9 2.7 5.2 8.1']]]\n",
            "[[['United States', '$72,400', '$155,900', '62.4', '4.1', '1.5 7.1 9.6 2.5 10.8 6.4 1.9 6.8 48.5 4.9', '17.6 24.0 9.2 11.1 15.9 0.6 5.2 3.0 5.4 8.1'], ['09. Senior Styles', '$58,000', '$165,000', '45.5', '4.3', '1.0 6.2 7.1 2.3 11.3 5.5 1.8 8.2 51.7 4.7', '19.3 25.4 10.4 11.2 16.1 0.4 4.2 2.4 3.8 6.7'], [None, '$89,600\\n$89,000\\n$55,100\\n$50,000\\n$53,100\\n$24,000', '$551,300\\n$267,900\\n$316,200\\n$163,900\\n$91,200\\n$10,900', '41.3\\n55.3\\n25.4\\n45.6\\n49.5\\n44.3', '3.1\\n3.3\\n4.3\\n5.0\\n3.9\\n7.3', '1.1 7.0 5.7 2.5 11.1 4.7 1.6 10.9 51.0 4.4\\n0.5 4.8 6.9 2.5 9.6 4.8 2.3 9.7 53.8 5.0\\n0.7 6.0 5.3 2.5 13.5 5.9 1.6 9.3 50.9 4.3\\n2.6 9.7 6.9 2.1 13.1 6.5 1.3 5.3 47.1 5.4\\n0.8 5.6 8.5 2.5 11.8 5.9 1.6 7.7 51.1 4.5\\n0.6 5.1 7.9 1.8 11.4 5.9 2.1 5.8 55.2 4.2', None], ['10. Rustic Outposts', '$53,600', '$129,100', '55.9', '4.2', '3.8 10.0 13.7 2.3 11.6 7.5 1.0 4.2 40.6 5.3', '11.8 16.7 8.4 11.0 16.9 1.3 8.2 4.9 9.3 11.5'], [None, '$60,200\\n$54,000\\n$47,200\\n$50,700\\n$42,200', '$162,000\\n$155,300\\n$116,500\\n$83,500\\n$68,400', '58.9\\n53.5\\n52.2\\n59.9\\n50.1', '3.7\\n3.7\\n4.4\\n5.4\\n5.3', '3.0 10.4 13.9 2.5 11.5 7.8 1.0 4.4 40.3 5.2\\n4.8 9.7 15.0 2.1 11.2 7.5 0.9 4.0 39.3 5.5\\n9.1 9.2 7.5 2.0 11.7 7.8 1.0 3.9 42.0 5.9\\n2.8 10.9 11.6 2.3 12.8 6.8 1.1 4.3 42.9 4.6\\n3.4 8.2 16.4 2.1 11.5 7.3 0.9 3.5 40.5 6.2', None], ['11. Midtown Singles', '$46,400', '$14,400', '65.8', '6.2', '0.6 6.3 7.2 2.0 12.3 7.3 1.8 6.2 51.9 4.3', '12.3 20.2 9.4 12.4 22.9 0.3 5.1 2.5 5.2 9.7'], [None, '$59,800\\n$53,800\\n$47,000\\n$44,200\\n$24,200', '$31,900\\n$15,100\\n$14,300\\n$16,300\\n$10,600', '59.5\\n74.9\\n68.2\\n64.4\\n53.3', '9.7\\n3.9\\n5.8\\n4.9\\n11.5', '0.1 5.1 3.3 1.4 9.7 10.7 2.1 5.9 55.8 5.9\\n0.5 5.5 7.2 2.3 12.6 6.4 2.2 8.0 51.2 4.1\\n0.8 8.7 7.8 2.3 12.9 7.8 1.5 5.7 48.8 3.8\\n0.8 6.2 8.6 2.0 12.7 5.4 1.7 5.5 53.1 4.0\\n0.5 5.0 8.2 1.5 12.3 8.0 1.2 4.5 54.5 4.2', None], ['12. Hometown', '$42,800', '$43,400', '56.7', '6.5', '1.1 6.4 12.3 2.0 12.2 7.4 1.3 4.8 47.6 4.9', '9.9 16.4 8.8 12.4 22.5 0.5 5.4 3.2 8.8 12.0'], [None, '$52,300\\n$49,500\\n$40,400\\n$31,000', '$95,000\\n$66,300\\n$30,000\\n$14,100', '58.2\\n63.1\\n53.4\\n50.5', '7.9\\n4.9\\n5.0\\n10.5', '0.3 5.1 7.7 1.8 10.7 10.6 1.6 5.7 49.9 6.5\\n1.1 7.1 15.5 2.2 12.8 6.5 1.3 4.7 44.8 4.0\\n1.8 7.1 13.1 2.0 13.2 6.0 1.2 4.4 46.2 4.9\\n0.6 5.3 9.7 1.7 11.4 8.3 1.2 4.3 52.6 5.0', None], ['13. Next Wave', '$47,400', '$14,400', '62.8', '7.5', '1.2 11.0 9.3 2.7 11.2 8.0 1.4 4.4 48.3 2.5', '8.3 12.5 8.4 10.4 26.4 1.0 9.8 2.7 7.7 12.8'], [None, '$63,300\\n$53,400\\n$42,400\\n$34,400\\n$29,300', '$33,300\\n$23,300\\n$12,800\\n$12,100\\n$10,400', '66.1\\n63.2\\n68.3\\n56.8\\n52.2', '6.2\\n7.3\\n5.8\\n9.6\\n12.8', '0.5 9.3 7.7 2.5 10.8 8.4 2.0 5.1 50.9 2.8\\n1.9 10.9 13.6 3.7 11.3 9.0 1.1 3.3 42.9 2.2\\n1.7 17.8 9.3 2.4 10.6 5.8 1.1 4.0 45.5 1.7\\n1.6 8.9 10.0 2.5 12.5 7.9 1.1 3.9 48.6 3.0\\n0.2 5.4 3.8 1.7 11.8 8.9 1.7 5.7 57.5 3.2', None], ['14. Scholars and Patriots', '$38,400', '$11,600', '47.9', '5.3', '0.8 3.1 4.8 1.2 12.5 2.8 1.7 4.3 64.7 4.1', '11.8 30.5 10.5 12.2 22.0 0.4 2.4 1.7 3.0 5.4'], [None, '$62,100\\n$43,200\\n$23,000', '$13,300\\n$13,200\\n$9,200', '21.8\\n59.7\\n42.8', '5.9\\n4.3\\n6.8', '0.6 3.0 3.1 1.0 11.9 3.5 1.0 3.2 40.7 32.0\\n0.9 3.8 6.0 1.5 12.3 3.3 1.7 4.9 62.5 3.2\\n0.6 2.0 3.5 0.9 12.8 2.0 1.7 3.5 71.1 1.9', None]]]\n",
            "[[['United States', '', '$283,300', '64.6', '10.0', '61.7 5.9 3.5 4.3 4.6 4.3 9.4 6.0 0.1', '3.5 2.7 13.6 13.9 13.4 52.9'], ['01. Affluent Estates', '', '$483,600', '88.7', '5.3', '87.2 5.4 0.7 0.9 1.1 1.1 2.8 0.8 0.0', '5.6 4.1 20.2 18.3 14.6 37.2'], [None, 'Single Family\\nSingle Family\\nSingle Family\\nSingle Family\\nSingle Family', '$836,500\\n$488,900\\n$425,100\\n$418,100\\n$489,700', '90.9\\n91.1\\n83.6\\n91.1\\n86.4', '6.0\\n3.4\\n4.3\\n4.2\\n8.7', '89.2 3.9 0.8 0.7 0.8 0.7 3.5 0.3 0.0\\n89.9 4.9 0.4 0.6 0.8 0.9 1.9 0.5 0.0\\n82.1 7.9 0.3 0.9 1.7 2.5 3.9 0.7 0.0\\n90.4 4.4 0.8 0.7 0.7 0.6 1.2 1.0 0.1\\n82.9 6.2 1.0 1.4 1.5 1.2 4.2 1.4 0.0', None], ['02. Upscale Avenues', '', '$555,300', '71.5', '6.0', '62.6 11.7 3.2 3.2 4.4 4.9 9.1 0.8 0.0', '2.9 2.1 9.7 11.7 13.1 60.5'], [None, 'Single Family\\nSingle Family\\nSingle Family\\nMulti-Units; Single Family', '$743,100\\n$467,300\\n$806,400\\n$442,200', '69.5\\n84.4\\n73.3\\n53.6', '9.6\\n4.4\\n4.6\\n5.8', '60.6 8.9 3.8 4.3 4.9 4.8 12.2 0.6 0.0\\n83.6 5.7 3.2 1.6 1.3 1.2 2.5 1.0 0.0\\n66.8 14.2 5.1 3.0 2.3 1.8 6.0 0.7 0.0\\n30.7 22.4 1.7 4.8 9.7 12.3 17.4 0.9 0.1', None], ['03. Uptown Individuals', '', '$698,300', '28.8', '11.1', '10.2 6.3 4.7 8.2 9.9 10.7 49.6 0.2 0.0', '6.6 4.0 13.3 8.7 8.7 58.7'], [None, 'High Density Apartments\\nMulti-Unit Rentals\\nHigh Density Apartments', '$922,600\\n$473,100\\n$743,900', '40.3\\n22.5\\n27.6', '11.9\\n11.9\\n9.0', '11.9 7.6 5.3 8.0 9.0 8.9 49.1 0.1 0.0\\n7.4 5.2 2.5 5.4 8.3 11.4 59.5 0.2 0.0\\n12.9 6.6 7.6 12.6 13.5 11.6 35.0 0.3 0.0', None], ['04. Family Landscapes', '', '$281,100', '80.5', '4.8', '81.2 5.6 1.2 1.7 1.9 1.8 2.2 4.3 0.1', '5.5 4.2 23.3 23.7 17.1 26.2'], [None, 'Single Family\\nSingle Family\\nSingle Family', '$327,500\\n$269,300\\n$239,300', '85.4\\n80.1\\n75.7', '3.9\\n4.1\\n6.1', '85.6 6.0 0.7 1.0 1.3 1.4 2.1 1.8 0.0\\n83.4 7.0 0.9 1.6 1.7 1.7 1.9 1.7 0.0\\n75.6 4.5 1.9 2.4 2.6 2.3 2.4 8.2 0.1', None], ['05. GenXurban', '', '$238,900', '75.7', '7.2', '75.8 5.8 2.9 3.2 3.3 2.7 3.9 2.3 0.0', '2.1 1.7 8.9 10.6 12.1 64.6'], [None, 'Single Family\\nSingle Family\\nSingle Family\\nSingle Family\\nSingle Family', '$262,100\\n$319,300\\n$255,900\\n$165,100\\n$199,700', '87.7\\n70.5\\n71.5\\n72.1\\n74.9', '6.1\\n8.4\\n5.8\\n6.6\\n8.6', '87.9 4.1 1.1 1.1 1.2 0.8 1.5 2.3 0.0\\n65.5 7.9 2.9 4.4 5.5 5.1 7.0 1.6 0.0\\n67.7 9.3 4.8 4.5 4.0 3.3 4.3 2.0 0.0\\n80.1 4.0 3.6 3.1 2.8 2.1 2.3 1.9 0.0\\n75.7 4.6 2.6 3.2 3.3 2.3 4.6 3.6 0.0', None], ['06. Cozy Country Living', '', '$238,700', '82.5', '16.0', '82.0 2.0 1.6 1.5 1.3 0.9 1.2 9.4 0.1', '2.9 2.5 14.3 15.3 12.9 52.1'], [None, 'Single Family\\nSingle Family\\nSingle Family\\nSingle Family\\nSingle Family/Seasonal\\nSingle Family', '$300,900\\n$203,900\\n$322,900\\n$191,400\\n$272,600\\n$126,400', '87.9\\n85.2\\n81.2\\n81.3\\n84.6\\n71.6', '6.8\\n9.1\\n19.4\\n15.2\\n47.6\\n11.3', '87.1 2.6 1.1 0.8 0.8 0.6 0.8 6.0 0.1\\n84.3 1.5 1.3 1.0 0.8 0.5 0.5 10.2 0.1\\n77.1 2.2 1.5 1.6 1.4 0.9 1.2 13.8 0.3\\n85.1 1.1 0.9 1.2 0.9 0.6 0.7 9.4 0.1\\n78.7 1.8 1.1 1.3 1.3 1.1 1.9 12.5 0.2\\n77.1 2.5 3.3 3.3 2.7 1.7 2.2 7.2 0.1', None], ['07. Sprouting Explorers', '', '$258,500', '67.2', '5.5', '74.9 5.4 1.9 2.8 3.0 2.9 4.3 4.7 0.1', '5.5 4.3 24.2 13.3 11.8 40.9'], [None, 'Single Family\\nSingle Family\\nSingle Family\\nSingle Family\\nSingle Family\\nSingle Family', '$277,600\\n$451,300\\n$234,400\\n$149,500\\n$214,200\\n$124,200', '74.4\\n71.0\\n64.7\\n61.5\\n46.3\\n55.3', '4.9\\n3.3\\n4.9\\n7.1\\n6.7\\n9.1', '79.9 5.7 0.7 1.7 2.3 3.1 4.0 2.5 0.1\\n80.1 5.4 2.2 2.2 2.1 1.8 3.5 2.8 0.1\\n72.6 7.6 2.1 3.1 3.7 3.3 4.1 3.4 0.1\\n73.3 2.9 2.7 3.2 2.7 2.3 2.8 9.9 0.1\\n61.0 3.5 4.0 6.2 5.3 3.1 4.1 12.5 0.3\\n64.4 4.6 3.5 4.6 4.1 3.5 8.7 6.5 0.2', None], ['08. Middle Ground', '', '$281,900', '48.1', '8.8', '44.0 8.9 7.1 8.1 8.5 7.9 13.2 2.2 0.1', '2.7 2.1 9.3 11.0 13.0 61.9']]]\n",
            "[[['United States', '', '$283,300', '64.6', '10.0', '61.7 5.9 3.5 4.3 4.6 4.3 9.4 6.0 0.1', '3.5 2.7 13.6 13.9 13.4 52.9'], ['09. Senior Styles', '', '$311,100', '62.0', '19.7', '41.7 8.0 2.5 4.3 5.0 4.8 23.4 10.0 0.2', '3.2 2.2 14.2 15.2 18.3 46.9'], [None, 'Single Family/Seasonal\\nSingle Family; Multi-Units\\nSF; High-Rises; Mob. Hm/Seas.\\nSF; Mobile Homes/Seasonal\\nMulti-Units; Single Family\\nMulti-Unit Rentals', '$440,400\\n$418,800\\n$262,100\\n$178,300\\n$243,200\\n$203,300', '87.3\\n65.6\\n82.9\\n78.0\\n48.3\\n16.1', '38.6\\n12.5\\n21.8\\n21.7\\n11.4\\n12.6', '65.7 7.2 1.7 3.0 3.4 3.3 11.7 4.0 0.1\\n40.9 12.7 2.9 4.5 5.5 5.3 26.8 1.5 0.1\\n40.4 10.8 1.3 3.6 3.6 4.1 18.3 17.5 0.3\\n50.9 2.4 1.2 1.8 1.7 1.7 2.6 36.9 0.8\\n31.8 8.9 2.9 5.8 7.5 7.1 32.7 3.2 0.1\\n13.4 4.6 5.0 7.6 8.2 7.5 52.1 1.5 0.1', None], ['10. Rustic Outposts', '', '$158,200', '77.3', '13.3', '64.9 1.0 1.1 1.1 1.0 0.6 0.8 29.1 0.3', '3.5 3.0 15.6 19.5 15.8 42.6'], [None, 'Single Family; Mobile Homes\\nSingle Family; Mobile Homes\\nSingle Family; Mobile Homes\\nMobile Homes; Single Family\\nSingle Family; Mobile Homes', '$187,900\\n$157,100\\n$117,200\\n$133,800\\n$104,100', '80.5\\n82.0\\n77.3\\n66.9\\n72.0', '10.3\\n17.7\\n15.8\\n10.3\\n14.9', '67.0 0.8 0.9 0.7 0.6 0.4 0.5 28.7 0.3\\n72.5 0.8 0.8 0.7 0.5 0.3 0.4 23.8 0.3\\n68.4 0.8 1.1 1.2 1.3 0.7 1.0 25.2 0.3\\n44.3 2.1 1.6 2.1 2.3 1.9 2.6 42.9 0.4\\n63.3 0.8 1.9 1.8 1.6 0.6 0.8 29.1 0.2', None], ['11. Midtown Singles', '', '$219,300', '25.5', '10.2', '23.0 8.1 7.7 11.7 14.0 14.1 19.6 1.7 0.1', '2.7 2.4 9.3 12.4 15.5 57.8'], [None, 'High Density Apartments\\nMulti-Unit Rentals\\nMulti-Unit Rentals; Single Family\\nMulti-Unit Rentals; Single Family\\nMulti-Unit Rentals; Single Family', '$465,100\\n$241,000\\n$200,200\\n$190,600\\n$99,900', '35.3\\n16.2\\n26.5\\n31.0\\n25.1', '7.9\\n9.5\\n8.3\\n11.8\\n14.1', '15.6 12.5 19.5 17.4 8.2 6.4 20.2 0.2 0.0\\n11.7 6.0 2.3 9.1 18.0 23.3 28.4 1.1 0.1\\n24.6 8.1 4.3 11.0 15.4 16.3 17.2 3.0 0.1\\n31.7 6.3 9.0 12.8 11.7 9.6 16.7 2.1 0.1\\n33.6 10.7 10.9 11.4 12.7 7.5 11.4 1.8 0.0', None], ['12. Hometown', '', '$111,700', '55.6', '12.3', '67.5 5.9 6.1 5.0 4.2 2.7 5.0 3.6 0.1', '1.2 1.2 5.0 6.1 7.5 79.0'], [None, 'Single Family\\nSingle Family\\nSingle Family\\nSingle Family', '$164,700\\n$99,000\\n$118,100\\n$82,900', '64.9\\n59.8\\n52.5\\n46.1', '8.9\\n10.2\\n12.7\\n17.1', '73.1 8.7 3.5 3.0 2.8 2.3 4.8 1.7 0.0\\n75.5 3.4 6.3 4.3 3.3 2.2 2.6 2.4 0.1\\n61.1 3.6 5.6 6.4 5.9 3.4 7.1 6.7 0.1\\n61.4 10.2 8.3 5.5 4.1 2.5 5.5 2.5 0.0', None], ['13. Next Wave', '', '$348,800', '25.8', '6.6', '23.9 8.3 9.8 12.5 10.6 9.6 23.2 2.1 0.1', '1.8 1.5 6.0 7.0 10.1 73.6'], [None, 'High Density Apts; Single Family\\nSingle Family; Multi-Unit Rentals\\nMulti-Unit Rentals\\nMulti-Unit Rentals; Single Family\\nHigh-Rise Rentals', '$474,500\\n$387,500\\n$196,800\\n$182,900\\n$458,800', '30.3\\n38.1\\n18.5\\n28.7\\n4.4', '6.4\\n4.2\\n8.3\\n8.4\\n5.5', '22.7 7.5 13.6 14.7 11.2 9.0 20.2 1.0 0.1\\n45.8 8.7 10.1 11.4 7.8 5.2 8.3 2.8 0.1\\n18.3 4.8 5.5 11.6 15.1 17.5 22.3 4.7 0.1\\n25.4 17.7 12.7 16.3 9.6 5.8 10.9 1.6 0.1\\n1.7 3.0 2.9 5.0 7.2 9.8 70.1 0.2 0.1', None], ['14. Scholars and Patriots', '', '$252,700', '19.9', '13.5', '24.7 9.8 6.5 9.7 11.6 13.0 23.1 1.5 0.1', '5.0 5.3 13.5 14.5 12.3 49.4'], [None, 'Townhomes; Multi-Unit Rentals\\nMulti-Unit Rentals; Single Family\\nMulti-Unit Rentals', '$229,900\\n$252,800\\n$256,600', '4.1\\n27.9\\n9.2', '12.4\\n12.8\\n15.1', '24.5 49.4 9.1 8.8 3.8 1.3 2.5 0.6 0.0\\n30.5 6.0 6.7 10.0 11.5 12.3 20.9 2.0 0.1\\n13.4 3.7 5.1 9.4 14.5 18.2 34.7 0.9 0.0', None]]]\n"
          ]
        }
      ]
    },
    {
      "cell_type": "markdown",
      "source": [
        "#### Using PyMuPDF"
      ],
      "metadata": {
        "id": "awwLWQqQhmO2"
      }
    },
    {
      "cell_type": "code",
      "source": [
        "install_package('pymupdf')\n",
        "import fitz # package within PyMuPDF that's used to render images"
      ],
      "metadata": {
        "colab": {
          "base_uri": "https://localhost:8080/"
        },
        "id": "NVUcZ9ScsfGa",
        "outputId": "1241a7d5-0d58-487b-a90a-24114d5c2fc5"
      },
      "execution_count": 11,
      "outputs": [
        {
          "output_type": "stream",
          "name": "stdout",
          "text": [
            "pymupdf is already installed.\n"
          ]
        }
      ]
    },
    {
      "cell_type": "code",
      "source": [
        "# !pip install pymupdf\n",
        "# import fitz"
      ],
      "metadata": {
        "colab": {
          "base_uri": "https://localhost:8080/"
        },
        "id": "NBoV0Fvohs9h",
        "outputId": "f9d15784-e42a-4701-9443-5abfde52b4c5"
      },
      "execution_count": null,
      "outputs": [
        {
          "output_type": "stream",
          "name": "stdout",
          "text": [
            "Requirement already satisfied: pymupdf in /usr/local/lib/python3.10/dist-packages (1.25.0)\n"
          ]
        }
      ]
    },
    {
      "cell_type": "code",
      "source": [
        "document = fitz.open(pdf_path) # create object of the pdf\n",
        "print(f' There are {document.page_count} in the document')\n",
        "\n",
        "print('-----------')\n",
        "\n",
        "# get metadata\n",
        "print(document.metadata)"
      ],
      "metadata": {
        "colab": {
          "base_uri": "https://localhost:8080/"
        },
        "id": "SPuLFUoPhxGF",
        "outputId": "261f0cf7-9895-4fb5-d38f-833154237f9b"
      },
      "execution_count": 12,
      "outputs": [
        {
          "output_type": "stream",
          "name": "stdout",
          "text": [
            " There are 8 in the document\n",
            "-----------\n",
            "{'format': 'PDF 1.6', 'title': '', 'author': 'Douglas Skuta', 'subject': '', 'keywords': '', 'creator': 'Acrobat PDFMaker 22 for Excel', 'producer': 'Adobe PDF Library 22.1.149', 'creationDate': \"D:20220518154038-04'00'\", 'modDate': \"D:20220518154046-04'00'\", 'trapped': '', 'encryption': None}\n"
          ]
        }
      ]
    },
    {
      "cell_type": "code",
      "source": [
        "# get access to page 1\n",
        "page = document.load_page(0)\n",
        "\n",
        "# print(page.get_text())\n",
        "\n",
        "# commented that out because it's a billion lines long, lol"
      ],
      "metadata": {
        "collapsed": true,
        "id": "rYqsg9h4iH0p"
      },
      "execution_count": 13,
      "outputs": []
    },
    {
      "cell_type": "code",
      "source": [
        "# Turn the pdf into an image\n",
        "\n",
        "pictures = page.get_pixmap()\n",
        "\n",
        "pictures.save(f'page_{page.number}.png') # page.number returns the number of that page"
      ],
      "metadata": {
        "id": "MjKRKYkhidhG"
      },
      "execution_count": 14,
      "outputs": []
    },
    {
      "cell_type": "code",
      "source": [
        "# get the links from the page(s)\n",
        "\n",
        "# As far as I can tell, the links in the pdf are embedded in the images\n",
        "# Which is why I think the list is empty? Idk\n",
        "links = []\n",
        "\n",
        "for page_number in range(document.page_count):\n",
        "  page = document[page_number]\n",
        "  links.extend(page.get_links())\n",
        "\n",
        "print(links)"
      ],
      "metadata": {
        "colab": {
          "base_uri": "https://localhost:8080/"
        },
        "id": "6I0CuLT0jBAw",
        "outputId": "37e85237-6ae8-44fd-e83a-6eefc109e831"
      },
      "execution_count": 15,
      "outputs": [
        {
          "output_type": "stream",
          "name": "stdout",
          "text": [
            "[]\n"
          ]
        }
      ]
    },
    {
      "cell_type": "code",
      "source": [
        "############################################################################################\n",
        "################ OLD VERSION BEFORE ADDING LIST RETURN #####################################\n",
        "############################################################################################\n",
        "\n",
        "# def pdf_to_images(pdf_path, image_format='png'):\n",
        "#     \"\"\"\n",
        "#     Converts a PDF file into a sequence of images, with an image for each page.\n",
        "\n",
        "#     Args:\n",
        "#         pdf_path (str): Path to the PDF file.\n",
        "#         image_format (str, optional): 'png', 'jpg' etc. default is 'png'\n",
        "\n",
        "#     Returns:\n",
        "#         None\n",
        "#     \"\"\"\n",
        "\n",
        "\n",
        "#     with fitz.open(pdf_path) as doc:\n",
        "#         for page_num in range(doc.page_count):\n",
        "#             page = doc.load_page(page_num)\n",
        "#             pix = page.get_pixmap()\n",
        "#             pix.save(f\"page_{page_num}.{image_format}\")\n",
        "\n",
        "\n",
        "# # call it, friendo\n",
        "# pdf_to_images(pdf_path)"
      ],
      "metadata": {
        "id": "UZSojjmAvZyV"
      },
      "execution_count": 14,
      "outputs": []
    },
    {
      "cell_type": "markdown",
      "source": [
        "function to iterate over the entire length of the pdf and create a (png) image of each page, stored within the file directory of this notebook\n",
        "\n",
        "update: added image_filenames = [] to return a list of them to export to g drive easier."
      ],
      "metadata": {
        "id": "Y7DMR-d2uSnS"
      }
    },
    {
      "cell_type": "code",
      "source": [
        "\n",
        "\n",
        "def pdf_to_images(pdf_path, image_format='png'):\n",
        "    \"\"\"\n",
        "    Converts a PDF file into a sequence of images, with an image for each page.\n",
        "\n",
        "    Args:\n",
        "        pdf_path (str): Path to the PDF file.\n",
        "        image_format (str, optional): 'png', 'jpg' etc. default is 'png'\n",
        "\n",
        "    Returns:\n",
        "        A list of image filenames. (to then export to gdrive)\n",
        "    \"\"\"\n",
        "    image_filenames = []    # Initialize empty list to store image file names\n",
        "\n",
        "    with fitz.open(pdf_path) as doc:\n",
        "        for page_num in range(doc.page_count):\n",
        "            page = doc.load_page(page_num)\n",
        "            pix = page.get_pixmap()\n",
        "            filename = f'page_{page_num}.{image_format}' ## Create filename\n",
        "            pix.save(filename) # save the image(s)\n",
        "            image_filenames.append(filename) # add filename to list\n",
        "\n",
        "    return image_filenames # Return the list of image filenames\n",
        "\n",
        "\n",
        "# call it, friendo\n",
        "\n",
        "pdf_to_images(pdf_path)\n",
        "\n",
        "\n",
        "image_collection = pdf_to_images(pdf_path)\n",
        "image_collection"
      ],
      "metadata": {
        "colab": {
          "base_uri": "https://localhost:8080/"
        },
        "id": "syuQ-H85qFlw",
        "outputId": "854f08dc-9b8c-4cea-f6d9-ff65e5601674"
      },
      "execution_count": 26,
      "outputs": [
        {
          "output_type": "execute_result",
          "data": {
            "text/plain": [
              "['page_0.png',\n",
              " 'page_1.png',\n",
              " 'page_2.png',\n",
              " 'page_3.png',\n",
              " 'page_4.png',\n",
              " 'page_5.png',\n",
              " 'page_6.png',\n",
              " 'page_7.png']"
            ]
          },
          "metadata": {},
          "execution_count": 26
        }
      ]
    },
    {
      "cell_type": "code",
      "source": [
        "# Specify the target folder\n",
        "target_path = '/content/drive/MyDrive/Colab Notebooks/ESRI_related_notebooks_n_pdfs/ESRI_image_exports'\n",
        "\n",
        "for i, filename in enumerate(image_collection):\n",
        "  img = Image.open(filename) # Open the image using the filename\n",
        "  filename = f'{target_path}/image_{i}.png' # Create the filename\n",
        "  img.save(filename) # Save the image to the target path"
      ],
      "metadata": {
        "id": "lh-4JGZ5wmxg"
      },
      "execution_count": 27,
      "outputs": []
    },
    {
      "cell_type": "code",
      "source": [],
      "metadata": {
        "id": "zwdZ4uDRt-m4"
      },
      "execution_count": null,
      "outputs": []
    },
    {
      "cell_type": "markdown",
      "source": [
        "Scrap below"
      ],
      "metadata": {
        "id": "Vu_LXbgTg04k"
      }
    }
  ]
}