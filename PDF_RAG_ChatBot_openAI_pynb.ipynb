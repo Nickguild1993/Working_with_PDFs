{
  "nbformat": 4,
  "nbformat_minor": 0,
  "metadata": {
    "colab": {
      "provenance": [],
      "authorship_tag": "ABX9TyO0HRtDJuvRVxu4b2CpanXA",
      "include_colab_link": true
    },
    "kernelspec": {
      "name": "python3",
      "display_name": "Python 3"
    },
    "language_info": {
      "name": "python"
    }
  },
  "cells": [
    {
      "cell_type": "markdown",
      "metadata": {
        "id": "view-in-github",
        "colab_type": "text"
      },
      "source": [
        "<a href=\"https://colab.research.google.com/github/Nickguild1993/Working_with_PDFs/blob/main/PDF_RAG_ChatBot_openAI_pynb.ipynb\" target=\"_parent\"><img src=\"https://colab.research.google.com/assets/colab-badge.svg\" alt=\"Open In Colab\"/></a>"
      ]
    },
    {
      "cell_type": "markdown",
      "source": [
        "**Loading in a pdf, extracting the text (can do tables and images as well) and querying the RAG system for information within the PDF using a chat bot**\n",
        "\n",
        "RAG: Retrieval-Augmented Generation\n",
        "RAG stands for Retrieval-Augmented Generation. It's an AI technique that combines the power of large language models (LLMs) with defined knowledge sources/documents."
      ],
      "metadata": {
        "id": "kweidrH9RckD"
      }
    },
    {
      "cell_type": "markdown",
      "source": [
        "There are a few PDF libraries that you can use: PyPDF, PdfPlumber, and PyMuPDF.  "
      ],
      "metadata": {
        "id": "L9hViulPrmnq"
      }
    },
    {
      "cell_type": "code",
      "source": [
        "# This function removes the annonyingly long output that occurs when !pip installing a package that's already loaded\n",
        "# Maybe I'm the only one bothered by this, haha.\n",
        "\n",
        "import importlib\n",
        "import subprocess\n",
        "\n",
        "def install_package(package_name):\n",
        "  try:\n",
        "    importlib.import_module(package_name)\n",
        "    print(f\"{package_name} is already installed.\")\n",
        "  except ImportError:\n",
        "    subprocess.check_call([\"pip\", \"install\", package_name])\n",
        "    print(f\"{package_name} installed successfully.\")"
      ],
      "metadata": {
        "id": "xr2bWsYhrWIE"
      },
      "execution_count": 44,
      "outputs": []
    },
    {
      "cell_type": "code",
      "execution_count": 45,
      "metadata": {
        "colab": {
          "base_uri": "https://localhost:8080/"
        },
        "id": "FpEpFZ3LRWc4",
        "outputId": "483d8115-9e67-458d-a604-c6f784f3e3d9"
      },
      "outputs": [
        {
          "output_type": "stream",
          "name": "stdout",
          "text": [
            "Drive already mounted at /content/drive; to attempt to forcibly remount, call drive.mount(\"/content/drive\", force_remount=True).\n"
          ]
        }
      ],
      "source": [
        "# import the normies\n",
        "\n",
        "import pandas as pd\n",
        "import numpy as np\n",
        "from google.colab import drive\n",
        "from PIL import Image\n",
        "drive.mount('/content/drive')"
      ]
    },
    {
      "cell_type": "code",
      "source": [
        "install_package(\"langchain\")\n",
        "install_package(\"openai\")\n",
        "install_package(\"tiktoken\")\n",
        "install_package(\"faiss-gpu\")\n",
        "install_package(\"langchain_experimental\")\n",
        "install_package('pypdf')"
      ],
      "metadata": {
        "colab": {
          "base_uri": "https://localhost:8080/"
        },
        "id": "eKCHQ_78yYUc",
        "outputId": "eb9d4a81-ba0f-48a3-f3f8-74d3874319d4"
      },
      "execution_count": 48,
      "outputs": [
        {
          "output_type": "stream",
          "name": "stdout",
          "text": [
            "langchain is already installed.\n",
            "openai is already installed.\n",
            "tiktoken is already installed.\n",
            "faiss-gpu installed successfully.\n",
            "langchain_experimental is already installed.\n",
            "pypdf is already installed.\n"
          ]
        }
      ]
    },
    {
      "cell_type": "code",
      "source": [
        "# pip instlaling these instead of using the function b/c they are different formats\n",
        "!pip install \"langchain[docarray]\"\n",
        "!pip install -U langchain-openai\n"
      ],
      "metadata": {
        "colab": {
          "base_uri": "https://localhost:8080/"
        },
        "collapsed": true,
        "id": "24dKu0b4m4aq",
        "outputId": "4e3eff61-d1dc-4b30-c22a-14cdab9b028f"
      },
      "execution_count": 49,
      "outputs": [
        {
          "output_type": "stream",
          "name": "stdout",
          "text": [
            "Requirement already satisfied: langchain[docarray] in /usr/local/lib/python3.10/dist-packages (0.3.12)\n",
            "\u001b[33mWARNING: langchain 0.3.12 does not provide the extra 'docarray'\u001b[0m\u001b[33m\n",
            "\u001b[0mRequirement already satisfied: PyYAML>=5.3 in /usr/local/lib/python3.10/dist-packages (from langchain[docarray]) (6.0.2)\n",
            "Requirement already satisfied: SQLAlchemy<3,>=1.4 in /usr/local/lib/python3.10/dist-packages (from langchain[docarray]) (2.0.36)\n",
            "Requirement already satisfied: aiohttp<4.0.0,>=3.8.3 in /usr/local/lib/python3.10/dist-packages (from langchain[docarray]) (3.11.10)\n",
            "Requirement already satisfied: async-timeout<5.0.0,>=4.0.0 in /usr/local/lib/python3.10/dist-packages (from langchain[docarray]) (4.0.3)\n",
            "Requirement already satisfied: langchain-core<0.4.0,>=0.3.25 in /usr/local/lib/python3.10/dist-packages (from langchain[docarray]) (0.3.25)\n",
            "Requirement already satisfied: langchain-text-splitters<0.4.0,>=0.3.3 in /usr/local/lib/python3.10/dist-packages (from langchain[docarray]) (0.3.3)\n",
            "Requirement already satisfied: langsmith<0.3,>=0.1.17 in /usr/local/lib/python3.10/dist-packages (from langchain[docarray]) (0.2.2)\n",
            "Requirement already satisfied: numpy<2,>=1.22.4 in /usr/local/lib/python3.10/dist-packages (from langchain[docarray]) (1.26.4)\n",
            "Requirement already satisfied: pydantic<3.0.0,>=2.7.4 in /usr/local/lib/python3.10/dist-packages (from langchain[docarray]) (2.10.3)\n",
            "Requirement already satisfied: requests<3,>=2 in /usr/local/lib/python3.10/dist-packages (from langchain[docarray]) (2.32.3)\n",
            "Requirement already satisfied: tenacity!=8.4.0,<10,>=8.1.0 in /usr/local/lib/python3.10/dist-packages (from langchain[docarray]) (9.0.0)\n",
            "Requirement already satisfied: aiohappyeyeballs>=2.3.0 in /usr/local/lib/python3.10/dist-packages (from aiohttp<4.0.0,>=3.8.3->langchain[docarray]) (2.4.4)\n",
            "Requirement already satisfied: aiosignal>=1.1.2 in /usr/local/lib/python3.10/dist-packages (from aiohttp<4.0.0,>=3.8.3->langchain[docarray]) (1.3.1)\n",
            "Requirement already satisfied: attrs>=17.3.0 in /usr/local/lib/python3.10/dist-packages (from aiohttp<4.0.0,>=3.8.3->langchain[docarray]) (24.2.0)\n",
            "Requirement already satisfied: frozenlist>=1.1.1 in /usr/local/lib/python3.10/dist-packages (from aiohttp<4.0.0,>=3.8.3->langchain[docarray]) (1.5.0)\n",
            "Requirement already satisfied: multidict<7.0,>=4.5 in /usr/local/lib/python3.10/dist-packages (from aiohttp<4.0.0,>=3.8.3->langchain[docarray]) (6.1.0)\n",
            "Requirement already satisfied: propcache>=0.2.0 in /usr/local/lib/python3.10/dist-packages (from aiohttp<4.0.0,>=3.8.3->langchain[docarray]) (0.2.1)\n",
            "Requirement already satisfied: yarl<2.0,>=1.17.0 in /usr/local/lib/python3.10/dist-packages (from aiohttp<4.0.0,>=3.8.3->langchain[docarray]) (1.18.3)\n",
            "Requirement already satisfied: jsonpatch<2.0,>=1.33 in /usr/local/lib/python3.10/dist-packages (from langchain-core<0.4.0,>=0.3.25->langchain[docarray]) (1.33)\n",
            "Requirement already satisfied: packaging<25,>=23.2 in /usr/local/lib/python3.10/dist-packages (from langchain-core<0.4.0,>=0.3.25->langchain[docarray]) (24.2)\n",
            "Requirement already satisfied: typing-extensions>=4.7 in /usr/local/lib/python3.10/dist-packages (from langchain-core<0.4.0,>=0.3.25->langchain[docarray]) (4.12.2)\n",
            "Requirement already satisfied: httpx<1,>=0.23.0 in /usr/local/lib/python3.10/dist-packages (from langsmith<0.3,>=0.1.17->langchain[docarray]) (0.27.2)\n",
            "Requirement already satisfied: orjson<4.0.0,>=3.9.14 in /usr/local/lib/python3.10/dist-packages (from langsmith<0.3,>=0.1.17->langchain[docarray]) (3.10.12)\n",
            "Requirement already satisfied: requests-toolbelt<2.0.0,>=1.0.0 in /usr/local/lib/python3.10/dist-packages (from langsmith<0.3,>=0.1.17->langchain[docarray]) (1.0.0)\n",
            "Requirement already satisfied: annotated-types>=0.6.0 in /usr/local/lib/python3.10/dist-packages (from pydantic<3.0.0,>=2.7.4->langchain[docarray]) (0.7.0)\n",
            "Requirement already satisfied: pydantic-core==2.27.1 in /usr/local/lib/python3.10/dist-packages (from pydantic<3.0.0,>=2.7.4->langchain[docarray]) (2.27.1)\n",
            "Requirement already satisfied: charset-normalizer<4,>=2 in /usr/local/lib/python3.10/dist-packages (from requests<3,>=2->langchain[docarray]) (3.4.0)\n",
            "Requirement already satisfied: idna<4,>=2.5 in /usr/local/lib/python3.10/dist-packages (from requests<3,>=2->langchain[docarray]) (3.10)\n",
            "Requirement already satisfied: urllib3<3,>=1.21.1 in /usr/local/lib/python3.10/dist-packages (from requests<3,>=2->langchain[docarray]) (2.2.3)\n",
            "Requirement already satisfied: certifi>=2017.4.17 in /usr/local/lib/python3.10/dist-packages (from requests<3,>=2->langchain[docarray]) (2024.12.14)\n",
            "Requirement already satisfied: greenlet!=0.4.17 in /usr/local/lib/python3.10/dist-packages (from SQLAlchemy<3,>=1.4->langchain[docarray]) (3.1.1)\n",
            "Requirement already satisfied: anyio in /usr/local/lib/python3.10/dist-packages (from httpx<1,>=0.23.0->langsmith<0.3,>=0.1.17->langchain[docarray]) (4.7.0)\n",
            "Requirement already satisfied: httpcore==1.* in /usr/local/lib/python3.10/dist-packages (from httpx<1,>=0.23.0->langsmith<0.3,>=0.1.17->langchain[docarray]) (1.0.7)\n",
            "Requirement already satisfied: sniffio in /usr/local/lib/python3.10/dist-packages (from httpx<1,>=0.23.0->langsmith<0.3,>=0.1.17->langchain[docarray]) (1.3.1)\n",
            "Requirement already satisfied: h11<0.15,>=0.13 in /usr/local/lib/python3.10/dist-packages (from httpcore==1.*->httpx<1,>=0.23.0->langsmith<0.3,>=0.1.17->langchain[docarray]) (0.14.0)\n",
            "Requirement already satisfied: jsonpointer>=1.9 in /usr/local/lib/python3.10/dist-packages (from jsonpatch<2.0,>=1.33->langchain-core<0.4.0,>=0.3.25->langchain[docarray]) (3.0.0)\n",
            "Requirement already satisfied: exceptiongroup>=1.0.2 in /usr/local/lib/python3.10/dist-packages (from anyio->httpx<1,>=0.23.0->langsmith<0.3,>=0.1.17->langchain[docarray]) (1.2.2)\n",
            "Requirement already satisfied: langchain-openai in /usr/local/lib/python3.10/dist-packages (0.2.12)\n",
            "Requirement already satisfied: langchain-core<0.4.0,>=0.3.21 in /usr/local/lib/python3.10/dist-packages (from langchain-openai) (0.3.25)\n",
            "Requirement already satisfied: openai<2.0.0,>=1.55.3 in /usr/local/lib/python3.10/dist-packages (from langchain-openai) (1.55.3)\n",
            "Requirement already satisfied: tiktoken<1,>=0.7 in /usr/local/lib/python3.10/dist-packages (from langchain-openai) (0.8.0)\n",
            "Requirement already satisfied: PyYAML>=5.3 in /usr/local/lib/python3.10/dist-packages (from langchain-core<0.4.0,>=0.3.21->langchain-openai) (6.0.2)\n",
            "Requirement already satisfied: jsonpatch<2.0,>=1.33 in /usr/local/lib/python3.10/dist-packages (from langchain-core<0.4.0,>=0.3.21->langchain-openai) (1.33)\n",
            "Requirement already satisfied: langsmith<0.3,>=0.1.125 in /usr/local/lib/python3.10/dist-packages (from langchain-core<0.4.0,>=0.3.21->langchain-openai) (0.2.2)\n",
            "Requirement already satisfied: packaging<25,>=23.2 in /usr/local/lib/python3.10/dist-packages (from langchain-core<0.4.0,>=0.3.21->langchain-openai) (24.2)\n",
            "Requirement already satisfied: pydantic<3.0.0,>=2.5.2 in /usr/local/lib/python3.10/dist-packages (from langchain-core<0.4.0,>=0.3.21->langchain-openai) (2.10.3)\n",
            "Requirement already satisfied: tenacity!=8.4.0,<10.0.0,>=8.1.0 in /usr/local/lib/python3.10/dist-packages (from langchain-core<0.4.0,>=0.3.21->langchain-openai) (9.0.0)\n",
            "Requirement already satisfied: typing-extensions>=4.7 in /usr/local/lib/python3.10/dist-packages (from langchain-core<0.4.0,>=0.3.21->langchain-openai) (4.12.2)\n",
            "Requirement already satisfied: anyio<5,>=3.5.0 in /usr/local/lib/python3.10/dist-packages (from openai<2.0.0,>=1.55.3->langchain-openai) (4.7.0)\n",
            "Requirement already satisfied: distro<2,>=1.7.0 in /usr/local/lib/python3.10/dist-packages (from openai<2.0.0,>=1.55.3->langchain-openai) (1.9.0)\n",
            "Requirement already satisfied: httpx<1,>=0.23.0 in /usr/local/lib/python3.10/dist-packages (from openai<2.0.0,>=1.55.3->langchain-openai) (0.27.2)\n",
            "Requirement already satisfied: jiter<1,>=0.4.0 in /usr/local/lib/python3.10/dist-packages (from openai<2.0.0,>=1.55.3->langchain-openai) (0.8.2)\n",
            "Requirement already satisfied: sniffio in /usr/local/lib/python3.10/dist-packages (from openai<2.0.0,>=1.55.3->langchain-openai) (1.3.1)\n",
            "Requirement already satisfied: tqdm>4 in /usr/local/lib/python3.10/dist-packages (from openai<2.0.0,>=1.55.3->langchain-openai) (4.67.1)\n",
            "Requirement already satisfied: regex>=2022.1.18 in /usr/local/lib/python3.10/dist-packages (from tiktoken<1,>=0.7->langchain-openai) (2024.9.11)\n",
            "Requirement already satisfied: requests>=2.26.0 in /usr/local/lib/python3.10/dist-packages (from tiktoken<1,>=0.7->langchain-openai) (2.32.3)\n",
            "Requirement already satisfied: exceptiongroup>=1.0.2 in /usr/local/lib/python3.10/dist-packages (from anyio<5,>=3.5.0->openai<2.0.0,>=1.55.3->langchain-openai) (1.2.2)\n",
            "Requirement already satisfied: idna>=2.8 in /usr/local/lib/python3.10/dist-packages (from anyio<5,>=3.5.0->openai<2.0.0,>=1.55.3->langchain-openai) (3.10)\n",
            "Requirement already satisfied: certifi in /usr/local/lib/python3.10/dist-packages (from httpx<1,>=0.23.0->openai<2.0.0,>=1.55.3->langchain-openai) (2024.12.14)\n",
            "Requirement already satisfied: httpcore==1.* in /usr/local/lib/python3.10/dist-packages (from httpx<1,>=0.23.0->openai<2.0.0,>=1.55.3->langchain-openai) (1.0.7)\n",
            "Requirement already satisfied: h11<0.15,>=0.13 in /usr/local/lib/python3.10/dist-packages (from httpcore==1.*->httpx<1,>=0.23.0->openai<2.0.0,>=1.55.3->langchain-openai) (0.14.0)\n",
            "Requirement already satisfied: jsonpointer>=1.9 in /usr/local/lib/python3.10/dist-packages (from jsonpatch<2.0,>=1.33->langchain-core<0.4.0,>=0.3.21->langchain-openai) (3.0.0)\n",
            "Requirement already satisfied: orjson<4.0.0,>=3.9.14 in /usr/local/lib/python3.10/dist-packages (from langsmith<0.3,>=0.1.125->langchain-core<0.4.0,>=0.3.21->langchain-openai) (3.10.12)\n",
            "Requirement already satisfied: requests-toolbelt<2.0.0,>=1.0.0 in /usr/local/lib/python3.10/dist-packages (from langsmith<0.3,>=0.1.125->langchain-core<0.4.0,>=0.3.21->langchain-openai) (1.0.0)\n",
            "Requirement already satisfied: annotated-types>=0.6.0 in /usr/local/lib/python3.10/dist-packages (from pydantic<3.0.0,>=2.5.2->langchain-core<0.4.0,>=0.3.21->langchain-openai) (0.7.0)\n",
            "Requirement already satisfied: pydantic-core==2.27.1 in /usr/local/lib/python3.10/dist-packages (from pydantic<3.0.0,>=2.5.2->langchain-core<0.4.0,>=0.3.21->langchain-openai) (2.27.1)\n",
            "Requirement already satisfied: charset-normalizer<4,>=2 in /usr/local/lib/python3.10/dist-packages (from requests>=2.26.0->tiktoken<1,>=0.7->langchain-openai) (3.4.0)\n",
            "Requirement already satisfied: urllib3<3,>=1.21.1 in /usr/local/lib/python3.10/dist-packages (from requests>=2.26.0->tiktoken<1,>=0.7->langchain-openai) (2.2.3)\n"
          ]
        }
      ]
    },
    {
      "cell_type": "code",
      "source": [
        "from langchain_community.document_loaders import PyPDFLoader\n",
        "from langchain.document_loaders import TextLoader\n",
        "from langchain.text_splitter import CharacterTextSplitter\n",
        "from langchain_openai import OpenAIEmbeddings\n",
        "from langchain_community.vectorstores import FAISS\n",
        "from langchain.memory import ConversationBufferMemory\n",
        "from langchain.chains import ConversationalRetrievalChain\n",
        "from langchain_openai import ChatOpenAI"
      ],
      "metadata": {
        "id": "CE0ahmPEnzFn"
      },
      "execution_count": 50,
      "outputs": []
    },
    {
      "cell_type": "code",
      "source": [
        "# this version uses pypdf instead of PyMuPDF, but it's still a good install if you're doing further text/image/table analysis\n",
        "\n",
        "install_package('PyMuPDF')\n",
        "import fitz\n",
        "install_package('pdf2image')\n",
        "import pdf2image"
      ],
      "metadata": {
        "colab": {
          "base_uri": "https://localhost:8080/"
        },
        "id": "zNFl6d0lspDW",
        "outputId": "21786775-1be7-49f9-ac89-a62c7c638f95"
      },
      "execution_count": 51,
      "outputs": [
        {
          "output_type": "stream",
          "name": "stdout",
          "text": [
            "PyMuPDF installed successfully.\n",
            "pdf2image is already installed.\n"
          ]
        }
      ]
    },
    {
      "cell_type": "code",
      "source": [
        "# get PDF path\n",
        "\n",
        "pdf_path = '/content/drive/MyDrive/Colab Notebooks/PDF_distilling_and_summarization/monetary_and_social_markets_Ariely.pdf'\n",
        "\n",
        "# load the path and define the pages\n",
        "\n",
        "loader = PyPDFLoader(pdf_path)\n",
        "pages = loader.load_and_split()"
      ],
      "metadata": {
        "id": "69FePylIoK9n"
      },
      "execution_count": 52,
      "outputs": []
    },
    {
      "cell_type": "code",
      "source": [
        "# pages[0]\n",
        "\n",
        "# Check to make sure, should return the first page"
      ],
      "metadata": {
        "collapsed": true,
        "colab": {
          "base_uri": "https://localhost:8080/"
        },
        "id": "cL1q8EbooSFZ",
        "outputId": "c3dcbb20-6eb7-46f2-e9df-bffb366f4654"
      },
      "execution_count": 9,
      "outputs": [
        {
          "output_type": "execute_result",
          "data": {
            "text/plain": [
              "Document(metadata={'source': '/content/drive/MyDrive/Colab Notebooks/PDF_distilling_and_summarization/monetary_and_social_markets_Ariely.pdf', 'page': 0}, page_content='Research Article\\nEffort for Payment\\nA Tale of Two Markets\\nJames Heyman1 and Dan Ariely2\\n1University of California, Berkeley, and2Massachusetts Institute of Technology\\nABSTRACT— The standard model of labor is one in which\\nindividuals trade their time and energy in return for\\nmonetary rewards. Building on Fiske’s relational theory\\n(1992), we propose that there are two types of markets\\nthat determine relationships between effort and payment:\\nmonetary and social. We hypothesize that monetary\\nmarkets are highly sensitive to the magnitude of compen-\\nsation, whereas social markets are not. This perspective\\ncan shed light on the well-established observation that\\npeople sometimes expend more effort in exchange for no\\npayment (a social market) than they expend when they\\nreceive low payment (a monetary market). Three exper-\\niments support these ideas. The experimental evidence\\nalso demonstrates that mixed markets (markets that in-\\nclude aspects of both social and monetary markets) more\\nclosely resemble monetary than social markets.\\nPeople often need help accomplishing tasks such as moving\\ntheir possessions to a new residence, painting a room, preparing\\ntax returns, and even taking care of their offspring. When we ask\\nfor help, we may wonder whom to approach and how best to\\nmotivate him or her. Should we ask a professional or a friend? If\\nwe ask a friend, should we offer compensation? If so, how much\\nshould we offer, and what form of compensation would be most\\neffective? Would cash or token rewards (e.g., personal gifts or\\nchocolates) provide a stronger incentive? Finally, are there in-\\nteractions between these factors such that different levels of\\nincentives are more or less effective for different forms of\\ncompensation?\\nSuppose, for example, that you are about to give birth (or pass\\na kidney stone) and want someone to be there to support and\\nhelp you. Y ou are faced with multiple options: Y ou can ask\\nfriend A; you can hire a professional doula (a birthing coach); or\\nyou can ask friend B, who is also a professional doula. Y ou want\\nsomeone motivated to give you the best possible support despite\\nthe long hours and the expected pain and difﬁculty. Y ou also\\nknow that you will get accurate information about this person’s\\nability and dedication only once you are in the hospital, well\\npast the point when you can ask someone else to help. Y ou are\\nalso considering ways to further motivate your potential helper.\\nY ou can offer the helper nothing, you can offer different amounts\\nof cash, or you can offer token rewards such as gifts. Which type\\nof reward will be the most effective, and will this depend on\\nwhom you select to help you?\\nAnother example, highly relevant to experimental psycholo-\\ngists, concerns motivating participants in laboratory experi-\\nments. Psychologists typically either pay participants or offer\\nthem a course credit as a reward for showing up, rather than\\nrewarding them directly for their effort. Participants in psy-\\nchological experiments, however, have control over their own\\neffort level and are unlikely to face any adverse consequences of\\nlow performance. Under these conditions, it is important to\\nknow how to motivate participants so they exert the maximum\\neffort in their tasks.\\nIn this article, we focus on cases such as these—that is, sit-\\nuations in which payment is independent of effort—by exam-\\nining the relationship between forms of compensation (cash vs.\\ntoken), the levels of payment (no, low, and medium), and the\\nresulting effort expended. W e propose that the relationship\\nbetween compensation and effort hinges on the distinction be-\\ntween two kinds of markets: monetary markets and social\\nmarkets, which are characterized not only by the type of good or\\nservice exchanged but also by the form of compensation offered.\\nUsing monetary payments causes participants to invoke mon-\\netary-marketplace frames and norms. When money is not in-\\nvolved (i.e., when there is no monetary reward or there is a gift')"
            ]
          },
          "metadata": {},
          "execution_count": 9
        }
      ]
    },
    {
      "cell_type": "markdown",
      "source": [
        "BECAUSE OF A SHIT UPDATE, YOU HAVE TO REVERT THE OPENAI VERSION (AS OF 12/16)\n",
        "\n",
        "https://community.openai.com/t/error-with-openai-1-56-0-client-init-got-an-unexpected-keyword-argument-proxies/1040332/11"
      ],
      "metadata": {
        "id": "5PHhcr20ksTs"
      }
    },
    {
      "cell_type": "code",
      "source": [
        "%%capture\n",
        "!pip install openai==1.55.3 httpx==0.27.2 --force-reinstall --quiet"
      ],
      "metadata": {
        "id": "WwIHcg1Jj6t5"
      },
      "execution_count": 53,
      "outputs": []
    },
    {
      "cell_type": "code",
      "source": [
        "from openai import OpenAI\n",
        "\n",
        "\n",
        "from google.colab import userdata\n",
        "\n",
        "# Retrieve API KEY\n",
        "api_key = userdata.get('nick_open_ai') # instantating client"
      ],
      "metadata": {
        "id": "oRmB0XD4kEWw"
      },
      "execution_count": 54,
      "outputs": []
    },
    {
      "cell_type": "markdown",
      "source": [
        "Create the embeddings and store them into the vector database"
      ],
      "metadata": {
        "id": "F3YRqPdeoZEh"
      }
    },
    {
      "cell_type": "code",
      "source": [
        "embeddings = OpenAIEmbeddings(openai_api_key = api_key)\n",
        "\n",
        "vectorstore = FAISS.from_documents(pages, embedding = embeddings)"
      ],
      "metadata": {
        "id": "KCZmamrpoboa"
      },
      "execution_count": 55,
      "outputs": []
    },
    {
      "cell_type": "markdown",
      "source": [
        "Need to load in the LLM model"
      ],
      "metadata": {
        "id": "vW7d1i7OpMZP"
      }
    },
    {
      "cell_type": "code",
      "source": [
        "llm = ChatOpenAI(temperature = 0.7, model_name = 'gpt-4o-mini', openai_api_key = api_key)"
      ],
      "metadata": {
        "id": "WY6xKt4bpLfu"
      },
      "execution_count": 56,
      "outputs": []
    },
    {
      "cell_type": "markdown",
      "source": [
        "Reserve memory buffer to store convos"
      ],
      "metadata": {
        "id": "MfhIrV5_pg6j"
      }
    },
    {
      "cell_type": "code",
      "source": [
        "memory = ConversationBufferMemory(memory_key='chat_history', return_messages=True)"
      ],
      "metadata": {
        "id": "pNLIqtSppliy"
      },
      "execution_count": 57,
      "outputs": []
    },
    {
      "cell_type": "markdown",
      "source": [
        "Connect those 3 elements into a new conversion chain"
      ],
      "metadata": {
        "id": "NLDnFLFPp1bf"
      }
    },
    {
      "cell_type": "code",
      "source": [
        "conversation_chain = ConversationalRetrievalChain.from_llm(\n",
        "    llm=llm,\n",
        "    chain_type=\"stuff\", # lol\n",
        "    retriever=vectorstore.as_retriever(),\n",
        "    memory=memory\n",
        ")"
      ],
      "metadata": {
        "id": "2AJh0cvip01y"
      },
      "execution_count": 58,
      "outputs": []
    },
    {
      "cell_type": "markdown",
      "source": [
        "create target_folder variable for the export path we want to use"
      ],
      "metadata": {
        "id": "64nxH-dZzsY1"
      }
    },
    {
      "cell_type": "code",
      "source": [
        "# folder for the exports\n",
        "target_folder = \"/content/drive/MyDrive/Colab Notebooks/PDF_distilling_and_summarization/processed_text\""
      ],
      "metadata": {
        "id": "0NsaA-XpwbFP"
      },
      "execution_count": null,
      "outputs": []
    },
    {
      "cell_type": "markdown",
      "source": [
        "LET'S ASK THE MODEL SOME QUESTIONS, BOYS"
      ],
      "metadata": {
        "id": "G8UfO1l6p_Bt"
      }
    },
    {
      "cell_type": "code",
      "source": [
        "query = \"Please give a detailed explanation of the two types of markets and how they differ.\"\n",
        "result = conversation_chain({\"question\" : query}) # plugging in the above query in the question field\n",
        "answer = result[\"answer\"]\n",
        "\n",
        "response_text = answer\n",
        "print(response_text)"
      ],
      "metadata": {
        "colab": {
          "base_uri": "https://localhost:8080/"
        },
        "id": "ctrbC5JeqBlv",
        "outputId": "58058f31-9550-49f9-d180-0545f77fac2c"
      },
      "execution_count": 60,
      "outputs": [
        {
          "output_type": "stream",
          "name": "stdout",
          "text": [
            "The two types of markets described in the research article are monetary markets and social markets. Here’s a detailed explanation of each type and their differences:\n",
            "\n",
            "1. **Monetary Markets**:\n",
            "   - In monetary markets, individuals exchange their time and effort for monetary compensation. This type of market is characterized by a direct relationship between the amount of payment and the effort exerted. The more money offered, the more effort individuals are likely to put in. This relationship is often described as monotonic, meaning that effort increases with higher payment levels.\n",
            "   - In these markets, norms and expectations associated with monetary compensation come into play. Participants are likely to view tasks as work and may feel obligated to reciprocate the payment with the corresponding level of effort. The presence of money creates a transactional mindset where the relationship is defined by economic exchange.\n",
            "\n",
            "2. **Social Markets**:\n",
            "   - Social markets, on the other hand, are characterized by exchanges that do not involve monetary compensation. Instead, individuals may provide help or engage in tasks out of altruism, friendship, or social obligation. In social markets, the effort exerted is largely independent of any form of compensation, meaning that individuals may be willing to expend significant effort even when there is no payment or when the payment is low.\n",
            "   - In these markets, the focus is on the social relationship rather than the economic transaction. Factors such as personal connections, communal sharing, and a sense of duty can drive motivation in social markets. For example, people might help friends with moving or offer support during difficult times without expecting anything in return.\n",
            "\n",
            "**Differences**:\n",
            "- **Nature of Compensation**: Monetary markets involve cash or financial incentives, while social markets rely on non-monetary forms of compensation or no compensation at all.\n",
            "- **Relationship Between Effort and Payment**: In monetary markets, effort is sensitive to the magnitude of payment (higher payment leads to higher effort). In social markets, effort is generally high regardless of payment levels, as the motivation is derived from social relationships rather than monetary incentives.\n",
            "- **Mindset and Expectations**: Participants in monetary markets operate under economic norms and expectations, viewing their contributions as work. In contrast, participants in social markets engage in tasks with a mindset focused on social bonds and altruism, often perceiving their actions as favors or acts of kindness.\n",
            "\n",
            "Overall, the distinction between these two types of markets highlights how different motivations can influence behavior and effort in various contexts.\n"
          ]
        }
      ]
    },
    {
      "cell_type": "code",
      "source": [
        "# # change response_text from nontype into string\n",
        "\n",
        "# response_text_string = str(response_text)"
      ],
      "metadata": {
        "id": "JIGu8_bEvEu7"
      },
      "execution_count": 37,
      "outputs": []
    },
    {
      "cell_type": "markdown",
      "source": [
        "Set up the export"
      ],
      "metadata": {
        "id": "1wVWRqrmtELG"
      }
    },
    {
      "cell_type": "code",
      "source": [
        "\n",
        "\n",
        "file_path = f'{target_folder}/ariely_two_markets.txt'\n",
        "\n",
        "with open(file_path, 'w') as f:\n",
        "  f.write(response_text)"
      ],
      "metadata": {
        "id": "C3KQTUO8tH-U"
      },
      "execution_count": 61,
      "outputs": []
    },
    {
      "cell_type": "markdown",
      "source": [
        "SUMMARIZE THE PDF!"
      ],
      "metadata": {
        "id": "JOfqGOHRqeA9"
      }
    },
    {
      "cell_type": "code",
      "source": [
        "query = \"Please provide an in depth summary of the paper\"\n",
        "result = conversation_chain({\"question\": query})\n",
        "answer = result[\"answer\"]\n",
        "\n",
        "summary_text = answer\n",
        "print(summary_text)"
      ],
      "metadata": {
        "colab": {
          "base_uri": "https://localhost:8080/"
        },
        "collapsed": true,
        "id": "ZwDvnlb7qgAz",
        "outputId": "b66d5bb2-7f57-4769-8eaa-a809dfe518f4"
      },
      "execution_count": 40,
      "outputs": [
        {
          "output_type": "stream",
          "name": "stdout",
          "text": [
            "The paper titled \"Effort for Payment: A Tale of Two Markets\" by James Heyman and Dan Ariely explores the relationship between effort and compensation, distinguishing between two types of markets: monetary and social. The authors argue that these markets influence how individuals respond to different forms of payment and levels of compensation.\n",
            "\n",
            "**Key Concepts:**\n",
            "1. **Monetary Markets:** These are sensitive to the magnitude of compensation. In these markets, people are more likely to exert effort in exchange for higher monetary rewards.\n",
            "2. **Social Markets:** These are less sensitive to compensation levels. People may exert more effort when no payment is offered than when low monetary payments are made, as social motivations can play a significant role.\n",
            "\n",
            "**Research Focus:**\n",
            "The paper examines the conditions under which individuals are motivated to help others, highlighting the complexities of compensation. It poses questions about the effectiveness of different types of rewards (cash vs. token rewards) and how these rewards interact with the levels of payment (no, low, medium).\n",
            "\n",
            "**Experiments Conducted:**\n",
            "Three experiments were performed to test the authors' hypotheses:\n",
            "\n",
            "1. **Experiment 1:** This initial experiment measured participants' intuitions about compliance with requests for assistance under various incentives. Results indicated that predicted compliance was higher when no payment was offered compared to low monetary payment, and that low candy offered better compliance than low cash payment.\n",
            "\n",
            "2. **Experiment 2:** This experiment tested actual effort exerted by participants under different payment levels in a task involving dragging a computerized ball. The findings supported the hypotheses that effort increased with higher cash payments but remained unaffected by increases in candy payments.\n",
            "\n",
            "3. **Experiment 3:** Similar to Experiment 2, this study focused on mental effort required to solve arithmetic puzzles, again contrasting cash and monetized candy rewards. The results reinforced the conclusions drawn in previous experiments regarding effort and compensation.\n",
            "\n",
            "**Conclusions:**\n",
            "The research findings suggest that individuals react differently to various forms of compensation depending on whether the context is monetary or social. The authors highlight that while monetary incentives can drive effort in tasks, social motivations can sometimes lead to greater effort even in the absence of payment. The distinction between these two markets provides valuable insights into how best to motivate individuals in various settings, such as professional and personal contexts.\n",
            "\n",
            "Overall, the paper contributes to understanding how compensation structures influence human behavior and effort, offering implications for areas like labor economics, psychology, and social interactions.\n"
          ]
        }
      ]
    },
    {
      "cell_type": "code",
      "source": [
        "# export it as a .txt file\n",
        "\n",
        "\n",
        "file_path = f'{target_folder}/ariely_summarization_of_two_markets.txt'\n",
        "with open(file_path, 'w') as f: # w = write. we're writing it to f, which is file\n",
        "  f.write(summary_text)"
      ],
      "metadata": {
        "id": "WFpso0DbwvTm"
      },
      "execution_count": 43,
      "outputs": []
    },
    {
      "cell_type": "markdown",
      "source": [
        "SCRAP BELOW, M'BOY"
      ],
      "metadata": {
        "id": "4ARMSMXUrZJq"
      }
    }
  ]
}